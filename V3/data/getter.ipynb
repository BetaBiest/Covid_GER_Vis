{
 "metadata": {
  "language_info": {
   "codemirror_mode": {
    "name": "ipython",
    "version": 3
   },
   "file_extension": ".py",
   "mimetype": "text/x-python",
   "name": "python",
   "nbconvert_exporter": "python",
   "pygments_lexer": "ipython3",
   "version": "3.7.6-final"
  },
  "orig_nbformat": 2,
  "kernelspec": {
   "name": "python37664bitac0d5f4ec08e4e2c9866d97442c37502",
   "display_name": "Python 3.7.6 64-bit"
  }
 },
 "nbformat": 4,
 "nbformat_minor": 2,
 "cells": [
  {
   "cell_type": "markdown",
   "metadata": {},
   "source": [
    "# Covid-19 data download & processing\n",
    "---\n",
    "This Python Script downloads an up-to-date dataset for **Covid-19** and exports the data to the data folder.\n",
    "\n",
    "The Data is from the **R**obert **K**och **I**nstitut downloaded over [ArcGis Hub](https://hub.arcgis.com/datasets/dd4580c810204019a7b8eb3e0b329dd6?page=15976).\n",
    "\n",
    "*Script was created on Python: 3.7.6 64-bit Kernel*"
   ]
  },
  {
   "cell_type": "code",
   "execution_count": 1,
   "metadata": {},
   "outputs": [],
   "source": [
    "import pandas as pd\n",
    "import math\n",
    "\n",
    "import io               # file operations\n",
    "import json\n",
    "\n",
    "import ssl              # secure client-server connection\n",
    "import requests         # html-requests"
   ]
  },
  {
   "cell_type": "code",
   "execution_count": 2,
   "metadata": {},
   "outputs": [],
   "source": [
    "# Uncomment next 2 lines to install jsonmerge\n",
    "#import sys\n",
    "#!{sys.executable} -m pip install jsonmerge\n",
    "from jsonmerge import Merger"
   ]
  },
  {
   "cell_type": "code",
   "execution_count": 3,
   "metadata": {},
   "outputs": [],
   "source": [
    "sourceURL = 'https://services7.arcgis.com/mOBPykOjAyBO2ZKk/arcgis/rest/services/RKI_COVID19/FeatureServer/0/query?'\n",
    "objectIdsQuery = 'where=1%3D1&returnIdsOnly=true&f=json'\n",
    "dataSetQuery = 'where=ObjectId+BETWEEN+0+AND+0' # just an example gets created later dynamically\n",
    "dataQuery = '&outSR=4326&outFields=IdBundesland,Bundesland,Landkreis,Altersgruppe,AnzahlFall,AnzahlTodesfall,ObjectId,Meldedatum,IdLandkreis,Datenstand,NeuerFall,NeuerTodesfall,Refdatum,NeuGenesen,AnzahlGenesen,IstErkrankungsbeginn&f=json'"
   ]
  },
  {
   "cell_type": "markdown",
   "metadata": {},
   "source": [
    "## Requesting which Features (ObjectID´s) are available"
   ]
  },
  {
   "cell_type": "code",
   "execution_count": 4,
   "metadata": {},
   "outputs": [
    {
     "output_type": "execute_result",
     "data": {
      "text/plain": "200"
     },
     "metadata": {},
     "execution_count": 4
    }
   ],
   "source": [
    "objectIdsRequest = requests.get(sourceURL + objectIdsQuery)\n",
    "objectIdsRequest.status_code"
   ]
  },
  {
   "cell_type": "code",
   "execution_count": 5,
   "metadata": {
    "tags": []
   },
   "outputs": [
    {
     "output_type": "stream",
     "name": "stdout",
     "text": "Range of ObjectIds: [28886606, 29068508]\n"
    }
   ],
   "source": [
    "objectIds = json.loads(objectIdsRequest.text)\n",
    "\n",
    "numOfObjectIds = len(objectIds['objectIds'])\n",
    "\n",
    "objectIdStart = objectIds['objectIds'][0]\n",
    "objectIdEnd = objectIds['objectIds'][numOfObjectIds - 1]\n",
    "print(f'Range of ObjectIds: [{objectIdStart}, {objectIdEnd}]')"
   ]
  },
  {
   "cell_type": "markdown",
   "metadata": {},
   "source": [
    "## Requesting Features"
   ]
  },
  {
   "cell_type": "code",
   "execution_count": 6,
   "metadata": {},
   "outputs": [
    {
     "output_type": "execute_result",
     "data": {
      "text/plain": "200"
     },
     "metadata": {},
     "execution_count": 6
    }
   ],
   "source": [
    "dataRequest = requests.get(sourceURL + 'where=1%3D1' + dataQuery)\n",
    "dataRequest.status_code"
   ]
  },
  {
   "cell_type": "code",
   "execution_count": 7,
   "metadata": {
    "tags": []
   },
   "outputs": [
    {
     "output_type": "stream",
     "name": "stdout",
     "text": "The download will require 36 more requests due to the server limit of 5000 features/request.\n"
    }
   ],
   "source": [
    "data = json.loads(dataRequest.text)\n",
    "maxApiRequest = len(data['features'])\n",
    "\n",
    "neededRequests = math.ceil(numOfObjectIds / maxApiRequest)\n",
    "\n",
    "print(f'The download will require {neededRequests - 1} more requests due to the server limit of {maxApiRequest} features/request.')"
   ]
  },
  {
   "cell_type": "code",
   "execution_count": 8,
   "metadata": {},
   "outputs": [],
   "source": [
    "# Json-Merger with custom rule\n",
    "jsonMergeSchema = {\"properties\":{\"features\":{\"mergeStrategy\":\"append\"}}}\n",
    "dataMerger = Merger(jsonMergeSchema)"
   ]
  },
  {
   "cell_type": "code",
   "execution_count": 9,
   "metadata": {
    "tags": []
   },
   "outputs": [
    {
     "output_type": "stream",
     "name": "stdout",
     "text": "0 Pulling ObjectIds: [28891606, 28896606]\nTotal collected features: 10000 From ObjectIds: [28886606, 28896605]\n1 Pulling ObjectIds: [28896607, 28901607]\nTotal collected features: 15000 From ObjectIds: [28886606, 28901606]\n2 Pulling ObjectIds: [28901608, 28906608]\nTotal collected features: 20000 From ObjectIds: [28886606, 28906607]\n3 Pulling ObjectIds: [28906609, 28911609]\nTotal collected features: 25000 From ObjectIds: [28886606, 28911608]\n4 Pulling ObjectIds: [28911610, 28916610]\nTotal collected features: 30000 From ObjectIds: [28886606, 28916609]\n5 Pulling ObjectIds: [28916611, 28921611]\nTotal collected features: 35000 From ObjectIds: [28886606, 28921610]\n6 Pulling ObjectIds: [28921612, 28926612]\nTotal collected features: 40000 From ObjectIds: [28886606, 28926611]\n7 Pulling ObjectIds: [28926613, 28931613]\nTotal collected features: 45000 From ObjectIds: [28886606, 28931612]\n8 Pulling ObjectIds: [28931614, 28936614]\nTotal collected features: 50000 From ObjectIds: [28886606, 28936613]\n9 Pulling ObjectIds: [28936615, 28941615]\nTotal collected features: 55000 From ObjectIds: [28886606, 28941614]\n10 Pulling ObjectIds: [28941616, 28946616]\nTotal collected features: 60000 From ObjectIds: [28886606, 28946615]\n11 Pulling ObjectIds: [28946617, 28951617]\nTotal collected features: 65000 From ObjectIds: [28886606, 28951616]\n12 Pulling ObjectIds: [28951618, 28956618]\nTotal collected features: 70000 From ObjectIds: [28886606, 28956617]\n13 Pulling ObjectIds: [28956619, 28961619]\nTotal collected features: 75000 From ObjectIds: [28886606, 28961618]\n14 Pulling ObjectIds: [28961620, 28966620]\nTotal collected features: 80000 From ObjectIds: [28886606, 28966619]\n15 Pulling ObjectIds: [28966621, 28971621]\nTotal collected features: 85000 From ObjectIds: [28886606, 28971620]\n16 Pulling ObjectIds: [28971622, 28976622]\nTotal collected features: 90000 From ObjectIds: [28886606, 28976621]\n17 Pulling ObjectIds: [28976623, 28981623]\nTotal collected features: 95000 From ObjectIds: [28886606, 28981622]\n18 Pulling ObjectIds: [28981624, 28986624]\nTotal collected features: 100000 From ObjectIds: [28886606, 28986623]\n19 Pulling ObjectIds: [28986625, 28991625]\nTotal collected features: 105000 From ObjectIds: [28886606, 28991624]\n20 Pulling ObjectIds: [28991626, 28996626]\nTotal collected features: 110000 From ObjectIds: [28886606, 28996625]\n21 Pulling ObjectIds: [28996627, 29001627]\nTotal collected features: 115000 From ObjectIds: [28886606, 29001626]\n22 Pulling ObjectIds: [29001628, 29006628]\nTotal collected features: 120000 From ObjectIds: [28886606, 29006627]\n23 Pulling ObjectIds: [29006629, 29011629]\nTotal collected features: 125000 From ObjectIds: [28886606, 29011628]\n24 Pulling ObjectIds: [29011630, 29016630]\nTotal collected features: 130000 From ObjectIds: [28886606, 29016629]\n25 Pulling ObjectIds: [29016631, 29021631]\nTotal collected features: 135000 From ObjectIds: [28886606, 29021630]\n26 Pulling ObjectIds: [29021632, 29026632]\nTotal collected features: 140000 From ObjectIds: [28886606, 29026631]\n27 Pulling ObjectIds: [29026633, 29031633]\nTotal collected features: 145000 From ObjectIds: [28886606, 29031632]\n28 Pulling ObjectIds: [29031634, 29036634]\nTotal collected features: 150000 From ObjectIds: [28886606, 29036633]\n29 Pulling ObjectIds: [29036635, 29041635]\nTotal collected features: 155000 From ObjectIds: [28886606, 29041634]\n30 Pulling ObjectIds: [29041636, 29046636]\nTotal collected features: 160000 From ObjectIds: [28886606, 29046635]\n31 Pulling ObjectIds: [29046637, 29051637]\nTotal collected features: 165000 From ObjectIds: [28886606, 29051636]\n32 Pulling ObjectIds: [29051638, 29056638]\nTotal collected features: 170000 From ObjectIds: [28886606, 29056637]\n33 Pulling ObjectIds: [29056639, 29061639]\nTotal collected features: 175000 From ObjectIds: [28886606, 29061638]\n34 Pulling ObjectIds: [29061640, 29066640]\nTotal collected features: 180000 From ObjectIds: [28886606, 29066639]\n35 Pulling ObjectIds: [29066641, 29068508]\nTotal collected features: 181868 From ObjectIds: [28886606, 29068508]\nDone\n"
    }
   ],
   "source": [
    "i = 0\n",
    "rangeLowerEnd = data['features'][maxApiRequest - 1]['attributes']['ObjectId'] + 1\n",
    "rangeUpperEnd = rangeLowerEnd + maxApiRequest\n",
    "\n",
    "while (i < neededRequests - 1): # neededRequests - 1 because of initial download\n",
    "    dataSetQuery = f'where=ObjectId+BETWEEN+{rangeLowerEnd}+AND+{rangeUpperEnd}'\n",
    "    temp_sourceURL = sourceURL + dataSetQuery + dataQuery\n",
    "    print(i, f'Pulling ObjectIds: [{rangeLowerEnd}, {rangeUpperEnd}]')\n",
    "\n",
    "    temp_dataRequest = requests.get(temp_sourceURL)\n",
    "    if (temp_dataRequest.status_code > 200): # stop when a request isn´t working\n",
    "        print(f'Error in request: {temp_dataRequest.status_code}')\n",
    "        break\n",
    "    temp_data = json.loads(temp_dataRequest.text)\n",
    "\n",
    "    # append new data to already downloaded one\n",
    "    data = dataMerger.merge(data, temp_data)\n",
    "\n",
    "    temp_dataLength = len(data['features'])\n",
    "    t_le = data['features'][0]['attributes']['ObjectId']\n",
    "    t_ue = data['features'][temp_dataLength - 1]['attributes']['ObjectId']\n",
    "    print(f'Total collected features: {temp_dataLength} From ObjectIds: [{t_le}, {t_ue}]')\n",
    "\n",
    "    rangeLowerEnd = rangeUpperEnd + 1\n",
    "    rangeUpperEnd += maxApiRequest + 1\n",
    "    if (rangeUpperEnd > objectIdEnd):\n",
    "        rangeUpperEnd = objectIdEnd\n",
    "    i += 1\n",
    "\n",
    "print('Done')"
   ]
  },
  {
   "cell_type": "code",
   "execution_count": 10,
   "metadata": {
    "tags": []
   },
   "outputs": [
    {
     "output_type": "stream",
     "name": "stdout",
     "text": "Entries:  181868\nStructure:  {'attributes': {'IdBundesland': 1, 'Bundesland': 'Schleswig-Holstein', 'Landkreis': 'SK Flensburg', 'Altersgruppe': 'A05-A14', 'AnzahlFall': 1, 'AnzahlTodesfall': 0, 'ObjectId': 28886606, 'Meldedatum': 1597449600000, 'IdLandkreis': '01001', 'Datenstand': '18.08.2020, 00:00 Uhr', 'NeuerFall': 0, 'NeuerTodesfall': -9, 'Refdatum': 1597449600000, 'NeuGenesen': -9, 'AnzahlGenesen': 0, 'IstErkrankungsbeginn': 0}}\nLatest data:  18.08.2020, 00:00 Uhr\n"
    }
   ],
   "source": [
    "print('Entries: ', len(data['features']))\n",
    "print('Structure: ', data['features'][0])\n",
    "print('Latest data: ', data['features'][0]['attributes']['Datenstand'])"
   ]
  },
  {
   "cell_type": "code",
   "execution_count": 11,
   "metadata": {},
   "outputs": [],
   "source": [
    "def display_n(df,n): \n",
    "    with pd.option_context('display.max_rows',n*2):\n",
    "        display(df)"
   ]
  },
  {
   "cell_type": "code",
   "execution_count": 12,
   "metadata": {},
   "outputs": [
    {
     "output_type": "display_data",
     "data": {
      "text/plain": "                                               attributes\n0       {'IdBundesland': 1, 'Bundesland': 'Schleswig-H...\n1       {'IdBundesland': 1, 'Bundesland': 'Schleswig-H...\n...                                                   ...\n181866  {'IdBundesland': 16, 'Bundesland': 'Thüringen'...\n181867  {'IdBundesland': 16, 'Bundesland': 'Thüringen'...\n\n[181868 rows x 1 columns]",
      "text/html": "<div>\n<style scoped>\n    .dataframe tbody tr th:only-of-type {\n        vertical-align: middle;\n    }\n\n    .dataframe tbody tr th {\n        vertical-align: top;\n    }\n\n    .dataframe thead th {\n        text-align: right;\n    }\n</style>\n<table border=\"1\" class=\"dataframe\">\n  <thead>\n    <tr style=\"text-align: right;\">\n      <th></th>\n      <th>attributes</th>\n    </tr>\n  </thead>\n  <tbody>\n    <tr>\n      <th>0</th>\n      <td>{'IdBundesland': 1, 'Bundesland': 'Schleswig-H...</td>\n    </tr>\n    <tr>\n      <th>1</th>\n      <td>{'IdBundesland': 1, 'Bundesland': 'Schleswig-H...</td>\n    </tr>\n    <tr>\n      <th>...</th>\n      <td>...</td>\n    </tr>\n    <tr>\n      <th>181866</th>\n      <td>{'IdBundesland': 16, 'Bundesland': 'Thüringen'...</td>\n    </tr>\n    <tr>\n      <th>181867</th>\n      <td>{'IdBundesland': 16, 'Bundesland': 'Thüringen'...</td>\n    </tr>\n  </tbody>\n</table>\n<p>181868 rows × 1 columns</p>\n</div>"
     },
     "metadata": {}
    }
   ],
   "source": [
    "dfx = pd.DataFrame.from_dict(data['features'])\n",
    "display_n(dfx, 2)"
   ]
  },
  {
   "cell_type": "code",
   "execution_count": 13,
   "metadata": {},
   "outputs": [
    {
     "output_type": "display_data",
     "data": {
      "text/plain": "        IdBundesland          Bundesland            Landkreis Altersgruppe  \\\n0                  1  Schleswig-Holstein         SK Flensburg      A05-A14   \n1                  1  Schleswig-Holstein         SK Flensburg      A15-A34   \n...              ...                 ...                  ...          ...   \n181866            16           Thüringen  LK Altenburger Land         A80+   \n181867            16           Thüringen  LK Altenburger Land         A80+   \n\n        AnzahlFall  AnzahlTodesfall  ObjectId     Meldedatum IdLandkreis  \\\n0                1                0  28886606  1597449600000       01001   \n1                1                0  28886607  1584144000000       01001   \n...            ...              ...       ...            ...         ...   \n181866           2                0  29068507  1590624000000       16077   \n181867           1                0  29068508  1591660800000       16077   \n\n                   Datenstand  NeuerFall  NeuerTodesfall       Refdatum  \\\n0       18.08.2020, 00:00 Uhr          0              -9  1597449600000   \n1       18.08.2020, 00:00 Uhr          0              -9  1584316800000   \n...                       ...        ...             ...            ...   \n181866  18.08.2020, 00:00 Uhr          0              -9  1590624000000   \n181867  18.08.2020, 00:00 Uhr          0              -9  1591660800000   \n\n        NeuGenesen  AnzahlGenesen  IstErkrankungsbeginn  \n0               -9              0                     0  \n1                0              1                     1  \n...            ...            ...                   ...  \n181866           0              2                     0  \n181867           0              1                     0  \n\n[181868 rows x 16 columns]",
      "text/html": "<div>\n<style scoped>\n    .dataframe tbody tr th:only-of-type {\n        vertical-align: middle;\n    }\n\n    .dataframe tbody tr th {\n        vertical-align: top;\n    }\n\n    .dataframe thead th {\n        text-align: right;\n    }\n</style>\n<table border=\"1\" class=\"dataframe\">\n  <thead>\n    <tr style=\"text-align: right;\">\n      <th></th>\n      <th>IdBundesland</th>\n      <th>Bundesland</th>\n      <th>Landkreis</th>\n      <th>Altersgruppe</th>\n      <th>AnzahlFall</th>\n      <th>AnzahlTodesfall</th>\n      <th>ObjectId</th>\n      <th>Meldedatum</th>\n      <th>IdLandkreis</th>\n      <th>Datenstand</th>\n      <th>NeuerFall</th>\n      <th>NeuerTodesfall</th>\n      <th>Refdatum</th>\n      <th>NeuGenesen</th>\n      <th>AnzahlGenesen</th>\n      <th>IstErkrankungsbeginn</th>\n    </tr>\n  </thead>\n  <tbody>\n    <tr>\n      <th>0</th>\n      <td>1</td>\n      <td>Schleswig-Holstein</td>\n      <td>SK Flensburg</td>\n      <td>A05-A14</td>\n      <td>1</td>\n      <td>0</td>\n      <td>28886606</td>\n      <td>1597449600000</td>\n      <td>01001</td>\n      <td>18.08.2020, 00:00 Uhr</td>\n      <td>0</td>\n      <td>-9</td>\n      <td>1597449600000</td>\n      <td>-9</td>\n      <td>0</td>\n      <td>0</td>\n    </tr>\n    <tr>\n      <th>1</th>\n      <td>1</td>\n      <td>Schleswig-Holstein</td>\n      <td>SK Flensburg</td>\n      <td>A15-A34</td>\n      <td>1</td>\n      <td>0</td>\n      <td>28886607</td>\n      <td>1584144000000</td>\n      <td>01001</td>\n      <td>18.08.2020, 00:00 Uhr</td>\n      <td>0</td>\n      <td>-9</td>\n      <td>1584316800000</td>\n      <td>0</td>\n      <td>1</td>\n      <td>1</td>\n    </tr>\n    <tr>\n      <th>...</th>\n      <td>...</td>\n      <td>...</td>\n      <td>...</td>\n      <td>...</td>\n      <td>...</td>\n      <td>...</td>\n      <td>...</td>\n      <td>...</td>\n      <td>...</td>\n      <td>...</td>\n      <td>...</td>\n      <td>...</td>\n      <td>...</td>\n      <td>...</td>\n      <td>...</td>\n      <td>...</td>\n    </tr>\n    <tr>\n      <th>181866</th>\n      <td>16</td>\n      <td>Thüringen</td>\n      <td>LK Altenburger Land</td>\n      <td>A80+</td>\n      <td>2</td>\n      <td>0</td>\n      <td>29068507</td>\n      <td>1590624000000</td>\n      <td>16077</td>\n      <td>18.08.2020, 00:00 Uhr</td>\n      <td>0</td>\n      <td>-9</td>\n      <td>1590624000000</td>\n      <td>0</td>\n      <td>2</td>\n      <td>0</td>\n    </tr>\n    <tr>\n      <th>181867</th>\n      <td>16</td>\n      <td>Thüringen</td>\n      <td>LK Altenburger Land</td>\n      <td>A80+</td>\n      <td>1</td>\n      <td>0</td>\n      <td>29068508</td>\n      <td>1591660800000</td>\n      <td>16077</td>\n      <td>18.08.2020, 00:00 Uhr</td>\n      <td>0</td>\n      <td>-9</td>\n      <td>1591660800000</td>\n      <td>0</td>\n      <td>1</td>\n      <td>0</td>\n    </tr>\n  </tbody>\n</table>\n<p>181868 rows × 16 columns</p>\n</div>"
     },
     "metadata": {}
    }
   ],
   "source": [
    "# turning the collumn attributes in seperated collumns\n",
    "for rowid in data['fields']:\n",
    "    dfx[rowid['name']] = dfx.apply(lambda row: row.loc['attributes'][rowid['name']], axis=1)\n",
    "dfx = dfx.drop(['attributes'], axis=1)\n",
    "display_n(dfx, 2)"
   ]
  },
  {
   "cell_type": "code",
   "execution_count": 14,
   "metadata": {},
   "outputs": [
    {
     "output_type": "execute_result",
     "data": {
      "text/plain": "'SK Flensburg'"
     },
     "metadata": {},
     "execution_count": 14
    }
   ],
   "source": [
    "data['features'][0]['attributes']['Landkreis']"
   ]
  },
  {
   "cell_type": "code",
   "execution_count": 21,
   "metadata": {},
   "outputs": [],
   "source": [
    "frameByLK = dfx.groupby(['Landkreis'])['AnzahlFall', 'AnzahlTodesfall', 'AnzahlGenesen'].sum().reset_index().set_index('Landkreis')"
   ]
  },
  {
   "cell_type": "code",
   "execution_count": 22,
   "metadata": {},
   "outputs": [
    {
     "output_type": "execute_result",
     "data": {
      "text/plain": "                      AnzahlFall  AnzahlTodesfall  AnzahlGenesen\nLandkreis                                                       \nLK Ahrweiler                 256                1            230\nLK Aichach-Friedberg         409               20            385\nLK Alb-Donau-Kreis           715               27            656\nLK Altenburger Land           79                4             75\nLK Altenkirchen              197               11            177\n...                          ...              ...            ...\nSK Worms                     241                8            222\nSK Wuppertal                1291               86           1051\nSK Würzburg                  504               52            442\nSK Zweibrücken                45                1             43\nStadtRegion Aachen          2216              101           2049\n\n[412 rows x 3 columns]",
      "text/html": "<div>\n<style scoped>\n    .dataframe tbody tr th:only-of-type {\n        vertical-align: middle;\n    }\n\n    .dataframe tbody tr th {\n        vertical-align: top;\n    }\n\n    .dataframe thead th {\n        text-align: right;\n    }\n</style>\n<table border=\"1\" class=\"dataframe\">\n  <thead>\n    <tr style=\"text-align: right;\">\n      <th></th>\n      <th>AnzahlFall</th>\n      <th>AnzahlTodesfall</th>\n      <th>AnzahlGenesen</th>\n    </tr>\n    <tr>\n      <th>Landkreis</th>\n      <th></th>\n      <th></th>\n      <th></th>\n    </tr>\n  </thead>\n  <tbody>\n    <tr>\n      <th>LK Ahrweiler</th>\n      <td>256</td>\n      <td>1</td>\n      <td>230</td>\n    </tr>\n    <tr>\n      <th>LK Aichach-Friedberg</th>\n      <td>409</td>\n      <td>20</td>\n      <td>385</td>\n    </tr>\n    <tr>\n      <th>LK Alb-Donau-Kreis</th>\n      <td>715</td>\n      <td>27</td>\n      <td>656</td>\n    </tr>\n    <tr>\n      <th>LK Altenburger Land</th>\n      <td>79</td>\n      <td>4</td>\n      <td>75</td>\n    </tr>\n    <tr>\n      <th>LK Altenkirchen</th>\n      <td>197</td>\n      <td>11</td>\n      <td>177</td>\n    </tr>\n    <tr>\n      <th>...</th>\n      <td>...</td>\n      <td>...</td>\n      <td>...</td>\n    </tr>\n    <tr>\n      <th>SK Worms</th>\n      <td>241</td>\n      <td>8</td>\n      <td>222</td>\n    </tr>\n    <tr>\n      <th>SK Wuppertal</th>\n      <td>1291</td>\n      <td>86</td>\n      <td>1051</td>\n    </tr>\n    <tr>\n      <th>SK Würzburg</th>\n      <td>504</td>\n      <td>52</td>\n      <td>442</td>\n    </tr>\n    <tr>\n      <th>SK Zweibrücken</th>\n      <td>45</td>\n      <td>1</td>\n      <td>43</td>\n    </tr>\n    <tr>\n      <th>StadtRegion Aachen</th>\n      <td>2216</td>\n      <td>101</td>\n      <td>2049</td>\n    </tr>\n  </tbody>\n</table>\n<p>412 rows × 3 columns</p>\n</div>"
     },
     "metadata": {},
     "execution_count": 22
    }
   ],
   "source": [
    "frameByLK"
   ]
  },
  {
   "cell_type": "code",
   "execution_count": 24,
   "metadata": {},
   "outputs": [],
   "source": [
    "frameByLK.to_csv('frameByLK.csv', index=True, encoding='utf-8')"
   ]
  },
  {
   "cell_type": "code",
   "execution_count": null,
   "metadata": {},
   "outputs": [],
   "source": []
  }
 ]
}