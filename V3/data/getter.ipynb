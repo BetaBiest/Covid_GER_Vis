{
 "metadata": {
  "language_info": {
   "codemirror_mode": {
    "name": "ipython",
    "version": 3
   },
   "file_extension": ".py",
   "mimetype": "text/x-python",
   "name": "python",
   "nbconvert_exporter": "python",
   "pygments_lexer": "ipython3",
   "version": "3.7.6-final"
  },
  "orig_nbformat": 2,
  "kernelspec": {
   "name": "python37664bitac0d5f4ec08e4e2c9866d97442c37502",
   "display_name": "Python 3.7.6 64-bit"
  }
 },
 "nbformat": 4,
 "nbformat_minor": 2,
 "cells": [
  {
   "cell_type": "markdown",
   "metadata": {},
   "source": [
    "# Covid-19 data download & processing\n",
    "---\n",
    "This Python Script downloads an up-to-date dataset for **Covid-19** and exports the data to the data folder.\n",
    "\n",
    "The Data is from the **R**obert **K**och **I**nstitut downloaded over [ArcGis Hub](https://hub.arcgis.com/datasets/dd4580c810204019a7b8eb3e0b329dd6?page=15976).\n",
    "\n",
    "*Script was created on Python: 3.7.6 64-bit Kernel*"
   ]
  },
  {
   "cell_type": "code",
   "execution_count": 1,
   "metadata": {},
   "outputs": [],
   "source": [
    "import pandas as pd\n",
    "import math\n",
    "\n",
    "import io               # file operations\n",
    "import json\n",
    "\n",
    "import ssl              # secure client-server connection\n",
    "import requests         # html-requests"
   ]
  },
  {
   "cell_type": "code",
   "execution_count": 2,
   "metadata": {},
   "outputs": [],
   "source": [
    "# Uncomment next 2 lines to install jsonmerge\n",
    "#import sys\n",
    "#!{sys.executable} -m pip install jsonmerge\n",
    "from jsonmerge import Merger"
   ]
  },
  {
   "cell_type": "code",
   "execution_count": 3,
   "metadata": {},
   "outputs": [],
   "source": [
    "sourceURL = 'https://services7.arcgis.com/mOBPykOjAyBO2ZKk/arcgis/rest/services/RKI_COVID19/FeatureServer/0/query?'\n",
    "objectIdsQuery = 'where=1%3D1&returnIdsOnly=true&f=json'\n",
    "dataSetQuery = 'where=ObjectId+BETWEEN+0+AND+0' # just an example gets created later dynamically\n",
    "dataQuery = '&outSR=4326&outFields=IdBundesland,Bundesland,Landkreis,Altersgruppe,AnzahlFall,AnzahlTodesfall,ObjectId,Meldedatum,IdLandkreis,Datenstand,NeuerFall,NeuerTodesfall,Refdatum,NeuGenesen,AnzahlGenesen,IstErkrankungsbeginn&f=json'"
   ]
  },
  {
   "cell_type": "markdown",
   "metadata": {},
   "source": [
    "## Requesting which Features (ObjectID´s) are available"
   ]
  },
  {
   "cell_type": "code",
   "execution_count": 4,
   "metadata": {},
   "outputs": [
    {
     "output_type": "execute_result",
     "data": {
      "text/plain": "200"
     },
     "metadata": {},
     "execution_count": 4
    }
   ],
   "source": [
    "objectIdsRequest = requests.get(sourceURL + objectIdsQuery)\n",
    "objectIdsRequest.status_code"
   ]
  },
  {
   "cell_type": "code",
   "execution_count": 5,
   "metadata": {
    "tags": []
   },
   "outputs": [
    {
     "output_type": "stream",
     "name": "stdout",
     "text": "Range of ObjectIds: [30184323, 30373506]\n"
    }
   ],
   "source": [
    "objectIds = json.loads(objectIdsRequest.text)\n",
    "\n",
    "numOfObjectIds = len(objectIds['objectIds'])\n",
    "\n",
    "objectIdStart = objectIds['objectIds'][0]\n",
    "objectIdEnd = objectIds['objectIds'][numOfObjectIds - 1]\n",
    "print(f'Range of ObjectIds: [{objectIdStart}, {objectIdEnd}]')"
   ]
  },
  {
   "cell_type": "markdown",
   "metadata": {},
   "source": [
    "## Requesting Features"
   ]
  },
  {
   "cell_type": "code",
   "execution_count": 6,
   "metadata": {},
   "outputs": [
    {
     "output_type": "execute_result",
     "data": {
      "text/plain": "200"
     },
     "metadata": {},
     "execution_count": 6
    }
   ],
   "source": [
    "dataRequest = requests.get(sourceURL + 'where=1%3D1' + dataQuery)\n",
    "dataRequest.status_code"
   ]
  },
  {
   "cell_type": "code",
   "execution_count": 7,
   "metadata": {
    "tags": []
   },
   "outputs": [
    {
     "output_type": "stream",
     "name": "stdout",
     "text": "The download will require 37 more requests due to the server limit of 5000 features/request.\n"
    }
   ],
   "source": [
    "data = json.loads(dataRequest.text)\n",
    "maxApiRequest = len(data['features'])\n",
    "\n",
    "neededRequests = math.ceil(numOfObjectIds / maxApiRequest)\n",
    "\n",
    "print(f'The download will require {neededRequests - 1} more requests due to the server limit of {maxApiRequest} features/request.')"
   ]
  },
  {
   "cell_type": "code",
   "execution_count": 8,
   "metadata": {},
   "outputs": [],
   "source": [
    "# Json-Merger with custom rule\n",
    "jsonMergeSchema = {\"properties\":{\"features\":{\"mergeStrategy\":\"append\"}}}\n",
    "dataMerger = Merger(jsonMergeSchema)"
   ]
  },
  {
   "cell_type": "code",
   "execution_count": 9,
   "metadata": {
    "tags": []
   },
   "outputs": [
    {
     "output_type": "stream",
     "name": "stdout",
     "text": "0 Pulling ObjectIds: [30189323, 30194323]\nTotal collected features: 10000 From ObjectIds: [30184323, 30194322]\n1 Pulling ObjectIds: [30194324, 30199324]\nTotal collected features: 15000 From ObjectIds: [30184323, 30199323]\n2 Pulling ObjectIds: [30199325, 30204325]\nTotal collected features: 20000 From ObjectIds: [30184323, 30204324]\n3 Pulling ObjectIds: [30204326, 30209326]\nTotal collected features: 25000 From ObjectIds: [30184323, 30209325]\n4 Pulling ObjectIds: [30209327, 30214327]\nTotal collected features: 30000 From ObjectIds: [30184323, 30214326]\n5 Pulling ObjectIds: [30214328, 30219328]\nTotal collected features: 35000 From ObjectIds: [30184323, 30219327]\n6 Pulling ObjectIds: [30219329, 30224329]\nTotal collected features: 40000 From ObjectIds: [30184323, 30224328]\n7 Pulling ObjectIds: [30224330, 30229330]\nTotal collected features: 45000 From ObjectIds: [30184323, 30229329]\n8 Pulling ObjectIds: [30229331, 30234331]\nTotal collected features: 50000 From ObjectIds: [30184323, 30234330]\n9 Pulling ObjectIds: [30234332, 30239332]\nTotal collected features: 55000 From ObjectIds: [30184323, 30239331]\n10 Pulling ObjectIds: [30239333, 30244333]\nTotal collected features: 60000 From ObjectIds: [30184323, 30244332]\n11 Pulling ObjectIds: [30244334, 30249334]\nTotal collected features: 65000 From ObjectIds: [30184323, 30249333]\n12 Pulling ObjectIds: [30249335, 30254335]\nTotal collected features: 70000 From ObjectIds: [30184323, 30254334]\n13 Pulling ObjectIds: [30254336, 30259336]\nTotal collected features: 75000 From ObjectIds: [30184323, 30259335]\n14 Pulling ObjectIds: [30259337, 30264337]\nTotal collected features: 80000 From ObjectIds: [30184323, 30264336]\n15 Pulling ObjectIds: [30264338, 30269338]\nTotal collected features: 85000 From ObjectIds: [30184323, 30269337]\n16 Pulling ObjectIds: [30269339, 30274339]\nTotal collected features: 90000 From ObjectIds: [30184323, 30274338]\n17 Pulling ObjectIds: [30274340, 30279340]\nTotal collected features: 95000 From ObjectIds: [30184323, 30279339]\n18 Pulling ObjectIds: [30279341, 30284341]\nTotal collected features: 100000 From ObjectIds: [30184323, 30284340]\n19 Pulling ObjectIds: [30284342, 30289342]\nTotal collected features: 105000 From ObjectIds: [30184323, 30289341]\n20 Pulling ObjectIds: [30289343, 30294343]\nTotal collected features: 110000 From ObjectIds: [30184323, 30294342]\n21 Pulling ObjectIds: [30294344, 30299344]\nTotal collected features: 115000 From ObjectIds: [30184323, 30299343]\n22 Pulling ObjectIds: [30299345, 30304345]\nTotal collected features: 120000 From ObjectIds: [30184323, 30304344]\n23 Pulling ObjectIds: [30304346, 30309346]\nTotal collected features: 125000 From ObjectIds: [30184323, 30309345]\n24 Pulling ObjectIds: [30309347, 30314347]\nTotal collected features: 130000 From ObjectIds: [30184323, 30314346]\n25 Pulling ObjectIds: [30314348, 30319348]\nTotal collected features: 135000 From ObjectIds: [30184323, 30319347]\n26 Pulling ObjectIds: [30319349, 30324349]\nTotal collected features: 140000 From ObjectIds: [30184323, 30324348]\n27 Pulling ObjectIds: [30324350, 30329350]\nTotal collected features: 145000 From ObjectIds: [30184323, 30329349]\n28 Pulling ObjectIds: [30329351, 30334351]\nTotal collected features: 150000 From ObjectIds: [30184323, 30334350]\n29 Pulling ObjectIds: [30334352, 30339352]\nTotal collected features: 155000 From ObjectIds: [30184323, 30339351]\n30 Pulling ObjectIds: [30339353, 30344353]\nTotal collected features: 160000 From ObjectIds: [30184323, 30344352]\n31 Pulling ObjectIds: [30344354, 30349354]\nTotal collected features: 165000 From ObjectIds: [30184323, 30349353]\n32 Pulling ObjectIds: [30349355, 30354355]\nTotal collected features: 170000 From ObjectIds: [30184323, 30354354]\n33 Pulling ObjectIds: [30354356, 30359356]\nTotal collected features: 175000 From ObjectIds: [30184323, 30359355]\n34 Pulling ObjectIds: [30359357, 30364357]\nTotal collected features: 180000 From ObjectIds: [30184323, 30364356]\n35 Pulling ObjectIds: [30364358, 30369358]\nTotal collected features: 185000 From ObjectIds: [30184323, 30369357]\n36 Pulling ObjectIds: [30369359, 30373506]\nTotal collected features: 189148 From ObjectIds: [30184323, 30373506]\nDone\n"
    }
   ],
   "source": [
    "i = 0\n",
    "rangeLowerEnd = data['features'][maxApiRequest - 1]['attributes']['ObjectId'] + 1\n",
    "rangeUpperEnd = rangeLowerEnd + maxApiRequest\n",
    "\n",
    "while (i < neededRequests - 1): # neededRequests - 1 because of initial download\n",
    "    dataSetQuery = f'where=ObjectId+BETWEEN+{rangeLowerEnd}+AND+{rangeUpperEnd}'\n",
    "    temp_sourceURL = sourceURL + dataSetQuery + dataQuery\n",
    "    print(i, f'Pulling ObjectIds: [{rangeLowerEnd}, {rangeUpperEnd}]')\n",
    "\n",
    "    temp_dataRequest = requests.get(temp_sourceURL)\n",
    "    if (temp_dataRequest.status_code > 200): # stop when a request isn´t working\n",
    "        print(f'Error in request: {temp_dataRequest.status_code}')\n",
    "        break\n",
    "    temp_data = json.loads(temp_dataRequest.text)\n",
    "\n",
    "    # append new data to already downloaded one\n",
    "    data = dataMerger.merge(data, temp_data)\n",
    "\n",
    "    temp_dataLength = len(data['features'])\n",
    "    t_le = data['features'][0]['attributes']['ObjectId']\n",
    "    t_ue = data['features'][temp_dataLength - 1]['attributes']['ObjectId']\n",
    "    print(f'Total collected features: {temp_dataLength} From ObjectIds: [{t_le}, {t_ue}]')\n",
    "\n",
    "    rangeLowerEnd = rangeUpperEnd + 1\n",
    "    rangeUpperEnd += maxApiRequest + 1\n",
    "    if (rangeUpperEnd > objectIdEnd):\n",
    "        rangeUpperEnd = objectIdEnd\n",
    "    i += 1\n",
    "\n",
    "print('Done')"
   ]
  },
  {
   "cell_type": "code",
   "execution_count": 10,
   "metadata": {
    "tags": []
   },
   "outputs": [
    {
     "output_type": "stream",
     "name": "stdout",
     "text": "Entries:  189148\nStructure:  {'attributes': {'IdBundesland': 1, 'Bundesland': 'Schleswig-Holstein', 'Landkreis': 'SK Flensburg', 'Altersgruppe': 'A00-A04', 'AnzahlFall': 1, 'AnzahlTodesfall': 0, 'ObjectId': 30184323, 'Meldedatum': 1598227200000, 'IdLandkreis': '01001', 'Datenstand': '25.08.2020, 00:00 Uhr', 'NeuerFall': 1, 'NeuerTodesfall': -9, 'Refdatum': 1598227200000, 'NeuGenesen': -9, 'AnzahlGenesen': 0, 'IstErkrankungsbeginn': 0}}\nLatest data:  25.08.2020, 00:00 Uhr\n"
    }
   ],
   "source": [
    "print('Entries: ', len(data['features']))\n",
    "print('Structure: ', data['features'][0])\n",
    "print('Latest data: ', data['features'][0]['attributes']['Datenstand'])"
   ]
  },
  {
   "cell_type": "code",
   "execution_count": 11,
   "metadata": {},
   "outputs": [],
   "source": [
    "def display_n(df,n): \n",
    "    with pd.option_context('display.max_rows',n*2):\n",
    "        display(df)"
   ]
  },
  {
   "cell_type": "code",
   "execution_count": 12,
   "metadata": {},
   "outputs": [
    {
     "output_type": "display_data",
     "data": {
      "text/plain": "                                               attributes\n0       {'IdBundesland': 1, 'Bundesland': 'Schleswig-H...\n1       {'IdBundesland': 1, 'Bundesland': 'Schleswig-H...\n...                                                   ...\n189146  {'IdBundesland': 16, 'Bundesland': 'Thüringen'...\n189147  {'IdBundesland': 16, 'Bundesland': 'Thüringen'...\n\n[189148 rows x 1 columns]",
      "text/html": "<div>\n<style scoped>\n    .dataframe tbody tr th:only-of-type {\n        vertical-align: middle;\n    }\n\n    .dataframe tbody tr th {\n        vertical-align: top;\n    }\n\n    .dataframe thead th {\n        text-align: right;\n    }\n</style>\n<table border=\"1\" class=\"dataframe\">\n  <thead>\n    <tr style=\"text-align: right;\">\n      <th></th>\n      <th>attributes</th>\n    </tr>\n  </thead>\n  <tbody>\n    <tr>\n      <th>0</th>\n      <td>{'IdBundesland': 1, 'Bundesland': 'Schleswig-H...</td>\n    </tr>\n    <tr>\n      <th>1</th>\n      <td>{'IdBundesland': 1, 'Bundesland': 'Schleswig-H...</td>\n    </tr>\n    <tr>\n      <th>...</th>\n      <td>...</td>\n    </tr>\n    <tr>\n      <th>189146</th>\n      <td>{'IdBundesland': 16, 'Bundesland': 'Thüringen'...</td>\n    </tr>\n    <tr>\n      <th>189147</th>\n      <td>{'IdBundesland': 16, 'Bundesland': 'Thüringen'...</td>\n    </tr>\n  </tbody>\n</table>\n<p>189148 rows × 1 columns</p>\n</div>"
     },
     "metadata": {}
    }
   ],
   "source": [
    "dfx = pd.DataFrame.from_dict(data['features'])\n",
    "display_n(dfx, 2)"
   ]
  },
  {
   "cell_type": "code",
   "execution_count": 13,
   "metadata": {},
   "outputs": [
    {
     "output_type": "display_data",
     "data": {
      "text/plain": "        IdBundesland          Bundesland            Landkreis Altersgruppe  \\\n0                  1  Schleswig-Holstein         SK Flensburg      A00-A04   \n1                  1  Schleswig-Holstein         SK Flensburg      A05-A14   \n...              ...                 ...                  ...          ...   \n189146            16           Thüringen  LK Altenburger Land         A80+   \n189147            16           Thüringen  LK Altenburger Land         A80+   \n\n        AnzahlFall  AnzahlTodesfall  ObjectId     Meldedatum IdLandkreis  \\\n0                1                0  30184323  1598227200000       01001   \n1                1                0  30184324  1597449600000       01001   \n...            ...              ...       ...            ...         ...   \n189146           2                0  30373505  1590624000000       16077   \n189147           1                0  30373506  1591660800000       16077   \n\n                   Datenstand  NeuerFall  NeuerTodesfall       Refdatum  \\\n0       25.08.2020, 00:00 Uhr          1              -9  1598227200000   \n1       25.08.2020, 00:00 Uhr          0              -9  1597449600000   \n...                       ...        ...             ...            ...   \n189146  25.08.2020, 00:00 Uhr          0              -9  1590624000000   \n189147  25.08.2020, 00:00 Uhr          0              -9  1591660800000   \n\n        NeuGenesen  AnzahlGenesen  IstErkrankungsbeginn  \n0               -9              0                     0  \n1               -9              0                     0  \n...            ...            ...                   ...  \n189146           0              2                     0  \n189147           0              1                     0  \n\n[189148 rows x 16 columns]",
      "text/html": "<div>\n<style scoped>\n    .dataframe tbody tr th:only-of-type {\n        vertical-align: middle;\n    }\n\n    .dataframe tbody tr th {\n        vertical-align: top;\n    }\n\n    .dataframe thead th {\n        text-align: right;\n    }\n</style>\n<table border=\"1\" class=\"dataframe\">\n  <thead>\n    <tr style=\"text-align: right;\">\n      <th></th>\n      <th>IdBundesland</th>\n      <th>Bundesland</th>\n      <th>Landkreis</th>\n      <th>Altersgruppe</th>\n      <th>AnzahlFall</th>\n      <th>AnzahlTodesfall</th>\n      <th>ObjectId</th>\n      <th>Meldedatum</th>\n      <th>IdLandkreis</th>\n      <th>Datenstand</th>\n      <th>NeuerFall</th>\n      <th>NeuerTodesfall</th>\n      <th>Refdatum</th>\n      <th>NeuGenesen</th>\n      <th>AnzahlGenesen</th>\n      <th>IstErkrankungsbeginn</th>\n    </tr>\n  </thead>\n  <tbody>\n    <tr>\n      <th>0</th>\n      <td>1</td>\n      <td>Schleswig-Holstein</td>\n      <td>SK Flensburg</td>\n      <td>A00-A04</td>\n      <td>1</td>\n      <td>0</td>\n      <td>30184323</td>\n      <td>1598227200000</td>\n      <td>01001</td>\n      <td>25.08.2020, 00:00 Uhr</td>\n      <td>1</td>\n      <td>-9</td>\n      <td>1598227200000</td>\n      <td>-9</td>\n      <td>0</td>\n      <td>0</td>\n    </tr>\n    <tr>\n      <th>1</th>\n      <td>1</td>\n      <td>Schleswig-Holstein</td>\n      <td>SK Flensburg</td>\n      <td>A05-A14</td>\n      <td>1</td>\n      <td>0</td>\n      <td>30184324</td>\n      <td>1597449600000</td>\n      <td>01001</td>\n      <td>25.08.2020, 00:00 Uhr</td>\n      <td>0</td>\n      <td>-9</td>\n      <td>1597449600000</td>\n      <td>-9</td>\n      <td>0</td>\n      <td>0</td>\n    </tr>\n    <tr>\n      <th>...</th>\n      <td>...</td>\n      <td>...</td>\n      <td>...</td>\n      <td>...</td>\n      <td>...</td>\n      <td>...</td>\n      <td>...</td>\n      <td>...</td>\n      <td>...</td>\n      <td>...</td>\n      <td>...</td>\n      <td>...</td>\n      <td>...</td>\n      <td>...</td>\n      <td>...</td>\n      <td>...</td>\n    </tr>\n    <tr>\n      <th>189146</th>\n      <td>16</td>\n      <td>Thüringen</td>\n      <td>LK Altenburger Land</td>\n      <td>A80+</td>\n      <td>2</td>\n      <td>0</td>\n      <td>30373505</td>\n      <td>1590624000000</td>\n      <td>16077</td>\n      <td>25.08.2020, 00:00 Uhr</td>\n      <td>0</td>\n      <td>-9</td>\n      <td>1590624000000</td>\n      <td>0</td>\n      <td>2</td>\n      <td>0</td>\n    </tr>\n    <tr>\n      <th>189147</th>\n      <td>16</td>\n      <td>Thüringen</td>\n      <td>LK Altenburger Land</td>\n      <td>A80+</td>\n      <td>1</td>\n      <td>0</td>\n      <td>30373506</td>\n      <td>1591660800000</td>\n      <td>16077</td>\n      <td>25.08.2020, 00:00 Uhr</td>\n      <td>0</td>\n      <td>-9</td>\n      <td>1591660800000</td>\n      <td>0</td>\n      <td>1</td>\n      <td>0</td>\n    </tr>\n  </tbody>\n</table>\n<p>189148 rows × 16 columns</p>\n</div>"
     },
     "metadata": {}
    }
   ],
   "source": [
    "# turning the collumn attributes in seperated collumns\n",
    "for rowid in data['fields']:\n",
    "    dfx[rowid['name']] = dfx.apply(lambda row: row.loc['attributes'][rowid['name']], axis=1)\n",
    "dfx = dfx.drop(['attributes'], axis=1)\n",
    "display_n(dfx, 2)"
   ]
  },
  {
   "cell_type": "code",
   "execution_count": 14,
   "metadata": {},
   "outputs": [
    {
     "output_type": "execute_result",
     "data": {
      "text/plain": "'SK Flensburg'"
     },
     "metadata": {},
     "execution_count": 14
    }
   ],
   "source": [
    "data['features'][0]['attributes']['Landkreis']"
   ]
  },
  {
   "cell_type": "code",
   "execution_count": 15,
   "metadata": {},
   "outputs": [],
   "source": [
    "frameByLK = dfx.groupby(['Landkreis', 'IdLandkreis'])['AnzahlFall', 'AnzahlTodesfall', 'AnzahlGenesen'].sum().reset_index().set_index('Landkreis')"
   ]
  },
  {
   "cell_type": "code",
   "execution_count": 16,
   "metadata": {},
   "outputs": [
    {
     "output_type": "execute_result",
     "data": {
      "text/plain": "                     IdLandkreis  AnzahlFall  AnzahlTodesfall  AnzahlGenesen\nLandkreis                                                                   \nLK Ahrweiler               07131         277                2            240\nLK Aichach-Friedberg       09771         425               20            387\nLK Alb-Donau-Kreis         08425         745               27            666\nLK Altenburger Land        16077          80                4             75\nLK Altenkirchen            07132         200               11            178\n...                          ...         ...              ...            ...\nSK Worms                   07319         260                8            225\nSK Wuppertal               05124        1363               86           1101\nSK Würzburg                09663         518               52            445\nSK Zweibrücken             07320          47                1             43\nStadtRegion Aachen         05334        2303              102           2099\n\n[412 rows x 4 columns]",
      "text/html": "<div>\n<style scoped>\n    .dataframe tbody tr th:only-of-type {\n        vertical-align: middle;\n    }\n\n    .dataframe tbody tr th {\n        vertical-align: top;\n    }\n\n    .dataframe thead th {\n        text-align: right;\n    }\n</style>\n<table border=\"1\" class=\"dataframe\">\n  <thead>\n    <tr style=\"text-align: right;\">\n      <th></th>\n      <th>IdLandkreis</th>\n      <th>AnzahlFall</th>\n      <th>AnzahlTodesfall</th>\n      <th>AnzahlGenesen</th>\n    </tr>\n    <tr>\n      <th>Landkreis</th>\n      <th></th>\n      <th></th>\n      <th></th>\n      <th></th>\n    </tr>\n  </thead>\n  <tbody>\n    <tr>\n      <th>LK Ahrweiler</th>\n      <td>07131</td>\n      <td>277</td>\n      <td>2</td>\n      <td>240</td>\n    </tr>\n    <tr>\n      <th>LK Aichach-Friedberg</th>\n      <td>09771</td>\n      <td>425</td>\n      <td>20</td>\n      <td>387</td>\n    </tr>\n    <tr>\n      <th>LK Alb-Donau-Kreis</th>\n      <td>08425</td>\n      <td>745</td>\n      <td>27</td>\n      <td>666</td>\n    </tr>\n    <tr>\n      <th>LK Altenburger Land</th>\n      <td>16077</td>\n      <td>80</td>\n      <td>4</td>\n      <td>75</td>\n    </tr>\n    <tr>\n      <th>LK Altenkirchen</th>\n      <td>07132</td>\n      <td>200</td>\n      <td>11</td>\n      <td>178</td>\n    </tr>\n    <tr>\n      <th>...</th>\n      <td>...</td>\n      <td>...</td>\n      <td>...</td>\n      <td>...</td>\n    </tr>\n    <tr>\n      <th>SK Worms</th>\n      <td>07319</td>\n      <td>260</td>\n      <td>8</td>\n      <td>225</td>\n    </tr>\n    <tr>\n      <th>SK Wuppertal</th>\n      <td>05124</td>\n      <td>1363</td>\n      <td>86</td>\n      <td>1101</td>\n    </tr>\n    <tr>\n      <th>SK Würzburg</th>\n      <td>09663</td>\n      <td>518</td>\n      <td>52</td>\n      <td>445</td>\n    </tr>\n    <tr>\n      <th>SK Zweibrücken</th>\n      <td>07320</td>\n      <td>47</td>\n      <td>1</td>\n      <td>43</td>\n    </tr>\n    <tr>\n      <th>StadtRegion Aachen</th>\n      <td>05334</td>\n      <td>2303</td>\n      <td>102</td>\n      <td>2099</td>\n    </tr>\n  </tbody>\n</table>\n<p>412 rows × 4 columns</p>\n</div>"
     },
     "metadata": {},
     "execution_count": 16
    }
   ],
   "source": [
    "frameByLK"
   ]
  },
  {
   "cell_type": "code",
   "execution_count": 17,
   "metadata": {},
   "outputs": [],
   "source": [
    "frameByLK.to_csv('frameByLK.csv', index=True, encoding='utf-8')"
   ]
  },
  {
   "cell_type": "code",
   "execution_count": 18,
   "metadata": {},
   "outputs": [
    {
     "output_type": "display_data",
     "data": {
      "text/plain": "                           AnzahlFall  AnzahlTodesfall  AnzahlGenesen  acute\nIdLandkreis Refdatum                                                        \n01001       1583798400000           1                0              1      0\n            1583884800000           2                0              2      0\n            1583971200000           3                0              3      0\n...                               ...              ...            ...    ...\n16077       1593820800000          77                4             73      0\n            1594771200000          79                4             75      0\n            1598227200000          80                4             75      1\n\n[41052 rows x 4 columns]",
      "text/html": "<div>\n<style scoped>\n    .dataframe tbody tr th:only-of-type {\n        vertical-align: middle;\n    }\n\n    .dataframe tbody tr th {\n        vertical-align: top;\n    }\n\n    .dataframe thead th {\n        text-align: right;\n    }\n</style>\n<table border=\"1\" class=\"dataframe\">\n  <thead>\n    <tr style=\"text-align: right;\">\n      <th></th>\n      <th></th>\n      <th>AnzahlFall</th>\n      <th>AnzahlTodesfall</th>\n      <th>AnzahlGenesen</th>\n      <th>acute</th>\n    </tr>\n    <tr>\n      <th>IdLandkreis</th>\n      <th>Refdatum</th>\n      <th></th>\n      <th></th>\n      <th></th>\n      <th></th>\n    </tr>\n  </thead>\n  <tbody>\n    <tr>\n      <th rowspan=\"3\" valign=\"top\">01001</th>\n      <th>1583798400000</th>\n      <td>1</td>\n      <td>0</td>\n      <td>1</td>\n      <td>0</td>\n    </tr>\n    <tr>\n      <th>1583884800000</th>\n      <td>2</td>\n      <td>0</td>\n      <td>2</td>\n      <td>0</td>\n    </tr>\n    <tr>\n      <th>1583971200000</th>\n      <td>3</td>\n      <td>0</td>\n      <td>3</td>\n      <td>0</td>\n    </tr>\n    <tr>\n      <th>...</th>\n      <th>...</th>\n      <td>...</td>\n      <td>...</td>\n      <td>...</td>\n      <td>...</td>\n    </tr>\n    <tr>\n      <th rowspan=\"3\" valign=\"top\">16077</th>\n      <th>1593820800000</th>\n      <td>77</td>\n      <td>4</td>\n      <td>73</td>\n      <td>0</td>\n    </tr>\n    <tr>\n      <th>1594771200000</th>\n      <td>79</td>\n      <td>4</td>\n      <td>75</td>\n      <td>0</td>\n    </tr>\n    <tr>\n      <th>1598227200000</th>\n      <td>80</td>\n      <td>4</td>\n      <td>75</td>\n      <td>1</td>\n    </tr>\n  </tbody>\n</table>\n<p>41052 rows × 4 columns</p>\n</div>"
     },
     "metadata": {}
    }
   ],
   "source": [
    "dfx_slim = dfx.drop(columns=['IdBundesland', 'Bundesland', 'ObjectId', 'NeuerFall', 'NeuerTodesfall', 'IstErkrankungsbeginn', 'NeuGenesen', 'Meldedatum', 'Datenstand', 'Landkreis']).groupby(['Refdatum', 'IdLandkreis', 'Altersgruppe']).sum().groupby(['Refdatum', 'IdLandkreis']).sum()\n",
    "dfx_slim = dfx_slim.groupby(['IdLandkreis', 'Refdatum']).sum().groupby(level=[0]).cumsum()\n",
    "dfx_slim['acute'] = dfx_slim['AnzahlFall'] - (dfx_slim['AnzahlTodesfall'] + dfx_slim['AnzahlGenesen'])\n",
    "display_n(dfx_slim, 3)"
   ]
  },
  {
   "cell_type": "code",
   "execution_count": 19,
   "metadata": {},
   "outputs": [],
   "source": [
    "dfx_slim.to_csv('timeFrameByLK.csv', index=True, encoding='utf-8')"
   ]
  },
  {
   "cell_type": "code",
   "execution_count": null,
   "metadata": {},
   "outputs": [],
   "source": []
  }
 ]
}