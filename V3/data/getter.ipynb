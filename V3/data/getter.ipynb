{
 "metadata": {
  "language_info": {
   "codemirror_mode": {
    "name": "ipython",
    "version": 3
   },
   "file_extension": ".py",
   "mimetype": "text/x-python",
   "name": "python",
   "nbconvert_exporter": "python",
   "pygments_lexer": "ipython3",
   "version": "3.7.6-final"
  },
  "orig_nbformat": 2,
  "kernelspec": {
   "name": "python37664bitac0d5f4ec08e4e2c9866d97442c37502",
   "display_name": "Python 3.7.6 64-bit"
  }
 },
 "nbformat": 4,
 "nbformat_minor": 2,
 "cells": [
  {
   "cell_type": "markdown",
   "metadata": {},
   "source": [
    "# Covid-19 data download & processing\n",
    "---\n",
    "This Python Script downloads an up-to-date dataset for **Covid-19** and exports the data to the data folder.\n",
    "\n",
    "The Data is from the **R**obert **K**och **I**nstitut downloaded over [ArcGis Hub](https://hub.arcgis.com/datasets/dd4580c810204019a7b8eb3e0b329dd6?page=15976).\n",
    "\n",
    "*Script was created on Python: 3.7.6 64-bit Kernel*"
   ]
  },
  {
   "cell_type": "code",
   "execution_count": 1,
   "metadata": {},
   "outputs": [],
   "source": [
    "import pandas as pd\n",
    "import math\n",
    "\n",
    "import io               # file operations\n",
    "import json\n",
    "\n",
    "import ssl              # secure client-server connection\n",
    "import requests         # html-requests"
   ]
  },
  {
   "cell_type": "code",
   "execution_count": 2,
   "metadata": {},
   "outputs": [],
   "source": [
    "# Uncomment next 2 lines to install jsonmerge\n",
    "#import sys\n",
    "#!{sys.executable} -m pip install jsonmerge\n",
    "from jsonmerge import Merger"
   ]
  },
  {
   "cell_type": "code",
   "execution_count": 3,
   "metadata": {},
   "outputs": [],
   "source": [
    "sourceURL = 'https://services7.arcgis.com/mOBPykOjAyBO2ZKk/arcgis/rest/services/RKI_COVID19/FeatureServer/0/query?'\n",
    "objectIdsQuery = 'where=1%3D1&returnIdsOnly=true&f=json'\n",
    "dataSetQuery = 'where=ObjectId+BETWEEN+0+AND+0' # just an example gets created later dynamically\n",
    "dataQuery = '&outSR=4326&outFields=IdBundesland,Bundesland,Landkreis,Altersgruppe,AnzahlFall,AnzahlTodesfall,ObjectId,Meldedatum,IdLandkreis,Datenstand,NeuerFall,NeuerTodesfall,Refdatum,NeuGenesen,AnzahlGenesen,IstErkrankungsbeginn&f=json'"
   ]
  },
  {
   "cell_type": "markdown",
   "metadata": {},
   "source": [
    "## Requesting which Features (ObjectID´s) are available"
   ]
  },
  {
   "cell_type": "code",
   "execution_count": 4,
   "metadata": {},
   "outputs": [
    {
     "output_type": "execute_result",
     "data": {
      "text/plain": "200"
     },
     "metadata": {},
     "execution_count": 4
    }
   ],
   "source": [
    "objectIdsRequest = requests.get(sourceURL + objectIdsQuery)\n",
    "objectIdsRequest.status_code"
   ]
  },
  {
   "cell_type": "code",
   "execution_count": 5,
   "metadata": {
    "tags": []
   },
   "outputs": [
    {
     "output_type": "stream",
     "name": "stdout",
     "text": "Range of ObjectIds: [37221065, 37440569]\n"
    }
   ],
   "source": [
    "objectIds = json.loads(objectIdsRequest.text)\n",
    "\n",
    "numOfObjectIds = len(objectIds['objectIds'])\n",
    "\n",
    "objectIdStart = objectIds['objectIds'][0]\n",
    "objectIdEnd = objectIds['objectIds'][numOfObjectIds - 1]\n",
    "print(f'Range of ObjectIds: [{objectIdStart}, {objectIdEnd}]')"
   ]
  },
  {
   "cell_type": "markdown",
   "metadata": {},
   "source": [
    "## Requesting Features"
   ]
  },
  {
   "cell_type": "code",
   "execution_count": 6,
   "metadata": {},
   "outputs": [
    {
     "output_type": "execute_result",
     "data": {
      "text/plain": "200"
     },
     "metadata": {},
     "execution_count": 6
    }
   ],
   "source": [
    "dataRequest = requests.get(sourceURL + 'where=1%3D1' + dataQuery)\n",
    "dataRequest.status_code"
   ]
  },
  {
   "cell_type": "code",
   "execution_count": 7,
   "metadata": {
    "tags": []
   },
   "outputs": [
    {
     "output_type": "stream",
     "name": "stdout",
     "text": "The download will require 43 more requests due to the server limit of 5000 features/request.\n"
    }
   ],
   "source": [
    "data = json.loads(dataRequest.text)\n",
    "maxApiRequest = len(data['features'])\n",
    "\n",
    "neededRequests = math.ceil(numOfObjectIds / maxApiRequest)\n",
    "\n",
    "print(f'The download will require {neededRequests - 1} more requests due to the server limit of {maxApiRequest} features/request.')"
   ]
  },
  {
   "cell_type": "code",
   "execution_count": 8,
   "metadata": {},
   "outputs": [],
   "source": [
    "# Json-Merger with custom rule\n",
    "jsonMergeSchema = {\"properties\":{\"features\":{\"mergeStrategy\":\"append\"}}}\n",
    "dataMerger = Merger(jsonMergeSchema)"
   ]
  },
  {
   "cell_type": "code",
   "execution_count": 9,
   "metadata": {
    "tags": []
   },
   "outputs": [
    {
     "output_type": "stream",
     "name": "stdout",
     "text": "0 Pulling ObjectIds: [37226070, 37231070]\nTotal collected features: 10000 From ObjectIds: [37221065, 37231069]\n1 Pulling ObjectIds: [37231071, 37236071]\nTotal collected features: 15000 From ObjectIds: [37221065, 37236070]\n2 Pulling ObjectIds: [37236072, 37241072]\nTotal collected features: 20000 From ObjectIds: [37221065, 37241071]\n3 Pulling ObjectIds: [37241073, 37246073]\nTotal collected features: 25000 From ObjectIds: [37221065, 37246072]\n4 Pulling ObjectIds: [37246074, 37251074]\nTotal collected features: 30000 From ObjectIds: [37221065, 37251073]\n5 Pulling ObjectIds: [37251075, 37256075]\nTotal collected features: 35000 From ObjectIds: [37221065, 37256074]\n6 Pulling ObjectIds: [37256076, 37261076]\nTotal collected features: 40000 From ObjectIds: [37221065, 37261075]\n7 Pulling ObjectIds: [37261077, 37266077]\nTotal collected features: 45000 From ObjectIds: [37221065, 37266076]\n8 Pulling ObjectIds: [37266078, 37271078]\nTotal collected features: 50000 From ObjectIds: [37221065, 37271077]\n9 Pulling ObjectIds: [37271079, 37276079]\nTotal collected features: 55000 From ObjectIds: [37221065, 37276078]\n10 Pulling ObjectIds: [37276080, 37281080]\nTotal collected features: 60000 From ObjectIds: [37221065, 37281079]\n11 Pulling ObjectIds: [37281081, 37286081]\nTotal collected features: 65000 From ObjectIds: [37221065, 37286080]\n12 Pulling ObjectIds: [37286082, 37291082]\nTotal collected features: 70000 From ObjectIds: [37221065, 37291081]\n13 Pulling ObjectIds: [37291083, 37296083]\nTotal collected features: 75000 From ObjectIds: [37221065, 37296082]\n14 Pulling ObjectIds: [37296084, 37301084]\nTotal collected features: 80000 From ObjectIds: [37221065, 37301083]\n15 Pulling ObjectIds: [37301085, 37306085]\nTotal collected features: 85000 From ObjectIds: [37221065, 37306084]\n16 Pulling ObjectIds: [37306086, 37311086]\nTotal collected features: 90000 From ObjectIds: [37221065, 37311085]\n17 Pulling ObjectIds: [37311087, 37316087]\nTotal collected features: 95000 From ObjectIds: [37221065, 37316086]\n18 Pulling ObjectIds: [37316088, 37321088]\nTotal collected features: 100000 From ObjectIds: [37221065, 37321087]\n19 Pulling ObjectIds: [37321089, 37326089]\nTotal collected features: 105000 From ObjectIds: [37221065, 37326088]\n20 Pulling ObjectIds: [37326090, 37331090]\nTotal collected features: 110000 From ObjectIds: [37221065, 37331089]\n21 Pulling ObjectIds: [37331091, 37336091]\nTotal collected features: 115000 From ObjectIds: [37221065, 37336090]\n22 Pulling ObjectIds: [37336092, 37341092]\nTotal collected features: 120000 From ObjectIds: [37221065, 37341091]\n23 Pulling ObjectIds: [37341093, 37346093]\nTotal collected features: 125000 From ObjectIds: [37221065, 37346092]\n24 Pulling ObjectIds: [37346094, 37351094]\nTotal collected features: 130000 From ObjectIds: [37221065, 37351093]\n25 Pulling ObjectIds: [37351095, 37356095]\nTotal collected features: 135000 From ObjectIds: [37221065, 37356094]\n26 Pulling ObjectIds: [37356096, 37361096]\nTotal collected features: 140000 From ObjectIds: [37221065, 37361095]\n27 Pulling ObjectIds: [37361097, 37366097]\nTotal collected features: 145000 From ObjectIds: [37221065, 37366096]\n28 Pulling ObjectIds: [37366098, 37371098]\nTotal collected features: 150000 From ObjectIds: [37221065, 37371097]\n29 Pulling ObjectIds: [37371099, 37376099]\nTotal collected features: 155000 From ObjectIds: [37221065, 37376098]\n30 Pulling ObjectIds: [37376100, 37381100]\nTotal collected features: 160000 From ObjectIds: [37221065, 37381099]\n31 Pulling ObjectIds: [37381101, 37386101]\nTotal collected features: 165000 From ObjectIds: [37221065, 37386100]\n32 Pulling ObjectIds: [37386102, 37391102]\nTotal collected features: 170000 From ObjectIds: [37221065, 37391101]\n33 Pulling ObjectIds: [37391103, 37396103]\nTotal collected features: 175000 From ObjectIds: [37221065, 37396102]\n34 Pulling ObjectIds: [37396104, 37401104]\nTotal collected features: 180000 From ObjectIds: [37221065, 37401103]\n35 Pulling ObjectIds: [37401105, 37406105]\nTotal collected features: 185000 From ObjectIds: [37221065, 37406104]\n36 Pulling ObjectIds: [37406106, 37411106]\nTotal collected features: 190000 From ObjectIds: [37221065, 37411105]\n37 Pulling ObjectIds: [37411107, 37416107]\nTotal collected features: 195000 From ObjectIds: [37221065, 37416106]\n38 Pulling ObjectIds: [37416108, 37421108]\nTotal collected features: 200000 From ObjectIds: [37221065, 37421107]\n39 Pulling ObjectIds: [37421109, 37426109]\nTotal collected features: 205000 From ObjectIds: [37221065, 37426108]\n40 Pulling ObjectIds: [37426110, 37431110]\nTotal collected features: 210000 From ObjectIds: [37221065, 37431109]\n41 Pulling ObjectIds: [37431111, 37436111]\nTotal collected features: 215000 From ObjectIds: [37221065, 37436110]\n42 Pulling ObjectIds: [37436112, 37440569]\nTotal collected features: 219458 From ObjectIds: [37221065, 37440569]\nDone\n"
    }
   ],
   "source": [
    "i = 0\n",
    "rangeLowerEnd = data['features'][maxApiRequest - 1]['attributes']['ObjectId'] + 1\n",
    "rangeUpperEnd = rangeLowerEnd + maxApiRequest\n",
    "\n",
    "while (i < neededRequests - 1): # neededRequests - 1 because of initial download\n",
    "    dataSetQuery = f'where=ObjectId+BETWEEN+{rangeLowerEnd}+AND+{rangeUpperEnd}'\n",
    "    temp_sourceURL = sourceURL + dataSetQuery + dataQuery\n",
    "    print(i, f'Pulling ObjectIds: [{rangeLowerEnd}, {rangeUpperEnd}]')\n",
    "\n",
    "    temp_dataRequest = requests.get(temp_sourceURL)\n",
    "    if (temp_dataRequest.status_code > 200): # stop when a request isn´t working\n",
    "        print(f'Error in request: {temp_dataRequest.status_code}')\n",
    "        break\n",
    "    temp_data = json.loads(temp_dataRequest.text)\n",
    "\n",
    "    # append new data to already downloaded one\n",
    "    data = dataMerger.merge(data, temp_data)\n",
    "\n",
    "    temp_dataLength = len(data['features'])\n",
    "    t_le = data['features'][0]['attributes']['ObjectId']\n",
    "    t_ue = data['features'][temp_dataLength - 1]['attributes']['ObjectId']\n",
    "    print(f'Total collected features: {temp_dataLength} From ObjectIds: [{t_le}, {t_ue}]')\n",
    "\n",
    "    rangeLowerEnd = rangeUpperEnd + 1\n",
    "    rangeUpperEnd += maxApiRequest + 1\n",
    "    if (rangeUpperEnd > objectIdEnd):\n",
    "        rangeUpperEnd = objectIdEnd\n",
    "    i += 1\n",
    "\n",
    "print('Done')"
   ]
  },
  {
   "cell_type": "code",
   "execution_count": 10,
   "metadata": {
    "tags": []
   },
   "outputs": [
    {
     "output_type": "stream",
     "name": "stdout",
     "text": "Entries:  219458\nStructure:  {'attributes': {'IdBundesland': 1, 'Bundesland': 'Schleswig-Holstein', 'Landkreis': 'SK Flensburg', 'Altersgruppe': 'A00-A04', 'AnzahlFall': 1, 'AnzahlTodesfall': 0, 'ObjectId': 37221065, 'Meldedatum': 1598227200000, 'IdLandkreis': '01001', 'Datenstand': '22.09.2020, 00:00 Uhr', 'NeuerFall': 0, 'NeuerTodesfall': -9, 'Refdatum': 1598227200000, 'NeuGenesen': 0, 'AnzahlGenesen': 1, 'IstErkrankungsbeginn': 0}}\nLatest data:  22.09.2020, 00:00 Uhr\n"
    }
   ],
   "source": [
    "print('Entries: ', len(data['features']))\n",
    "print('Structure: ', data['features'][0])\n",
    "print('Latest data: ', data['features'][0]['attributes']['Datenstand'])"
   ]
  },
  {
   "cell_type": "code",
   "execution_count": 11,
   "metadata": {},
   "outputs": [],
   "source": [
    "def display_n(df,n): \n",
    "    with pd.option_context('display.max_rows',n*2):\n",
    "        display(df)"
   ]
  },
  {
   "cell_type": "code",
   "execution_count": 12,
   "metadata": {},
   "outputs": [
    {
     "output_type": "display_data",
     "data": {
      "text/plain": "                                               attributes\n0       {'IdBundesland': 1, 'Bundesland': 'Schleswig-H...\n1       {'IdBundesland': 1, 'Bundesland': 'Schleswig-H...\n...                                                   ...\n219456  {'IdBundesland': 16, 'Bundesland': 'Thüringen'...\n219457  {'IdBundesland': 16, 'Bundesland': 'Thüringen'...\n\n[219458 rows x 1 columns]",
      "text/html": "<div>\n<style scoped>\n    .dataframe tbody tr th:only-of-type {\n        vertical-align: middle;\n    }\n\n    .dataframe tbody tr th {\n        vertical-align: top;\n    }\n\n    .dataframe thead th {\n        text-align: right;\n    }\n</style>\n<table border=\"1\" class=\"dataframe\">\n  <thead>\n    <tr style=\"text-align: right;\">\n      <th></th>\n      <th>attributes</th>\n    </tr>\n  </thead>\n  <tbody>\n    <tr>\n      <th>0</th>\n      <td>{'IdBundesland': 1, 'Bundesland': 'Schleswig-H...</td>\n    </tr>\n    <tr>\n      <th>1</th>\n      <td>{'IdBundesland': 1, 'Bundesland': 'Schleswig-H...</td>\n    </tr>\n    <tr>\n      <th>...</th>\n      <td>...</td>\n    </tr>\n    <tr>\n      <th>219456</th>\n      <td>{'IdBundesland': 16, 'Bundesland': 'Thüringen'...</td>\n    </tr>\n    <tr>\n      <th>219457</th>\n      <td>{'IdBundesland': 16, 'Bundesland': 'Thüringen'...</td>\n    </tr>\n  </tbody>\n</table>\n<p>219458 rows × 1 columns</p>\n</div>"
     },
     "metadata": {}
    }
   ],
   "source": [
    "dfx = pd.DataFrame.from_dict(data['features'])\n",
    "display_n(dfx, 2)"
   ]
  },
  {
   "cell_type": "code",
   "execution_count": 13,
   "metadata": {},
   "outputs": [
    {
     "output_type": "display_data",
     "data": {
      "text/plain": "        IdBundesland          Bundesland            Landkreis Altersgruppe  \\\n0                  1  Schleswig-Holstein         SK Flensburg      A00-A04   \n1                  1  Schleswig-Holstein         SK Flensburg      A05-A14   \n...              ...                 ...                  ...          ...   \n219456            16           Thüringen  LK Altenburger Land         A80+   \n219457            16           Thüringen  LK Altenburger Land         A80+   \n\n        AnzahlFall  AnzahlTodesfall  ObjectId     Meldedatum IdLandkreis  \\\n0                1                0  37221065  1598227200000       01001   \n1                1                0  37221066  1597449600000       01001   \n...            ...              ...       ...            ...         ...   \n219456           2                0  37440568  1590624000000       16077   \n219457           1                0  37440569  1591660800000       16077   \n\n                   Datenstand  NeuerFall  NeuerTodesfall       Refdatum  \\\n0       22.09.2020, 00:00 Uhr          0              -9  1598227200000   \n1       22.09.2020, 00:00 Uhr          0              -9  1597449600000   \n...                       ...        ...             ...            ...   \n219456  22.09.2020, 00:00 Uhr          0              -9  1590624000000   \n219457  22.09.2020, 00:00 Uhr          0              -9  1591660800000   \n\n        NeuGenesen  AnzahlGenesen  IstErkrankungsbeginn  \n0                0              1                     0  \n1                0              1                     0  \n...            ...            ...                   ...  \n219456           0              2                     0  \n219457           0              1                     0  \n\n[219458 rows x 16 columns]",
      "text/html": "<div>\n<style scoped>\n    .dataframe tbody tr th:only-of-type {\n        vertical-align: middle;\n    }\n\n    .dataframe tbody tr th {\n        vertical-align: top;\n    }\n\n    .dataframe thead th {\n        text-align: right;\n    }\n</style>\n<table border=\"1\" class=\"dataframe\">\n  <thead>\n    <tr style=\"text-align: right;\">\n      <th></th>\n      <th>IdBundesland</th>\n      <th>Bundesland</th>\n      <th>Landkreis</th>\n      <th>Altersgruppe</th>\n      <th>AnzahlFall</th>\n      <th>AnzahlTodesfall</th>\n      <th>ObjectId</th>\n      <th>Meldedatum</th>\n      <th>IdLandkreis</th>\n      <th>Datenstand</th>\n      <th>NeuerFall</th>\n      <th>NeuerTodesfall</th>\n      <th>Refdatum</th>\n      <th>NeuGenesen</th>\n      <th>AnzahlGenesen</th>\n      <th>IstErkrankungsbeginn</th>\n    </tr>\n  </thead>\n  <tbody>\n    <tr>\n      <th>0</th>\n      <td>1</td>\n      <td>Schleswig-Holstein</td>\n      <td>SK Flensburg</td>\n      <td>A00-A04</td>\n      <td>1</td>\n      <td>0</td>\n      <td>37221065</td>\n      <td>1598227200000</td>\n      <td>01001</td>\n      <td>22.09.2020, 00:00 Uhr</td>\n      <td>0</td>\n      <td>-9</td>\n      <td>1598227200000</td>\n      <td>0</td>\n      <td>1</td>\n      <td>0</td>\n    </tr>\n    <tr>\n      <th>1</th>\n      <td>1</td>\n      <td>Schleswig-Holstein</td>\n      <td>SK Flensburg</td>\n      <td>A05-A14</td>\n      <td>1</td>\n      <td>0</td>\n      <td>37221066</td>\n      <td>1597449600000</td>\n      <td>01001</td>\n      <td>22.09.2020, 00:00 Uhr</td>\n      <td>0</td>\n      <td>-9</td>\n      <td>1597449600000</td>\n      <td>0</td>\n      <td>1</td>\n      <td>0</td>\n    </tr>\n    <tr>\n      <th>...</th>\n      <td>...</td>\n      <td>...</td>\n      <td>...</td>\n      <td>...</td>\n      <td>...</td>\n      <td>...</td>\n      <td>...</td>\n      <td>...</td>\n      <td>...</td>\n      <td>...</td>\n      <td>...</td>\n      <td>...</td>\n      <td>...</td>\n      <td>...</td>\n      <td>...</td>\n      <td>...</td>\n    </tr>\n    <tr>\n      <th>219456</th>\n      <td>16</td>\n      <td>Thüringen</td>\n      <td>LK Altenburger Land</td>\n      <td>A80+</td>\n      <td>2</td>\n      <td>0</td>\n      <td>37440568</td>\n      <td>1590624000000</td>\n      <td>16077</td>\n      <td>22.09.2020, 00:00 Uhr</td>\n      <td>0</td>\n      <td>-9</td>\n      <td>1590624000000</td>\n      <td>0</td>\n      <td>2</td>\n      <td>0</td>\n    </tr>\n    <tr>\n      <th>219457</th>\n      <td>16</td>\n      <td>Thüringen</td>\n      <td>LK Altenburger Land</td>\n      <td>A80+</td>\n      <td>1</td>\n      <td>0</td>\n      <td>37440569</td>\n      <td>1591660800000</td>\n      <td>16077</td>\n      <td>22.09.2020, 00:00 Uhr</td>\n      <td>0</td>\n      <td>-9</td>\n      <td>1591660800000</td>\n      <td>0</td>\n      <td>1</td>\n      <td>0</td>\n    </tr>\n  </tbody>\n</table>\n<p>219458 rows × 16 columns</p>\n</div>"
     },
     "metadata": {}
    }
   ],
   "source": [
    "# turning the collumn attributes in seperated collumns\n",
    "for rowid in data['fields']:\n",
    "    dfx[rowid['name']] = dfx.apply(lambda row: row.loc['attributes'][rowid['name']], axis=1)\n",
    "dfx = dfx.drop(['attributes'], axis=1)\n",
    "display_n(dfx, 2)"
   ]
  },
  {
   "cell_type": "code",
   "execution_count": 14,
   "metadata": {},
   "outputs": [
    {
     "output_type": "execute_result",
     "data": {
      "text/plain": "'SK Flensburg'"
     },
     "metadata": {},
     "execution_count": 14
    }
   ],
   "source": [
    "data['features'][0]['attributes']['Landkreis']"
   ]
  },
  {
   "cell_type": "code",
   "execution_count": 15,
   "metadata": {},
   "outputs": [],
   "source": [
    "frameByLK = dfx.groupby(['Landkreis', 'IdLandkreis'])['AnzahlFall', 'AnzahlTodesfall', 'AnzahlGenesen'].sum().reset_index().set_index('Landkreis')"
   ]
  },
  {
   "cell_type": "code",
   "execution_count": 16,
   "metadata": {},
   "outputs": [
    {
     "output_type": "execute_result",
     "data": {
      "text/plain": "                     IdLandkreis  AnzahlFall  AnzahlTodesfall  AnzahlGenesen\nLandkreis                                                                   \nLK Ahrweiler               07131         346                3            322\nLK Aichach-Friedberg       09771         473               20            437\nLK Alb-Donau-Kreis         08425         870               26            777\nLK Altenburger Land        16077         105                4            100\nLK Altenkirchen            07132         232               11            204\n...                          ...         ...              ...            ...\nSK Worms                   07319         315                8            276\nSK Wuppertal               05124        1612               86           1403\nSK Würzburg                09663         758               52            477\nSK Zweibrücken             07320          56                1             50\nStadtRegion Aachen         05334        2560              104           2319\n\n[413 rows x 4 columns]",
      "text/html": "<div>\n<style scoped>\n    .dataframe tbody tr th:only-of-type {\n        vertical-align: middle;\n    }\n\n    .dataframe tbody tr th {\n        vertical-align: top;\n    }\n\n    .dataframe thead th {\n        text-align: right;\n    }\n</style>\n<table border=\"1\" class=\"dataframe\">\n  <thead>\n    <tr style=\"text-align: right;\">\n      <th></th>\n      <th>IdLandkreis</th>\n      <th>AnzahlFall</th>\n      <th>AnzahlTodesfall</th>\n      <th>AnzahlGenesen</th>\n    </tr>\n    <tr>\n      <th>Landkreis</th>\n      <th></th>\n      <th></th>\n      <th></th>\n      <th></th>\n    </tr>\n  </thead>\n  <tbody>\n    <tr>\n      <th>LK Ahrweiler</th>\n      <td>07131</td>\n      <td>346</td>\n      <td>3</td>\n      <td>322</td>\n    </tr>\n    <tr>\n      <th>LK Aichach-Friedberg</th>\n      <td>09771</td>\n      <td>473</td>\n      <td>20</td>\n      <td>437</td>\n    </tr>\n    <tr>\n      <th>LK Alb-Donau-Kreis</th>\n      <td>08425</td>\n      <td>870</td>\n      <td>26</td>\n      <td>777</td>\n    </tr>\n    <tr>\n      <th>LK Altenburger Land</th>\n      <td>16077</td>\n      <td>105</td>\n      <td>4</td>\n      <td>100</td>\n    </tr>\n    <tr>\n      <th>LK Altenkirchen</th>\n      <td>07132</td>\n      <td>232</td>\n      <td>11</td>\n      <td>204</td>\n    </tr>\n    <tr>\n      <th>...</th>\n      <td>...</td>\n      <td>...</td>\n      <td>...</td>\n      <td>...</td>\n    </tr>\n    <tr>\n      <th>SK Worms</th>\n      <td>07319</td>\n      <td>315</td>\n      <td>8</td>\n      <td>276</td>\n    </tr>\n    <tr>\n      <th>SK Wuppertal</th>\n      <td>05124</td>\n      <td>1612</td>\n      <td>86</td>\n      <td>1403</td>\n    </tr>\n    <tr>\n      <th>SK Würzburg</th>\n      <td>09663</td>\n      <td>758</td>\n      <td>52</td>\n      <td>477</td>\n    </tr>\n    <tr>\n      <th>SK Zweibrücken</th>\n      <td>07320</td>\n      <td>56</td>\n      <td>1</td>\n      <td>50</td>\n    </tr>\n    <tr>\n      <th>StadtRegion Aachen</th>\n      <td>05334</td>\n      <td>2560</td>\n      <td>104</td>\n      <td>2319</td>\n    </tr>\n  </tbody>\n</table>\n<p>413 rows × 4 columns</p>\n</div>"
     },
     "metadata": {},
     "execution_count": 16
    }
   ],
   "source": [
    "frameByLK"
   ]
  },
  {
   "cell_type": "code",
   "execution_count": 17,
   "metadata": {},
   "outputs": [],
   "source": [
    "frameByLK.to_csv('frameByLK.csv', index=True, encoding='utf-8')"
   ]
  },
  {
   "cell_type": "code",
   "execution_count": 18,
   "metadata": {},
   "outputs": [
    {
     "output_type": "display_data",
     "data": {
      "text/plain": "                           AnzahlFall  AnzahlTodesfall  AnzahlGenesen  acute\nIdLandkreis Refdatum                                                        \n01001       1583798400000           1                0              1      0\n            1583884800000           2                0              2      0\n            1583971200000           3                0              3      0\n...                               ...              ...            ...    ...\n16077       1599264000000          99                4             95      0\n            1599523200000         104                4            100      0\n            1599955200000         105                4            100      1\n\n[49139 rows x 4 columns]",
      "text/html": "<div>\n<style scoped>\n    .dataframe tbody tr th:only-of-type {\n        vertical-align: middle;\n    }\n\n    .dataframe tbody tr th {\n        vertical-align: top;\n    }\n\n    .dataframe thead th {\n        text-align: right;\n    }\n</style>\n<table border=\"1\" class=\"dataframe\">\n  <thead>\n    <tr style=\"text-align: right;\">\n      <th></th>\n      <th></th>\n      <th>AnzahlFall</th>\n      <th>AnzahlTodesfall</th>\n      <th>AnzahlGenesen</th>\n      <th>acute</th>\n    </tr>\n    <tr>\n      <th>IdLandkreis</th>\n      <th>Refdatum</th>\n      <th></th>\n      <th></th>\n      <th></th>\n      <th></th>\n    </tr>\n  </thead>\n  <tbody>\n    <tr>\n      <th rowspan=\"3\" valign=\"top\">01001</th>\n      <th>1583798400000</th>\n      <td>1</td>\n      <td>0</td>\n      <td>1</td>\n      <td>0</td>\n    </tr>\n    <tr>\n      <th>1583884800000</th>\n      <td>2</td>\n      <td>0</td>\n      <td>2</td>\n      <td>0</td>\n    </tr>\n    <tr>\n      <th>1583971200000</th>\n      <td>3</td>\n      <td>0</td>\n      <td>3</td>\n      <td>0</td>\n    </tr>\n    <tr>\n      <th>...</th>\n      <th>...</th>\n      <td>...</td>\n      <td>...</td>\n      <td>...</td>\n      <td>...</td>\n    </tr>\n    <tr>\n      <th rowspan=\"3\" valign=\"top\">16077</th>\n      <th>1599264000000</th>\n      <td>99</td>\n      <td>4</td>\n      <td>95</td>\n      <td>0</td>\n    </tr>\n    <tr>\n      <th>1599523200000</th>\n      <td>104</td>\n      <td>4</td>\n      <td>100</td>\n      <td>0</td>\n    </tr>\n    <tr>\n      <th>1599955200000</th>\n      <td>105</td>\n      <td>4</td>\n      <td>100</td>\n      <td>1</td>\n    </tr>\n  </tbody>\n</table>\n<p>49139 rows × 4 columns</p>\n</div>"
     },
     "metadata": {}
    }
   ],
   "source": [
    "dfx_slim = dfx.drop(columns=['IdBundesland', 'Bundesland', 'ObjectId', 'NeuerFall', 'NeuerTodesfall', 'IstErkrankungsbeginn', 'NeuGenesen', 'Meldedatum', 'Datenstand', 'Landkreis']).groupby(['Refdatum', 'IdLandkreis', 'Altersgruppe']).sum().groupby(['Refdatum', 'IdLandkreis']).sum()\n",
    "dfx_slim = dfx_slim.groupby(['IdLandkreis', 'Refdatum']).sum().groupby(level=[0]).cumsum()\n",
    "dfx_slim['acute'] = dfx_slim['AnzahlFall'] - (dfx_slim['AnzahlTodesfall'] + dfx_slim['AnzahlGenesen'])\n",
    "display_n(dfx_slim, 3)"
   ]
  },
  {
   "cell_type": "code",
   "execution_count": 19,
   "metadata": {},
   "outputs": [],
   "source": [
    "dfx_slim.to_csv('timeFrameByLK.csv', index=True, encoding='utf-8')"
   ]
  },
  {
   "cell_type": "code",
   "execution_count": null,
   "metadata": {},
   "outputs": [],
   "source": []
  }
 ]
}