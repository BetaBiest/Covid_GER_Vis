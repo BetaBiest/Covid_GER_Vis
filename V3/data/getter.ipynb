{
 "metadata": {
  "language_info": {
   "codemirror_mode": {
    "name": "ipython",
    "version": 3
   },
   "file_extension": ".py",
   "mimetype": "text/x-python",
   "name": "python",
   "nbconvert_exporter": "python",
   "pygments_lexer": "ipython3",
   "version": "3.7.6-final"
  },
  "orig_nbformat": 2,
  "kernelspec": {
   "name": "python37664bitac0d5f4ec08e4e2c9866d97442c37502",
   "display_name": "Python 3.7.6 64-bit"
  }
 },
 "nbformat": 4,
 "nbformat_minor": 2,
 "cells": [
  {
   "cell_type": "markdown",
   "metadata": {},
   "source": [
    "# Covid-19 data download & processing\n",
    "---\n",
    "This Python Script downloads an up-to-date dataset for **Covid-19** and exports the data to the data folder.\n",
    "\n",
    "The Data is from the **R**obert **K**och **I**nstitut downloaded over [ArcGis Hub](https://hub.arcgis.com/datasets/dd4580c810204019a7b8eb3e0b329dd6?page=15976).\n",
    "\n",
    "*Script was created on Python: 3.7.6 64-bit Kernel*"
   ]
  },
  {
   "cell_type": "code",
   "execution_count": 1,
   "metadata": {},
   "outputs": [],
   "source": [
    "import pandas as pd\n",
    "import math\n",
    "\n",
    "import io               # file operations\n",
    "import json\n",
    "\n",
    "import ssl              # secure client-server connection\n",
    "import requests         # html-requests"
   ]
  },
  {
   "cell_type": "code",
   "execution_count": 2,
   "metadata": {},
   "outputs": [],
   "source": [
    "# Uncomment next 2 lines to install jsonmerge\n",
    "#import sys\n",
    "#!{sys.executable} -m pip install jsonmerge\n",
    "from jsonmerge import Merger"
   ]
  },
  {
   "cell_type": "code",
   "execution_count": 3,
   "metadata": {},
   "outputs": [],
   "source": [
    "sourceURL = 'https://services7.arcgis.com/mOBPykOjAyBO2ZKk/arcgis/rest/services/RKI_COVID19/FeatureServer/0/query?'\n",
    "objectIdsQuery = 'where=1%3D1&returnIdsOnly=true&f=json'\n",
    "dataSetQuery = 'where=ObjectId+BETWEEN+0+AND+0' # just an example gets created later dynamically\n",
    "dataQuery = '&outSR=4326&outFields=IdBundesland,Bundesland,Landkreis,Altersgruppe,AnzahlFall,AnzahlTodesfall,ObjectId,Meldedatum,IdLandkreis,Datenstand,NeuerFall,NeuerTodesfall,Refdatum,NeuGenesen,AnzahlGenesen,IstErkrankungsbeginn&f=json'"
   ]
  },
  {
   "cell_type": "markdown",
   "metadata": {},
   "source": [
    "## Requesting which Features (ObjectID´s) are available"
   ]
  },
  {
   "cell_type": "code",
   "execution_count": 4,
   "metadata": {},
   "outputs": [
    {
     "output_type": "execute_result",
     "data": {
      "text/plain": [
       "200"
      ]
     },
     "metadata": {},
     "execution_count": 4
    }
   ],
   "source": [
    "objectIdsRequest = requests.get(sourceURL + objectIdsQuery)\n",
    "objectIdsRequest.status_code"
   ]
  },
  {
   "cell_type": "code",
   "execution_count": 5,
   "metadata": {
    "tags": []
   },
   "outputs": [
    {
     "output_type": "stream",
     "name": "stdout",
     "text": [
      "Range of ObjectIds: [1, 510823]\n"
     ]
    }
   ],
   "source": [
    "objectIds = json.loads(objectIdsRequest.text)\n",
    "\n",
    "numOfObjectIds = len(objectIds['objectIds'])\n",
    "\n",
    "objectIdStart = objectIds['objectIds'][0]\n",
    "objectIdEnd = objectIds['objectIds'][numOfObjectIds - 1]\n",
    "print(f'Range of ObjectIds: [{objectIdStart}, {objectIdEnd}]')"
   ]
  },
  {
   "cell_type": "markdown",
   "metadata": {},
   "source": [
    "## Requesting Features"
   ]
  },
  {
   "cell_type": "code",
   "execution_count": 6,
   "metadata": {},
   "outputs": [
    {
     "output_type": "execute_result",
     "data": {
      "text/plain": [
       "200"
      ]
     },
     "metadata": {},
     "execution_count": 6
    }
   ],
   "source": [
    "dataRequest = requests.get(sourceURL + 'where=1%3D1' + dataQuery)\n",
    "dataRequest.status_code"
   ]
  },
  {
   "cell_type": "code",
   "execution_count": 7,
   "metadata": {
    "tags": []
   },
   "outputs": [
    {
     "output_type": "stream",
     "name": "stdout",
     "text": [
      "The download will require 102 more requests due to the server limit of 5000 features/request.\n"
     ]
    }
   ],
   "source": [
    "data = json.loads(dataRequest.text)\n",
    "maxApiRequest = len(data['features'])\n",
    "\n",
    "neededRequests = math.ceil(numOfObjectIds / maxApiRequest)\n",
    "\n",
    "print(f'The download will require {neededRequests - 1} more requests due to the server limit of {maxApiRequest} features/request.')"
   ]
  },
  {
   "cell_type": "code",
   "execution_count": 8,
   "metadata": {},
   "outputs": [],
   "source": [
    "# Json-Merger with custom rule\n",
    "jsonMergeSchema = {\"properties\":{\"features\":{\"mergeStrategy\":\"append\"}}}\n",
    "dataMerger = Merger(jsonMergeSchema)"
   ]
  },
  {
   "cell_type": "code",
   "execution_count": 9,
   "metadata": {
    "tags": []
   },
   "outputs": [
    {
     "output_type": "stream",
     "name": "stdout",
     "text": [
      "0 Pulling ObjectIds: [4021, 9021]\n",
      "Total collected features: 10000 From ObjectIds: [33, 9020]\n",
      "1 Pulling ObjectIds: [9022, 14022]\n",
      "Total collected features: 15000 From ObjectIds: [33, 14021]\n",
      "2 Pulling ObjectIds: [14023, 19023]\n",
      "Total collected features: 20000 From ObjectIds: [33, 19022]\n",
      "3 Pulling ObjectIds: [19024, 24024]\n",
      "Total collected features: 25000 From ObjectIds: [33, 24023]\n",
      "4 Pulling ObjectIds: [24025, 29025]\n",
      "Total collected features: 30000 From ObjectIds: [33, 29024]\n",
      "5 Pulling ObjectIds: [29026, 34026]\n",
      "Total collected features: 35000 From ObjectIds: [33, 34025]\n",
      "6 Pulling ObjectIds: [34027, 39027]\n",
      "Total collected features: 40000 From ObjectIds: [33, 39026]\n",
      "7 Pulling ObjectIds: [39028, 44028]\n",
      "Total collected features: 45000 From ObjectIds: [33, 44027]\n",
      "8 Pulling ObjectIds: [44029, 49029]\n",
      "Total collected features: 50000 From ObjectIds: [33, 49028]\n",
      "9 Pulling ObjectIds: [49030, 54030]\n",
      "Total collected features: 55000 From ObjectIds: [33, 54029]\n",
      "10 Pulling ObjectIds: [54031, 59031]\n",
      "Total collected features: 60000 From ObjectIds: [33, 59030]\n",
      "11 Pulling ObjectIds: [59032, 64032]\n",
      "Total collected features: 65000 From ObjectIds: [33, 64031]\n",
      "12 Pulling ObjectIds: [64033, 69033]\n",
      "Total collected features: 70000 From ObjectIds: [33, 69032]\n",
      "13 Pulling ObjectIds: [69034, 74034]\n",
      "Total collected features: 75000 From ObjectIds: [33, 74033]\n",
      "14 Pulling ObjectIds: [74035, 79035]\n",
      "Total collected features: 80000 From ObjectIds: [33, 79034]\n",
      "15 Pulling ObjectIds: [79036, 84036]\n",
      "Total collected features: 85000 From ObjectIds: [33, 84035]\n",
      "16 Pulling ObjectIds: [84037, 89037]\n",
      "Total collected features: 90000 From ObjectIds: [33, 89036]\n",
      "17 Pulling ObjectIds: [89038, 94038]\n",
      "Total collected features: 95000 From ObjectIds: [33, 94037]\n",
      "18 Pulling ObjectIds: [94039, 99039]\n",
      "Total collected features: 100000 From ObjectIds: [33, 99038]\n",
      "19 Pulling ObjectIds: [99040, 104040]\n",
      "Total collected features: 105000 From ObjectIds: [33, 104039]\n",
      "20 Pulling ObjectIds: [104041, 109041]\n",
      "Total collected features: 110000 From ObjectIds: [33, 109040]\n",
      "21 Pulling ObjectIds: [109042, 114042]\n",
      "Total collected features: 115000 From ObjectIds: [33, 114041]\n",
      "22 Pulling ObjectIds: [114043, 119043]\n",
      "Total collected features: 120000 From ObjectIds: [33, 119042]\n",
      "23 Pulling ObjectIds: [119044, 124044]\n",
      "Total collected features: 125000 From ObjectIds: [33, 124043]\n",
      "24 Pulling ObjectIds: [124045, 129045]\n",
      "Total collected features: 130000 From ObjectIds: [33, 129044]\n",
      "25 Pulling ObjectIds: [129046, 134046]\n",
      "Total collected features: 135000 From ObjectIds: [33, 134045]\n",
      "26 Pulling ObjectIds: [134047, 139047]\n",
      "Total collected features: 140000 From ObjectIds: [33, 139046]\n",
      "27 Pulling ObjectIds: [139048, 144048]\n",
      "Total collected features: 145000 From ObjectIds: [33, 144047]\n",
      "28 Pulling ObjectIds: [144049, 149049]\n",
      "Total collected features: 150000 From ObjectIds: [33, 149048]\n",
      "29 Pulling ObjectIds: [149050, 154050]\n",
      "Total collected features: 155000 From ObjectIds: [33, 154049]\n",
      "30 Pulling ObjectIds: [154051, 159051]\n",
      "Total collected features: 160000 From ObjectIds: [33, 159050]\n",
      "31 Pulling ObjectIds: [159052, 164052]\n",
      "Total collected features: 165000 From ObjectIds: [33, 164051]\n",
      "32 Pulling ObjectIds: [164053, 169053]\n",
      "Total collected features: 170000 From ObjectIds: [33, 169052]\n",
      "33 Pulling ObjectIds: [169054, 174054]\n",
      "Total collected features: 175000 From ObjectIds: [33, 174053]\n",
      "34 Pulling ObjectIds: [174055, 179055]\n",
      "Total collected features: 180000 From ObjectIds: [33, 179054]\n",
      "35 Pulling ObjectIds: [179056, 184056]\n",
      "Total collected features: 185000 From ObjectIds: [33, 184055]\n",
      "36 Pulling ObjectIds: [184057, 189057]\n",
      "Total collected features: 190000 From ObjectIds: [33, 189056]\n",
      "37 Pulling ObjectIds: [189058, 194058]\n",
      "Total collected features: 195000 From ObjectIds: [33, 194057]\n",
      "38 Pulling ObjectIds: [194059, 199059]\n",
      "Total collected features: 200000 From ObjectIds: [33, 199058]\n",
      "39 Pulling ObjectIds: [199060, 204060]\n",
      "Total collected features: 205000 From ObjectIds: [33, 204059]\n",
      "40 Pulling ObjectIds: [204061, 209061]\n",
      "Total collected features: 210000 From ObjectIds: [33, 209060]\n",
      "41 Pulling ObjectIds: [209062, 214062]\n",
      "Total collected features: 215000 From ObjectIds: [33, 214061]\n",
      "42 Pulling ObjectIds: [214063, 219063]\n",
      "Total collected features: 220000 From ObjectIds: [33, 219062]\n",
      "43 Pulling ObjectIds: [219064, 224064]\n",
      "Total collected features: 225000 From ObjectIds: [33, 224063]\n",
      "44 Pulling ObjectIds: [224065, 229065]\n",
      "Total collected features: 230000 From ObjectIds: [33, 229064]\n",
      "45 Pulling ObjectIds: [229066, 234066]\n",
      "Total collected features: 235000 From ObjectIds: [33, 234065]\n",
      "46 Pulling ObjectIds: [234067, 239067]\n",
      "Total collected features: 240000 From ObjectIds: [33, 239066]\n",
      "47 Pulling ObjectIds: [239068, 244068]\n",
      "Total collected features: 245000 From ObjectIds: [33, 244067]\n",
      "48 Pulling ObjectIds: [244069, 249069]\n",
      "Total collected features: 250000 From ObjectIds: [33, 249068]\n",
      "49 Pulling ObjectIds: [249070, 254070]\n",
      "Total collected features: 255000 From ObjectIds: [33, 254069]\n",
      "50 Pulling ObjectIds: [254071, 259071]\n",
      "Total collected features: 260000 From ObjectIds: [33, 259070]\n",
      "51 Pulling ObjectIds: [259072, 264072]\n",
      "Total collected features: 265000 From ObjectIds: [33, 264071]\n",
      "52 Pulling ObjectIds: [264073, 269073]\n",
      "Total collected features: 270000 From ObjectIds: [33, 269072]\n",
      "53 Pulling ObjectIds: [269074, 274074]\n",
      "Total collected features: 275000 From ObjectIds: [33, 274073]\n",
      "54 Pulling ObjectIds: [274075, 279075]\n",
      "Total collected features: 280000 From ObjectIds: [33, 279074]\n",
      "55 Pulling ObjectIds: [279076, 284076]\n",
      "Total collected features: 285000 From ObjectIds: [33, 284075]\n",
      "56 Pulling ObjectIds: [284077, 289077]\n",
      "Total collected features: 290000 From ObjectIds: [33, 289076]\n",
      "57 Pulling ObjectIds: [289078, 294078]\n",
      "Total collected features: 295000 From ObjectIds: [33, 294077]\n",
      "58 Pulling ObjectIds: [294079, 299079]\n",
      "Total collected features: 300000 From ObjectIds: [33, 299078]\n",
      "59 Pulling ObjectIds: [299080, 304080]\n",
      "Total collected features: 305000 From ObjectIds: [33, 304079]\n",
      "60 Pulling ObjectIds: [304081, 309081]\n",
      "Total collected features: 310000 From ObjectIds: [33, 309080]\n",
      "61 Pulling ObjectIds: [309082, 314082]\n",
      "Total collected features: 315000 From ObjectIds: [33, 314081]\n",
      "62 Pulling ObjectIds: [314083, 319083]\n",
      "Total collected features: 320000 From ObjectIds: [33, 319082]\n",
      "63 Pulling ObjectIds: [319084, 324084]\n",
      "Total collected features: 325000 From ObjectIds: [33, 324083]\n",
      "64 Pulling ObjectIds: [324085, 329085]\n",
      "Total collected features: 330000 From ObjectIds: [33, 329084]\n",
      "65 Pulling ObjectIds: [329086, 334086]\n",
      "Total collected features: 335000 From ObjectIds: [33, 334085]\n",
      "66 Pulling ObjectIds: [334087, 339087]\n",
      "Total collected features: 340000 From ObjectIds: [33, 339086]\n",
      "67 Pulling ObjectIds: [339088, 344088]\n",
      "Total collected features: 345000 From ObjectIds: [33, 344087]\n",
      "68 Pulling ObjectIds: [344089, 349089]\n",
      "Total collected features: 350000 From ObjectIds: [33, 349088]\n",
      "69 Pulling ObjectIds: [349090, 354090]\n",
      "Total collected features: 355000 From ObjectIds: [33, 354089]\n",
      "70 Pulling ObjectIds: [354091, 359091]\n",
      "Total collected features: 360000 From ObjectIds: [33, 359090]\n",
      "71 Pulling ObjectIds: [359092, 364092]\n",
      "Total collected features: 365000 From ObjectIds: [33, 364091]\n",
      "72 Pulling ObjectIds: [364093, 369093]\n",
      "Total collected features: 370000 From ObjectIds: [33, 369092]\n",
      "73 Pulling ObjectIds: [369094, 374094]\n",
      "Total collected features: 375000 From ObjectIds: [33, 374093]\n",
      "74 Pulling ObjectIds: [374095, 379095]\n",
      "Total collected features: 380000 From ObjectIds: [33, 379094]\n",
      "75 Pulling ObjectIds: [379096, 384096]\n",
      "Total collected features: 385000 From ObjectIds: [33, 384095]\n",
      "76 Pulling ObjectIds: [384097, 389097]\n",
      "Total collected features: 390000 From ObjectIds: [33, 389096]\n",
      "77 Pulling ObjectIds: [389098, 394098]\n",
      "Total collected features: 395000 From ObjectIds: [33, 394097]\n",
      "78 Pulling ObjectIds: [394099, 399099]\n",
      "Total collected features: 400000 From ObjectIds: [33, 399098]\n",
      "79 Pulling ObjectIds: [399100, 404100]\n",
      "Total collected features: 405000 From ObjectIds: [33, 404099]\n",
      "80 Pulling ObjectIds: [404101, 409101]\n",
      "Total collected features: 410000 From ObjectIds: [33, 409100]\n",
      "81 Pulling ObjectIds: [409102, 414102]\n",
      "Total collected features: 415000 From ObjectIds: [33, 414101]\n",
      "82 Pulling ObjectIds: [414103, 419103]\n",
      "Total collected features: 420000 From ObjectIds: [33, 419102]\n",
      "83 Pulling ObjectIds: [419104, 424104]\n",
      "Total collected features: 425000 From ObjectIds: [33, 424103]\n",
      "84 Pulling ObjectIds: [424105, 429105]\n",
      "Total collected features: 430000 From ObjectIds: [33, 429104]\n",
      "85 Pulling ObjectIds: [429106, 434106]\n",
      "Total collected features: 435000 From ObjectIds: [33, 434105]\n",
      "86 Pulling ObjectIds: [434107, 439107]\n",
      "Total collected features: 440000 From ObjectIds: [33, 439106]\n",
      "87 Pulling ObjectIds: [439108, 444108]\n",
      "Total collected features: 445000 From ObjectIds: [33, 444107]\n",
      "88 Pulling ObjectIds: [444109, 449109]\n",
      "Total collected features: 450000 From ObjectIds: [33, 449108]\n",
      "89 Pulling ObjectIds: [449110, 454110]\n",
      "Total collected features: 455000 From ObjectIds: [33, 454109]\n",
      "90 Pulling ObjectIds: [454111, 459111]\n",
      "Total collected features: 460000 From ObjectIds: [33, 459110]\n",
      "91 Pulling ObjectIds: [459112, 464112]\n",
      "Total collected features: 465000 From ObjectIds: [33, 464111]\n",
      "92 Pulling ObjectIds: [464113, 469113]\n",
      "Total collected features: 470000 From ObjectIds: [33, 469112]\n",
      "93 Pulling ObjectIds: [469114, 474114]\n",
      "Total collected features: 475000 From ObjectIds: [33, 474113]\n",
      "94 Pulling ObjectIds: [474115, 479115]\n",
      "Total collected features: 480000 From ObjectIds: [33, 479114]\n",
      "95 Pulling ObjectIds: [479116, 484116]\n",
      "Total collected features: 485000 From ObjectIds: [33, 484115]\n",
      "96 Pulling ObjectIds: [484117, 489117]\n",
      "Total collected features: 490000 From ObjectIds: [33, 489116]\n",
      "97 Pulling ObjectIds: [489118, 494118]\n",
      "Total collected features: 495000 From ObjectIds: [33, 494117]\n",
      "98 Pulling ObjectIds: [494119, 499119]\n",
      "Total collected features: 500000 From ObjectIds: [33, 499118]\n",
      "99 Pulling ObjectIds: [499120, 504120]\n",
      "Total collected features: 505000 From ObjectIds: [33, 504119]\n",
      "100 Pulling ObjectIds: [504121, 509121]\n",
      "Total collected features: 510000 From ObjectIds: [33, 509120]\n",
      "101 Pulling ObjectIds: [509122, 510823]\n",
      "Total collected features: 511702 From ObjectIds: [33, 510823]\n",
      "Done\n"
     ]
    }
   ],
   "source": [
    "i = 0\n",
    "rangeLowerEnd = data['features'][maxApiRequest - 1]['attributes']['ObjectId'] + 1\n",
    "rangeUpperEnd = rangeLowerEnd + maxApiRequest\n",
    "\n",
    "while (i < neededRequests - 1): # neededRequests - 1 because of initial download\n",
    "    dataSetQuery = f'where=ObjectId+BETWEEN+{rangeLowerEnd}+AND+{rangeUpperEnd}'\n",
    "    temp_sourceURL = sourceURL + dataSetQuery + dataQuery\n",
    "    print(i, f'Pulling ObjectIds: [{rangeLowerEnd}, {rangeUpperEnd}]')\n",
    "\n",
    "    temp_dataRequest = requests.get(temp_sourceURL)\n",
    "    if (temp_dataRequest.status_code > 200): # stop when a request isn´t working\n",
    "        print(f'Error in request: {temp_dataRequest.status_code}')\n",
    "        break\n",
    "    temp_data = json.loads(temp_dataRequest.text)\n",
    "\n",
    "    # append new data to already downloaded one\n",
    "    data = dataMerger.merge(data, temp_data)\n",
    "\n",
    "    temp_dataLength = len(data['features'])\n",
    "    t_le = data['features'][0]['attributes']['ObjectId']\n",
    "    t_ue = data['features'][temp_dataLength - 1]['attributes']['ObjectId']\n",
    "    print(f'Total collected features: {temp_dataLength} From ObjectIds: [{t_le}, {t_ue}]')\n",
    "\n",
    "    rangeLowerEnd = rangeUpperEnd + 1\n",
    "    rangeUpperEnd += maxApiRequest + 1\n",
    "    if (rangeUpperEnd > objectIdEnd):\n",
    "        rangeUpperEnd = objectIdEnd\n",
    "    i += 1\n",
    "\n",
    "print('Done')"
   ]
  },
  {
   "cell_type": "code",
   "execution_count": 10,
   "metadata": {
    "tags": []
   },
   "outputs": [
    {
     "output_type": "stream",
     "name": "stdout",
     "text": [
      "Entries:  511702\nStructure:  {'attributes': {'IdBundesland': 1, 'Bundesland': 'Schleswig-Holstein', 'Landkreis': 'SK Flensburg', 'Altersgruppe': 'A00-A04', 'AnzahlFall': 1, 'AnzahlTodesfall': 0, 'ObjectId': 33, 'Meldedatum': 1601424000000, 'IdLandkreis': '01001', 'Datenstand': '20.11.2020, 00:00 Uhr', 'NeuerFall': 0, 'NeuerTodesfall': -9, 'Refdatum': 1601424000000, 'NeuGenesen': 0, 'AnzahlGenesen': 1, 'IstErkrankungsbeginn': 0}}\nLatest data:  20.11.2020, 00:00 Uhr\n"
     ]
    }
   ],
   "source": [
    "print('Entries: ', len(data['features']))\n",
    "print('Structure: ', data['features'][0])\n",
    "print('Latest data: ', data['features'][0]['attributes']['Datenstand'])"
   ]
  },
  {
   "cell_type": "code",
   "execution_count": 11,
   "metadata": {},
   "outputs": [],
   "source": [
    "def display_n(df,n): \n",
    "    with pd.option_context('display.max_rows',n*2):\n",
    "        display(df)"
   ]
  },
  {
   "cell_type": "code",
   "execution_count": 12,
   "metadata": {},
   "outputs": [
    {
     "output_type": "display_data",
     "data": {
      "text/plain": "                                               attributes\n0       {'IdBundesland': 1, 'Bundesland': 'Schleswig-H...\n1       {'IdBundesland': 1, 'Bundesland': 'Schleswig-H...\n...                                                   ...\n511700  {'IdBundesland': 16, 'Bundesland': 'Thüringen'...\n511701  {'IdBundesland': 16, 'Bundesland': 'Thüringen'...\n\n[511702 rows x 1 columns]",
      "text/html": "<div>\n<style scoped>\n    .dataframe tbody tr th:only-of-type {\n        vertical-align: middle;\n    }\n\n    .dataframe tbody tr th {\n        vertical-align: top;\n    }\n\n    .dataframe thead th {\n        text-align: right;\n    }\n</style>\n<table border=\"1\" class=\"dataframe\">\n  <thead>\n    <tr style=\"text-align: right;\">\n      <th></th>\n      <th>attributes</th>\n    </tr>\n  </thead>\n  <tbody>\n    <tr>\n      <th>0</th>\n      <td>{'IdBundesland': 1, 'Bundesland': 'Schleswig-H...</td>\n    </tr>\n    <tr>\n      <th>1</th>\n      <td>{'IdBundesland': 1, 'Bundesland': 'Schleswig-H...</td>\n    </tr>\n    <tr>\n      <th>...</th>\n      <td>...</td>\n    </tr>\n    <tr>\n      <th>511700</th>\n      <td>{'IdBundesland': 16, 'Bundesland': 'Thüringen'...</td>\n    </tr>\n    <tr>\n      <th>511701</th>\n      <td>{'IdBundesland': 16, 'Bundesland': 'Thüringen'...</td>\n    </tr>\n  </tbody>\n</table>\n<p>511702 rows × 1 columns</p>\n</div>"
     },
     "metadata": {}
    }
   ],
   "source": [
    "dfx = pd.DataFrame.from_dict(data['features'])\n",
    "display_n(dfx, 2)"
   ]
  },
  {
   "cell_type": "code",
   "execution_count": 13,
   "metadata": {},
   "outputs": [
    {
     "output_type": "display_data",
     "data": {
      "text/plain": "        IdBundesland          Bundesland            Landkreis Altersgruppe  \\\n0                  1  Schleswig-Holstein         SK Flensburg      A00-A04   \n1                  1  Schleswig-Holstein         SK Flensburg      A00-A04   \n...              ...                 ...                  ...          ...   \n511700            16           Thüringen  LK Altenburger Land      A60-A79   \n511701            16           Thüringen  LK Altenburger Land      A60-A79   \n\n        AnzahlFall  AnzahlTodesfall  ObjectId     Meldedatum IdLandkreis  \\\n0                1                0        33  1601424000000       01001   \n1                1                0       509  1603929600000       01001   \n...            ...              ...       ...            ...         ...   \n511700           1                0    510822  1604880000000       16077   \n511701           1                0    510823  1604880000000       16077   \n\n                   Datenstand  NeuerFall  NeuerTodesfall       Refdatum  \\\n0       20.11.2020, 00:00 Uhr          0              -9  1601424000000   \n1       20.11.2020, 00:00 Uhr          0              -9  1603929600000   \n...                       ...        ...             ...            ...   \n511700  20.11.2020, 00:00 Uhr          0              -9  1604534400000   \n511701  20.11.2020, 00:00 Uhr          0              -9  1604620800000   \n\n        NeuGenesen  AnzahlGenesen  IstErkrankungsbeginn  \n0                0              1                     0  \n1                0              1                     0  \n...            ...            ...                   ...  \n511700           0              1                     1  \n511701           1              1                     1  \n\n[511702 rows x 16 columns]",
      "text/html": "<div>\n<style scoped>\n    .dataframe tbody tr th:only-of-type {\n        vertical-align: middle;\n    }\n\n    .dataframe tbody tr th {\n        vertical-align: top;\n    }\n\n    .dataframe thead th {\n        text-align: right;\n    }\n</style>\n<table border=\"1\" class=\"dataframe\">\n  <thead>\n    <tr style=\"text-align: right;\">\n      <th></th>\n      <th>IdBundesland</th>\n      <th>Bundesland</th>\n      <th>Landkreis</th>\n      <th>Altersgruppe</th>\n      <th>AnzahlFall</th>\n      <th>AnzahlTodesfall</th>\n      <th>ObjectId</th>\n      <th>Meldedatum</th>\n      <th>IdLandkreis</th>\n      <th>Datenstand</th>\n      <th>NeuerFall</th>\n      <th>NeuerTodesfall</th>\n      <th>Refdatum</th>\n      <th>NeuGenesen</th>\n      <th>AnzahlGenesen</th>\n      <th>IstErkrankungsbeginn</th>\n    </tr>\n  </thead>\n  <tbody>\n    <tr>\n      <th>0</th>\n      <td>1</td>\n      <td>Schleswig-Holstein</td>\n      <td>SK Flensburg</td>\n      <td>A00-A04</td>\n      <td>1</td>\n      <td>0</td>\n      <td>33</td>\n      <td>1601424000000</td>\n      <td>01001</td>\n      <td>20.11.2020, 00:00 Uhr</td>\n      <td>0</td>\n      <td>-9</td>\n      <td>1601424000000</td>\n      <td>0</td>\n      <td>1</td>\n      <td>0</td>\n    </tr>\n    <tr>\n      <th>1</th>\n      <td>1</td>\n      <td>Schleswig-Holstein</td>\n      <td>SK Flensburg</td>\n      <td>A00-A04</td>\n      <td>1</td>\n      <td>0</td>\n      <td>509</td>\n      <td>1603929600000</td>\n      <td>01001</td>\n      <td>20.11.2020, 00:00 Uhr</td>\n      <td>0</td>\n      <td>-9</td>\n      <td>1603929600000</td>\n      <td>0</td>\n      <td>1</td>\n      <td>0</td>\n    </tr>\n    <tr>\n      <th>...</th>\n      <td>...</td>\n      <td>...</td>\n      <td>...</td>\n      <td>...</td>\n      <td>...</td>\n      <td>...</td>\n      <td>...</td>\n      <td>...</td>\n      <td>...</td>\n      <td>...</td>\n      <td>...</td>\n      <td>...</td>\n      <td>...</td>\n      <td>...</td>\n      <td>...</td>\n      <td>...</td>\n    </tr>\n    <tr>\n      <th>511700</th>\n      <td>16</td>\n      <td>Thüringen</td>\n      <td>LK Altenburger Land</td>\n      <td>A60-A79</td>\n      <td>1</td>\n      <td>0</td>\n      <td>510822</td>\n      <td>1604880000000</td>\n      <td>16077</td>\n      <td>20.11.2020, 00:00 Uhr</td>\n      <td>0</td>\n      <td>-9</td>\n      <td>1604534400000</td>\n      <td>0</td>\n      <td>1</td>\n      <td>1</td>\n    </tr>\n    <tr>\n      <th>511701</th>\n      <td>16</td>\n      <td>Thüringen</td>\n      <td>LK Altenburger Land</td>\n      <td>A60-A79</td>\n      <td>1</td>\n      <td>0</td>\n      <td>510823</td>\n      <td>1604880000000</td>\n      <td>16077</td>\n      <td>20.11.2020, 00:00 Uhr</td>\n      <td>0</td>\n      <td>-9</td>\n      <td>1604620800000</td>\n      <td>1</td>\n      <td>1</td>\n      <td>1</td>\n    </tr>\n  </tbody>\n</table>\n<p>511702 rows × 16 columns</p>\n</div>"
     },
     "metadata": {}
    }
   ],
   "source": [
    "# turning the collumn attributes in seperated collumns\n",
    "for rowid in data['fields']:\n",
    "    dfx[rowid['name']] = dfx.apply(lambda row: row.loc['attributes'][rowid['name']], axis=1)\n",
    "dfx = dfx.drop(['attributes'], axis=1)\n",
    "display_n(dfx, 2)"
   ]
  },
  {
   "cell_type": "code",
   "execution_count": 14,
   "metadata": {},
   "outputs": [
    {
     "output_type": "execute_result",
     "data": {
      "text/plain": [
       "'SK Flensburg'"
      ]
     },
     "metadata": {},
     "execution_count": 14
    }
   ],
   "source": [
    "data['features'][0]['attributes']['Landkreis']"
   ]
  },
  {
   "cell_type": "code",
   "execution_count": 15,
   "metadata": {},
   "outputs": [],
   "source": [
    "frameByLK = dfx.groupby(['Landkreis', 'IdLandkreis'])['AnzahlFall', 'AnzahlTodesfall', 'AnzahlGenesen'].sum().reset_index().set_index('Landkreis')"
   ]
  },
  {
   "cell_type": "code",
   "execution_count": 16,
   "metadata": {},
   "outputs": [
    {
     "output_type": "execute_result",
     "data": {
      "text/plain": [
       "                     IdLandkreis  AnzahlFall  AnzahlTodesfall  AnzahlGenesen\n",
       "Landkreis                                                                   \n",
       "LK Ahrweiler               07131        1176               14            723\n",
       "LK Aichach-Friedberg       09771        1547               25           1166\n",
       "LK Alb-Donau-Kreis         08425        2340               63           1448\n",
       "LK Altenburger Land        16077         537                3            353\n",
       "LK Altenkirchen            07132         929               15            766\n",
       "...                          ...         ...              ...            ...\n",
       "SK Worms                   07319         739                8            546\n",
       "SK Wuppertal               05124        5352              105           3478\n",
       "SK Würzburg                09663        1605               53            968\n",
       "SK Zweibrücken             07320         190                2            140\n",
       "StadtRegion Aachen         05334        9171              157           7380\n",
       "\n",
       "[412 rows x 4 columns]"
      ],
      "text/html": "<div>\n<style scoped>\n    .dataframe tbody tr th:only-of-type {\n        vertical-align: middle;\n    }\n\n    .dataframe tbody tr th {\n        vertical-align: top;\n    }\n\n    .dataframe thead th {\n        text-align: right;\n    }\n</style>\n<table border=\"1\" class=\"dataframe\">\n  <thead>\n    <tr style=\"text-align: right;\">\n      <th></th>\n      <th>IdLandkreis</th>\n      <th>AnzahlFall</th>\n      <th>AnzahlTodesfall</th>\n      <th>AnzahlGenesen</th>\n    </tr>\n    <tr>\n      <th>Landkreis</th>\n      <th></th>\n      <th></th>\n      <th></th>\n      <th></th>\n    </tr>\n  </thead>\n  <tbody>\n    <tr>\n      <th>LK Ahrweiler</th>\n      <td>07131</td>\n      <td>1176</td>\n      <td>14</td>\n      <td>723</td>\n    </tr>\n    <tr>\n      <th>LK Aichach-Friedberg</th>\n      <td>09771</td>\n      <td>1547</td>\n      <td>25</td>\n      <td>1166</td>\n    </tr>\n    <tr>\n      <th>LK Alb-Donau-Kreis</th>\n      <td>08425</td>\n      <td>2340</td>\n      <td>63</td>\n      <td>1448</td>\n    </tr>\n    <tr>\n      <th>LK Altenburger Land</th>\n      <td>16077</td>\n      <td>537</td>\n      <td>3</td>\n      <td>353</td>\n    </tr>\n    <tr>\n      <th>LK Altenkirchen</th>\n      <td>07132</td>\n      <td>929</td>\n      <td>15</td>\n      <td>766</td>\n    </tr>\n    <tr>\n      <th>...</th>\n      <td>...</td>\n      <td>...</td>\n      <td>...</td>\n      <td>...</td>\n    </tr>\n    <tr>\n      <th>SK Worms</th>\n      <td>07319</td>\n      <td>739</td>\n      <td>8</td>\n      <td>546</td>\n    </tr>\n    <tr>\n      <th>SK Wuppertal</th>\n      <td>05124</td>\n      <td>5352</td>\n      <td>105</td>\n      <td>3478</td>\n    </tr>\n    <tr>\n      <th>SK Würzburg</th>\n      <td>09663</td>\n      <td>1605</td>\n      <td>53</td>\n      <td>968</td>\n    </tr>\n    <tr>\n      <th>SK Zweibrücken</th>\n      <td>07320</td>\n      <td>190</td>\n      <td>2</td>\n      <td>140</td>\n    </tr>\n    <tr>\n      <th>StadtRegion Aachen</th>\n      <td>05334</td>\n      <td>9171</td>\n      <td>157</td>\n      <td>7380</td>\n    </tr>\n  </tbody>\n</table>\n<p>412 rows × 4 columns</p>\n</div>"
     },
     "metadata": {},
     "execution_count": 16
    }
   ],
   "source": [
    "frameByLK"
   ]
  },
  {
   "cell_type": "code",
   "execution_count": 17,
   "metadata": {},
   "outputs": [],
   "source": [
    "frameByLK.to_csv('frameByLK.csv', index=True, encoding='utf-8')"
   ]
  },
  {
   "cell_type": "code",
   "execution_count": 18,
   "metadata": {},
   "outputs": [
    {
     "output_type": "display_data",
     "data": {
      "text/plain": "                           AnzahlFall  AnzahlTodesfall  AnzahlGenesen  acute\nIdLandkreis Refdatum                                                        \n01001       1579392000000           1                0              1      0\n            1583798400000           2                0              2      0\n            1583884800000           3                0              3      0\n...                               ...              ...            ...    ...\n16077       1605484800000         519                3            353    163\n            1605571200000         526                3            353    170\n            1605657600000         537                3            353    181\n\n[72625 rows x 4 columns]",
      "text/html": "<div>\n<style scoped>\n    .dataframe tbody tr th:only-of-type {\n        vertical-align: middle;\n    }\n\n    .dataframe tbody tr th {\n        vertical-align: top;\n    }\n\n    .dataframe thead th {\n        text-align: right;\n    }\n</style>\n<table border=\"1\" class=\"dataframe\">\n  <thead>\n    <tr style=\"text-align: right;\">\n      <th></th>\n      <th></th>\n      <th>AnzahlFall</th>\n      <th>AnzahlTodesfall</th>\n      <th>AnzahlGenesen</th>\n      <th>acute</th>\n    </tr>\n    <tr>\n      <th>IdLandkreis</th>\n      <th>Refdatum</th>\n      <th></th>\n      <th></th>\n      <th></th>\n      <th></th>\n    </tr>\n  </thead>\n  <tbody>\n    <tr>\n      <th rowspan=\"3\" valign=\"top\">01001</th>\n      <th>1579392000000</th>\n      <td>1</td>\n      <td>0</td>\n      <td>1</td>\n      <td>0</td>\n    </tr>\n    <tr>\n      <th>1583798400000</th>\n      <td>2</td>\n      <td>0</td>\n      <td>2</td>\n      <td>0</td>\n    </tr>\n    <tr>\n      <th>1583884800000</th>\n      <td>3</td>\n      <td>0</td>\n      <td>3</td>\n      <td>0</td>\n    </tr>\n    <tr>\n      <th>...</th>\n      <th>...</th>\n      <td>...</td>\n      <td>...</td>\n      <td>...</td>\n      <td>...</td>\n    </tr>\n    <tr>\n      <th rowspan=\"3\" valign=\"top\">16077</th>\n      <th>1605484800000</th>\n      <td>519</td>\n      <td>3</td>\n      <td>353</td>\n      <td>163</td>\n    </tr>\n    <tr>\n      <th>1605571200000</th>\n      <td>526</td>\n      <td>3</td>\n      <td>353</td>\n      <td>170</td>\n    </tr>\n    <tr>\n      <th>1605657600000</th>\n      <td>537</td>\n      <td>3</td>\n      <td>353</td>\n      <td>181</td>\n    </tr>\n  </tbody>\n</table>\n<p>72625 rows × 4 columns</p>\n</div>"
     },
     "metadata": {}
    }
   ],
   "source": [
    "dfx_slim = dfx.drop(columns=['IdBundesland', 'Bundesland', 'ObjectId', 'NeuerFall', 'NeuerTodesfall', 'IstErkrankungsbeginn', 'NeuGenesen', 'Meldedatum', 'Datenstand', 'Landkreis']).groupby(['Refdatum', 'IdLandkreis', 'Altersgruppe']).sum().groupby(['Refdatum', 'IdLandkreis']).sum()\n",
    "dfx_slim = dfx_slim.groupby(['IdLandkreis', 'Refdatum']).sum().groupby(level=[0]).cumsum()\n",
    "dfx_slim['acute'] = dfx_slim['AnzahlFall'] - (dfx_slim['AnzahlTodesfall'] + dfx_slim['AnzahlGenesen'])\n",
    "display_n(dfx_slim, 3)"
   ]
  },
  {
   "cell_type": "code",
   "execution_count": 19,
   "metadata": {},
   "outputs": [],
   "source": [
    "dfx_slim.to_csv('timeFrameByLK.csv', index=True, encoding='utf-8')"
   ]
  },
  {
   "cell_type": "code",
   "execution_count": null,
   "metadata": {},
   "outputs": [],
   "source": []
  }
 ]
}