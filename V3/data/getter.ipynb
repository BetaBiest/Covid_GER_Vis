{
 "metadata": {
  "language_info": {
   "codemirror_mode": {
    "name": "ipython",
    "version": 3
   },
   "file_extension": ".py",
   "mimetype": "text/x-python",
   "name": "python",
   "nbconvert_exporter": "python",
   "pygments_lexer": "ipython3",
   "version": "3.7.6-final"
  },
  "orig_nbformat": 2,
  "kernelspec": {
   "name": "python37664bitac0d5f4ec08e4e2c9866d97442c37502",
   "display_name": "Python 3.7.6 64-bit"
  }
 },
 "nbformat": 4,
 "nbformat_minor": 2,
 "cells": [
  {
   "cell_type": "markdown",
   "metadata": {},
   "source": [
    "# Covid-19 data download & processing\n",
    "---\n",
    "This Python Script downloads an up-to-date dataset for **Covid-19** and exports the data to the data folder.\n",
    "\n",
    "The Data is from the **R**obert **K**och **I**nstitut downloaded over [ArcGis Hub](https://hub.arcgis.com/datasets/dd4580c810204019a7b8eb3e0b329dd6?page=15976).\n",
    "\n",
    "*Script was created on Python: 3.7.6 64-bit Kernel*"
   ]
  },
  {
   "cell_type": "code",
   "execution_count": 1,
   "metadata": {},
   "outputs": [],
   "source": [
    "import pandas as pd\n",
    "import math\n",
    "\n",
    "import io               # file operations\n",
    "import json\n",
    "\n",
    "import ssl              # secure client-server connection\n",
    "import requests         # html-requests"
   ]
  },
  {
   "cell_type": "code",
   "execution_count": 2,
   "metadata": {},
   "outputs": [],
   "source": [
    "# Uncomment next 2 lines to install jsonmerge\n",
    "#import sys\n",
    "#!{sys.executable} -m pip install jsonmerge\n",
    "from jsonmerge import Merger"
   ]
  },
  {
   "cell_type": "code",
   "execution_count": 3,
   "metadata": {},
   "outputs": [],
   "source": [
    "sourceURL = 'https://services7.arcgis.com/mOBPykOjAyBO2ZKk/arcgis/rest/services/RKI_COVID19/FeatureServer/0/query?'\n",
    "objectIdsQuery = 'where=1%3D1&returnIdsOnly=true&f=json'\n",
    "dataSetQuery = 'where=ObjectId+BETWEEN+0+AND+0' # just an example gets created later dynamically\n",
    "dataQuery = '&outSR=4326&outFields=IdBundesland,Bundesland,Landkreis,Altersgruppe,AnzahlFall,AnzahlTodesfall,ObjectId,Meldedatum,IdLandkreis,Datenstand,NeuerFall,NeuerTodesfall,Refdatum,NeuGenesen,AnzahlGenesen,IstErkrankungsbeginn&f=json'"
   ]
  },
  {
   "cell_type": "markdown",
   "metadata": {},
   "source": [
    "## Requesting which Features (ObjectID´s) are available"
   ]
  },
  {
   "cell_type": "code",
   "execution_count": 4,
   "metadata": {},
   "outputs": [
    {
     "output_type": "execute_result",
     "data": {
      "text/plain": "200"
     },
     "metadata": {},
     "execution_count": 4
    }
   ],
   "source": [
    "objectIdsRequest = requests.get(sourceURL + objectIdsQuery)\n",
    "objectIdsRequest.status_code"
   ]
  },
  {
   "cell_type": "code",
   "execution_count": 5,
   "metadata": {
    "tags": []
   },
   "outputs": [
    {
     "output_type": "stream",
     "name": "stdout",
     "text": "Range of ObjectIds: [33350699, 33551886]\n"
    }
   ],
   "source": [
    "objectIds = json.loads(objectIdsRequest.text)\n",
    "\n",
    "numOfObjectIds = len(objectIds['objectIds'])\n",
    "\n",
    "objectIdStart = objectIds['objectIds'][0]\n",
    "objectIdEnd = objectIds['objectIds'][numOfObjectIds - 1]\n",
    "print(f'Range of ObjectIds: [{objectIdStart}, {objectIdEnd}]')"
   ]
  },
  {
   "cell_type": "markdown",
   "metadata": {},
   "source": [
    "## Requesting Features"
   ]
  },
  {
   "cell_type": "code",
   "execution_count": 6,
   "metadata": {},
   "outputs": [
    {
     "output_type": "execute_result",
     "data": {
      "text/plain": "200"
     },
     "metadata": {},
     "execution_count": 6
    }
   ],
   "source": [
    "dataRequest = requests.get(sourceURL + 'where=1%3D1' + dataQuery)\n",
    "dataRequest.status_code"
   ]
  },
  {
   "cell_type": "code",
   "execution_count": 7,
   "metadata": {
    "tags": []
   },
   "outputs": [
    {
     "output_type": "stream",
     "name": "stdout",
     "text": "The download will require 40 more requests due to the server limit of 5000 features/request.\n"
    }
   ],
   "source": [
    "data = json.loads(dataRequest.text)\n",
    "maxApiRequest = len(data['features'])\n",
    "\n",
    "neededRequests = math.ceil(numOfObjectIds / maxApiRequest)\n",
    "\n",
    "print(f'The download will require {neededRequests - 1} more requests due to the server limit of {maxApiRequest} features/request.')"
   ]
  },
  {
   "cell_type": "code",
   "execution_count": 8,
   "metadata": {},
   "outputs": [],
   "source": [
    "# Json-Merger with custom rule\n",
    "jsonMergeSchema = {\"properties\":{\"features\":{\"mergeStrategy\":\"append\"}}}\n",
    "dataMerger = Merger(jsonMergeSchema)"
   ]
  },
  {
   "cell_type": "code",
   "execution_count": 9,
   "metadata": {
    "tags": []
   },
   "outputs": [
    {
     "output_type": "stream",
     "name": "stdout",
     "text": "0 Pulling ObjectIds: [33355708, 33360708]\nTotal collected features: 10000 From ObjectIds: [33350699, 33360707]\n1 Pulling ObjectIds: [33360709, 33365709]\nTotal collected features: 15000 From ObjectIds: [33350699, 33365708]\n2 Pulling ObjectIds: [33365710, 33370710]\nTotal collected features: 20000 From ObjectIds: [33350699, 33370709]\n3 Pulling ObjectIds: [33370711, 33375711]\nTotal collected features: 25000 From ObjectIds: [33350699, 33375710]\n4 Pulling ObjectIds: [33375712, 33380712]\nTotal collected features: 30000 From ObjectIds: [33350699, 33380711]\n5 Pulling ObjectIds: [33380713, 33385713]\nTotal collected features: 35000 From ObjectIds: [33350699, 33385712]\n6 Pulling ObjectIds: [33385714, 33390714]\nTotal collected features: 40000 From ObjectIds: [33350699, 33390713]\n7 Pulling ObjectIds: [33390715, 33395715]\nTotal collected features: 45000 From ObjectIds: [33350699, 33395714]\n8 Pulling ObjectIds: [33395716, 33400716]\nTotal collected features: 50000 From ObjectIds: [33350699, 33400715]\n9 Pulling ObjectIds: [33400717, 33405717]\nTotal collected features: 55000 From ObjectIds: [33350699, 33405716]\n10 Pulling ObjectIds: [33405718, 33410718]\nTotal collected features: 60000 From ObjectIds: [33350699, 33410717]\n11 Pulling ObjectIds: [33410719, 33415719]\nTotal collected features: 65000 From ObjectIds: [33350699, 33415718]\n12 Pulling ObjectIds: [33415720, 33420720]\nTotal collected features: 70000 From ObjectIds: [33350699, 33420719]\n13 Pulling ObjectIds: [33420721, 33425721]\nTotal collected features: 75000 From ObjectIds: [33350699, 33425720]\n14 Pulling ObjectIds: [33425722, 33430722]\nTotal collected features: 80000 From ObjectIds: [33350699, 33430721]\n15 Pulling ObjectIds: [33430723, 33435723]\nTotal collected features: 85000 From ObjectIds: [33350699, 33435722]\n16 Pulling ObjectIds: [33435724, 33440724]\nTotal collected features: 90000 From ObjectIds: [33350699, 33440723]\n17 Pulling ObjectIds: [33440725, 33445725]\nTotal collected features: 95000 From ObjectIds: [33350699, 33445724]\n18 Pulling ObjectIds: [33445726, 33450726]\nTotal collected features: 100000 From ObjectIds: [33350699, 33450725]\n19 Pulling ObjectIds: [33450727, 33455727]\nTotal collected features: 105000 From ObjectIds: [33350699, 33455726]\n20 Pulling ObjectIds: [33455728, 33460728]\nTotal collected features: 110000 From ObjectIds: [33350699, 33460727]\n21 Pulling ObjectIds: [33460729, 33465729]\nTotal collected features: 115000 From ObjectIds: [33350699, 33465728]\n22 Pulling ObjectIds: [33465730, 33470730]\nTotal collected features: 120000 From ObjectIds: [33350699, 33470729]\n23 Pulling ObjectIds: [33470731, 33475731]\nTotal collected features: 125000 From ObjectIds: [33350699, 33475730]\n24 Pulling ObjectIds: [33475732, 33480732]\nTotal collected features: 130000 From ObjectIds: [33350699, 33480731]\n25 Pulling ObjectIds: [33480733, 33485733]\nTotal collected features: 135000 From ObjectIds: [33350699, 33485732]\n26 Pulling ObjectIds: [33485734, 33490734]\nTotal collected features: 140000 From ObjectIds: [33350699, 33490733]\n27 Pulling ObjectIds: [33490735, 33495735]\nTotal collected features: 145000 From ObjectIds: [33350699, 33495734]\n28 Pulling ObjectIds: [33495736, 33500736]\nTotal collected features: 150000 From ObjectIds: [33350699, 33500735]\n29 Pulling ObjectIds: [33500737, 33505737]\nTotal collected features: 155000 From ObjectIds: [33350699, 33505736]\n30 Pulling ObjectIds: [33505738, 33510738]\nTotal collected features: 160000 From ObjectIds: [33350699, 33510737]\n31 Pulling ObjectIds: [33510739, 33515739]\nTotal collected features: 165000 From ObjectIds: [33350699, 33515738]\n32 Pulling ObjectIds: [33515740, 33520740]\nTotal collected features: 170000 From ObjectIds: [33350699, 33520739]\n33 Pulling ObjectIds: [33520741, 33525741]\nTotal collected features: 175000 From ObjectIds: [33350699, 33525740]\n34 Pulling ObjectIds: [33525742, 33530742]\nTotal collected features: 180000 From ObjectIds: [33350699, 33530741]\n35 Pulling ObjectIds: [33530743, 33535743]\nTotal collected features: 185000 From ObjectIds: [33350699, 33535742]\n36 Pulling ObjectIds: [33535744, 33540744]\nTotal collected features: 190000 From ObjectIds: [33350699, 33540743]\n37 Pulling ObjectIds: [33540745, 33545745]\nTotal collected features: 195000 From ObjectIds: [33350699, 33545744]\n38 Pulling ObjectIds: [33545746, 33550746]\nTotal collected features: 200000 From ObjectIds: [33350699, 33550745]\n39 Pulling ObjectIds: [33550747, 33551886]\nTotal collected features: 201140 From ObjectIds: [33350699, 33551886]\nDone\n"
    }
   ],
   "source": [
    "i = 0\n",
    "rangeLowerEnd = data['features'][maxApiRequest - 1]['attributes']['ObjectId'] + 1\n",
    "rangeUpperEnd = rangeLowerEnd + maxApiRequest\n",
    "\n",
    "while (i < neededRequests - 1): # neededRequests - 1 because of initial download\n",
    "    dataSetQuery = f'where=ObjectId+BETWEEN+{rangeLowerEnd}+AND+{rangeUpperEnd}'\n",
    "    temp_sourceURL = sourceURL + dataSetQuery + dataQuery\n",
    "    print(i, f'Pulling ObjectIds: [{rangeLowerEnd}, {rangeUpperEnd}]')\n",
    "\n",
    "    temp_dataRequest = requests.get(temp_sourceURL)\n",
    "    if (temp_dataRequest.status_code > 200): # stop when a request isn´t working\n",
    "        print(f'Error in request: {temp_dataRequest.status_code}')\n",
    "        break\n",
    "    temp_data = json.loads(temp_dataRequest.text)\n",
    "\n",
    "    # append new data to already downloaded one\n",
    "    data = dataMerger.merge(data, temp_data)\n",
    "\n",
    "    temp_dataLength = len(data['features'])\n",
    "    t_le = data['features'][0]['attributes']['ObjectId']\n",
    "    t_ue = data['features'][temp_dataLength - 1]['attributes']['ObjectId']\n",
    "    print(f'Total collected features: {temp_dataLength} From ObjectIds: [{t_le}, {t_ue}]')\n",
    "\n",
    "    rangeLowerEnd = rangeUpperEnd + 1\n",
    "    rangeUpperEnd += maxApiRequest + 1\n",
    "    if (rangeUpperEnd > objectIdEnd):\n",
    "        rangeUpperEnd = objectIdEnd\n",
    "    i += 1\n",
    "\n",
    "print('Done')"
   ]
  },
  {
   "cell_type": "code",
   "execution_count": 10,
   "metadata": {
    "tags": []
   },
   "outputs": [
    {
     "output_type": "stream",
     "name": "stdout",
     "text": "Entries:  201140\nStructure:  {'attributes': {'IdBundesland': 1, 'Bundesland': 'Schleswig-Holstein', 'Landkreis': 'SK Flensburg', 'Altersgruppe': 'A00-A04', 'AnzahlFall': 1, 'AnzahlTodesfall': 0, 'ObjectId': 33350699, 'Meldedatum': 1598227200000, 'IdLandkreis': '01001', 'Datenstand': '06.09.2020, 00:00 Uhr', 'NeuerFall': 0, 'NeuerTodesfall': -9, 'Refdatum': 1598227200000, 'NeuGenesen': -9, 'AnzahlGenesen': 0, 'IstErkrankungsbeginn': 0}}\nLatest data:  06.09.2020, 00:00 Uhr\n"
    }
   ],
   "source": [
    "print('Entries: ', len(data['features']))\n",
    "print('Structure: ', data['features'][0])\n",
    "print('Latest data: ', data['features'][0]['attributes']['Datenstand'])"
   ]
  },
  {
   "cell_type": "code",
   "execution_count": 11,
   "metadata": {},
   "outputs": [],
   "source": [
    "def display_n(df,n): \n",
    "    with pd.option_context('display.max_rows',n*2):\n",
    "        display(df)"
   ]
  },
  {
   "cell_type": "code",
   "execution_count": 12,
   "metadata": {},
   "outputs": [
    {
     "output_type": "display_data",
     "data": {
      "text/plain": "                                               attributes\n0       {'IdBundesland': 1, 'Bundesland': 'Schleswig-H...\n1       {'IdBundesland': 1, 'Bundesland': 'Schleswig-H...\n...                                                   ...\n201138  {'IdBundesland': 16, 'Bundesland': 'Thüringen'...\n201139  {'IdBundesland': 16, 'Bundesland': 'Thüringen'...\n\n[201140 rows x 1 columns]",
      "text/html": "<div>\n<style scoped>\n    .dataframe tbody tr th:only-of-type {\n        vertical-align: middle;\n    }\n\n    .dataframe tbody tr th {\n        vertical-align: top;\n    }\n\n    .dataframe thead th {\n        text-align: right;\n    }\n</style>\n<table border=\"1\" class=\"dataframe\">\n  <thead>\n    <tr style=\"text-align: right;\">\n      <th></th>\n      <th>attributes</th>\n    </tr>\n  </thead>\n  <tbody>\n    <tr>\n      <th>0</th>\n      <td>{'IdBundesland': 1, 'Bundesland': 'Schleswig-H...</td>\n    </tr>\n    <tr>\n      <th>1</th>\n      <td>{'IdBundesland': 1, 'Bundesland': 'Schleswig-H...</td>\n    </tr>\n    <tr>\n      <th>...</th>\n      <td>...</td>\n    </tr>\n    <tr>\n      <th>201138</th>\n      <td>{'IdBundesland': 16, 'Bundesland': 'Thüringen'...</td>\n    </tr>\n    <tr>\n      <th>201139</th>\n      <td>{'IdBundesland': 16, 'Bundesland': 'Thüringen'...</td>\n    </tr>\n  </tbody>\n</table>\n<p>201140 rows × 1 columns</p>\n</div>"
     },
     "metadata": {}
    }
   ],
   "source": [
    "dfx = pd.DataFrame.from_dict(data['features'])\n",
    "display_n(dfx, 2)"
   ]
  },
  {
   "cell_type": "code",
   "execution_count": 13,
   "metadata": {},
   "outputs": [
    {
     "output_type": "display_data",
     "data": {
      "text/plain": "        IdBundesland          Bundesland            Landkreis Altersgruppe  \\\n0                  1  Schleswig-Holstein         SK Flensburg      A00-A04   \n1                  1  Schleswig-Holstein         SK Flensburg      A05-A14   \n...              ...                 ...                  ...          ...   \n201138            16           Thüringen  LK Altenburger Land         A80+   \n201139            16           Thüringen  LK Altenburger Land         A80+   \n\n        AnzahlFall  AnzahlTodesfall  ObjectId     Meldedatum IdLandkreis  \\\n0                1                0  33350699  1598227200000       01001   \n1                1                0  33350700  1597449600000       01001   \n...            ...              ...       ...            ...         ...   \n201138           2                0  33551885  1590624000000       16077   \n201139           1                0  33551886  1591660800000       16077   \n\n                   Datenstand  NeuerFall  NeuerTodesfall       Refdatum  \\\n0       06.09.2020, 00:00 Uhr          0              -9  1598227200000   \n1       06.09.2020, 00:00 Uhr          0              -9  1597449600000   \n...                       ...        ...             ...            ...   \n201138  06.09.2020, 00:00 Uhr          0              -9  1590624000000   \n201139  06.09.2020, 00:00 Uhr          0              -9  1591660800000   \n\n        NeuGenesen  AnzahlGenesen  IstErkrankungsbeginn  \n0               -9              0                     0  \n1                0              1                     0  \n...            ...            ...                   ...  \n201138           0              2                     0  \n201139           0              1                     0  \n\n[201140 rows x 16 columns]",
      "text/html": "<div>\n<style scoped>\n    .dataframe tbody tr th:only-of-type {\n        vertical-align: middle;\n    }\n\n    .dataframe tbody tr th {\n        vertical-align: top;\n    }\n\n    .dataframe thead th {\n        text-align: right;\n    }\n</style>\n<table border=\"1\" class=\"dataframe\">\n  <thead>\n    <tr style=\"text-align: right;\">\n      <th></th>\n      <th>IdBundesland</th>\n      <th>Bundesland</th>\n      <th>Landkreis</th>\n      <th>Altersgruppe</th>\n      <th>AnzahlFall</th>\n      <th>AnzahlTodesfall</th>\n      <th>ObjectId</th>\n      <th>Meldedatum</th>\n      <th>IdLandkreis</th>\n      <th>Datenstand</th>\n      <th>NeuerFall</th>\n      <th>NeuerTodesfall</th>\n      <th>Refdatum</th>\n      <th>NeuGenesen</th>\n      <th>AnzahlGenesen</th>\n      <th>IstErkrankungsbeginn</th>\n    </tr>\n  </thead>\n  <tbody>\n    <tr>\n      <th>0</th>\n      <td>1</td>\n      <td>Schleswig-Holstein</td>\n      <td>SK Flensburg</td>\n      <td>A00-A04</td>\n      <td>1</td>\n      <td>0</td>\n      <td>33350699</td>\n      <td>1598227200000</td>\n      <td>01001</td>\n      <td>06.09.2020, 00:00 Uhr</td>\n      <td>0</td>\n      <td>-9</td>\n      <td>1598227200000</td>\n      <td>-9</td>\n      <td>0</td>\n      <td>0</td>\n    </tr>\n    <tr>\n      <th>1</th>\n      <td>1</td>\n      <td>Schleswig-Holstein</td>\n      <td>SK Flensburg</td>\n      <td>A05-A14</td>\n      <td>1</td>\n      <td>0</td>\n      <td>33350700</td>\n      <td>1597449600000</td>\n      <td>01001</td>\n      <td>06.09.2020, 00:00 Uhr</td>\n      <td>0</td>\n      <td>-9</td>\n      <td>1597449600000</td>\n      <td>0</td>\n      <td>1</td>\n      <td>0</td>\n    </tr>\n    <tr>\n      <th>...</th>\n      <td>...</td>\n      <td>...</td>\n      <td>...</td>\n      <td>...</td>\n      <td>...</td>\n      <td>...</td>\n      <td>...</td>\n      <td>...</td>\n      <td>...</td>\n      <td>...</td>\n      <td>...</td>\n      <td>...</td>\n      <td>...</td>\n      <td>...</td>\n      <td>...</td>\n      <td>...</td>\n    </tr>\n    <tr>\n      <th>201138</th>\n      <td>16</td>\n      <td>Thüringen</td>\n      <td>LK Altenburger Land</td>\n      <td>A80+</td>\n      <td>2</td>\n      <td>0</td>\n      <td>33551885</td>\n      <td>1590624000000</td>\n      <td>16077</td>\n      <td>06.09.2020, 00:00 Uhr</td>\n      <td>0</td>\n      <td>-9</td>\n      <td>1590624000000</td>\n      <td>0</td>\n      <td>2</td>\n      <td>0</td>\n    </tr>\n    <tr>\n      <th>201139</th>\n      <td>16</td>\n      <td>Thüringen</td>\n      <td>LK Altenburger Land</td>\n      <td>A80+</td>\n      <td>1</td>\n      <td>0</td>\n      <td>33551886</td>\n      <td>1591660800000</td>\n      <td>16077</td>\n      <td>06.09.2020, 00:00 Uhr</td>\n      <td>0</td>\n      <td>-9</td>\n      <td>1591660800000</td>\n      <td>0</td>\n      <td>1</td>\n      <td>0</td>\n    </tr>\n  </tbody>\n</table>\n<p>201140 rows × 16 columns</p>\n</div>"
     },
     "metadata": {}
    }
   ],
   "source": [
    "# turning the collumn attributes in seperated collumns\n",
    "for rowid in data['fields']:\n",
    "    dfx[rowid['name']] = dfx.apply(lambda row: row.loc['attributes'][rowid['name']], axis=1)\n",
    "dfx = dfx.drop(['attributes'], axis=1)\n",
    "display_n(dfx, 2)"
   ]
  },
  {
   "cell_type": "code",
   "execution_count": 14,
   "metadata": {},
   "outputs": [
    {
     "output_type": "execute_result",
     "data": {
      "text/plain": "'SK Flensburg'"
     },
     "metadata": {},
     "execution_count": 14
    }
   ],
   "source": [
    "data['features'][0]['attributes']['Landkreis']"
   ]
  },
  {
   "cell_type": "code",
   "execution_count": 15,
   "metadata": {},
   "outputs": [],
   "source": [
    "frameByLK = dfx.groupby(['Landkreis', 'IdLandkreis'])['AnzahlFall', 'AnzahlTodesfall', 'AnzahlGenesen'].sum().reset_index().set_index('Landkreis')"
   ]
  },
  {
   "cell_type": "code",
   "execution_count": 16,
   "metadata": {},
   "outputs": [
    {
     "output_type": "execute_result",
     "data": {
      "text/plain": "                     IdLandkreis  AnzahlFall  AnzahlTodesfall  AnzahlGenesen\nLandkreis                                                                   \nLK Ahrweiler               07131         319                2            268\nLK Aichach-Friedberg       09771         451               20            407\nLK Alb-Donau-Kreis         08425         792               26            704\nLK Altenburger Land        16077          98                4             75\nLK Altenkirchen            07132         210               10            187\n...                          ...         ...              ...            ...\nSK Worms                   07319         273                8            250\nSK Wuppertal               05124        1461               86           1256\nSK Würzburg                09663         544               52            450\nSK Zweibrücken             07320          48                1             45\nStadtRegion Aachen         05334        2378              104           2208\n\n[412 rows x 4 columns]",
      "text/html": "<div>\n<style scoped>\n    .dataframe tbody tr th:only-of-type {\n        vertical-align: middle;\n    }\n\n    .dataframe tbody tr th {\n        vertical-align: top;\n    }\n\n    .dataframe thead th {\n        text-align: right;\n    }\n</style>\n<table border=\"1\" class=\"dataframe\">\n  <thead>\n    <tr style=\"text-align: right;\">\n      <th></th>\n      <th>IdLandkreis</th>\n      <th>AnzahlFall</th>\n      <th>AnzahlTodesfall</th>\n      <th>AnzahlGenesen</th>\n    </tr>\n    <tr>\n      <th>Landkreis</th>\n      <th></th>\n      <th></th>\n      <th></th>\n      <th></th>\n    </tr>\n  </thead>\n  <tbody>\n    <tr>\n      <th>LK Ahrweiler</th>\n      <td>07131</td>\n      <td>319</td>\n      <td>2</td>\n      <td>268</td>\n    </tr>\n    <tr>\n      <th>LK Aichach-Friedberg</th>\n      <td>09771</td>\n      <td>451</td>\n      <td>20</td>\n      <td>407</td>\n    </tr>\n    <tr>\n      <th>LK Alb-Donau-Kreis</th>\n      <td>08425</td>\n      <td>792</td>\n      <td>26</td>\n      <td>704</td>\n    </tr>\n    <tr>\n      <th>LK Altenburger Land</th>\n      <td>16077</td>\n      <td>98</td>\n      <td>4</td>\n      <td>75</td>\n    </tr>\n    <tr>\n      <th>LK Altenkirchen</th>\n      <td>07132</td>\n      <td>210</td>\n      <td>10</td>\n      <td>187</td>\n    </tr>\n    <tr>\n      <th>...</th>\n      <td>...</td>\n      <td>...</td>\n      <td>...</td>\n      <td>...</td>\n    </tr>\n    <tr>\n      <th>SK Worms</th>\n      <td>07319</td>\n      <td>273</td>\n      <td>8</td>\n      <td>250</td>\n    </tr>\n    <tr>\n      <th>SK Wuppertal</th>\n      <td>05124</td>\n      <td>1461</td>\n      <td>86</td>\n      <td>1256</td>\n    </tr>\n    <tr>\n      <th>SK Würzburg</th>\n      <td>09663</td>\n      <td>544</td>\n      <td>52</td>\n      <td>450</td>\n    </tr>\n    <tr>\n      <th>SK Zweibrücken</th>\n      <td>07320</td>\n      <td>48</td>\n      <td>1</td>\n      <td>45</td>\n    </tr>\n    <tr>\n      <th>StadtRegion Aachen</th>\n      <td>05334</td>\n      <td>2378</td>\n      <td>104</td>\n      <td>2208</td>\n    </tr>\n  </tbody>\n</table>\n<p>412 rows × 4 columns</p>\n</div>"
     },
     "metadata": {},
     "execution_count": 16
    }
   ],
   "source": [
    "frameByLK"
   ]
  },
  {
   "cell_type": "code",
   "execution_count": 17,
   "metadata": {},
   "outputs": [],
   "source": [
    "frameByLK.to_csv('frameByLK.csv', index=True, encoding='utf-8')"
   ]
  },
  {
   "cell_type": "code",
   "execution_count": 18,
   "metadata": {},
   "outputs": [
    {
     "output_type": "display_data",
     "data": {
      "text/plain": "                           AnzahlFall  AnzahlTodesfall  AnzahlGenesen  acute\nIdLandkreis Refdatum                                                        \n01001       1583798400000           1                0              1      0\n            1583884800000           2                0              2      0\n            1583971200000           3                0              3      0\n...                               ...              ...            ...    ...\n16077       1598659200000          94                4             75     15\n            1598918400000          97                4             75     18\n            1599091200000          98                4             75     19\n\n[44406 rows x 4 columns]",
      "text/html": "<div>\n<style scoped>\n    .dataframe tbody tr th:only-of-type {\n        vertical-align: middle;\n    }\n\n    .dataframe tbody tr th {\n        vertical-align: top;\n    }\n\n    .dataframe thead th {\n        text-align: right;\n    }\n</style>\n<table border=\"1\" class=\"dataframe\">\n  <thead>\n    <tr style=\"text-align: right;\">\n      <th></th>\n      <th></th>\n      <th>AnzahlFall</th>\n      <th>AnzahlTodesfall</th>\n      <th>AnzahlGenesen</th>\n      <th>acute</th>\n    </tr>\n    <tr>\n      <th>IdLandkreis</th>\n      <th>Refdatum</th>\n      <th></th>\n      <th></th>\n      <th></th>\n      <th></th>\n    </tr>\n  </thead>\n  <tbody>\n    <tr>\n      <th rowspan=\"3\" valign=\"top\">01001</th>\n      <th>1583798400000</th>\n      <td>1</td>\n      <td>0</td>\n      <td>1</td>\n      <td>0</td>\n    </tr>\n    <tr>\n      <th>1583884800000</th>\n      <td>2</td>\n      <td>0</td>\n      <td>2</td>\n      <td>0</td>\n    </tr>\n    <tr>\n      <th>1583971200000</th>\n      <td>3</td>\n      <td>0</td>\n      <td>3</td>\n      <td>0</td>\n    </tr>\n    <tr>\n      <th>...</th>\n      <th>...</th>\n      <td>...</td>\n      <td>...</td>\n      <td>...</td>\n      <td>...</td>\n    </tr>\n    <tr>\n      <th rowspan=\"3\" valign=\"top\">16077</th>\n      <th>1598659200000</th>\n      <td>94</td>\n      <td>4</td>\n      <td>75</td>\n      <td>15</td>\n    </tr>\n    <tr>\n      <th>1598918400000</th>\n      <td>97</td>\n      <td>4</td>\n      <td>75</td>\n      <td>18</td>\n    </tr>\n    <tr>\n      <th>1599091200000</th>\n      <td>98</td>\n      <td>4</td>\n      <td>75</td>\n      <td>19</td>\n    </tr>\n  </tbody>\n</table>\n<p>44406 rows × 4 columns</p>\n</div>"
     },
     "metadata": {}
    }
   ],
   "source": [
    "dfx_slim = dfx.drop(columns=['IdBundesland', 'Bundesland', 'ObjectId', 'NeuerFall', 'NeuerTodesfall', 'IstErkrankungsbeginn', 'NeuGenesen', 'Meldedatum', 'Datenstand', 'Landkreis']).groupby(['Refdatum', 'IdLandkreis', 'Altersgruppe']).sum().groupby(['Refdatum', 'IdLandkreis']).sum()\n",
    "dfx_slim = dfx_slim.groupby(['IdLandkreis', 'Refdatum']).sum().groupby(level=[0]).cumsum()\n",
    "dfx_slim['acute'] = dfx_slim['AnzahlFall'] - (dfx_slim['AnzahlTodesfall'] + dfx_slim['AnzahlGenesen'])\n",
    "display_n(dfx_slim, 3)"
   ]
  },
  {
   "cell_type": "code",
   "execution_count": 19,
   "metadata": {},
   "outputs": [],
   "source": [
    "dfx_slim.to_csv('timeFrameByLK.csv', index=True, encoding='utf-8')"
   ]
  },
  {
   "cell_type": "code",
   "execution_count": null,
   "metadata": {},
   "outputs": [],
   "source": []
  }
 ]
}