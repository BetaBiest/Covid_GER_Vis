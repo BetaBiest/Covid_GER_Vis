{
 "metadata": {
  "language_info": {
   "codemirror_mode": {
    "name": "ipython",
    "version": 3
   },
   "file_extension": ".py",
   "mimetype": "text/x-python",
   "name": "python",
   "nbconvert_exporter": "python",
   "pygments_lexer": "ipython3",
   "version": "3.7.6-final"
  },
  "orig_nbformat": 2,
  "kernelspec": {
   "name": "python37664bitac0d5f4ec08e4e2c9866d97442c37502",
   "display_name": "Python 3.7.6 64-bit"
  }
 },
 "nbformat": 4,
 "nbformat_minor": 2,
 "cells": [
  {
   "cell_type": "markdown",
   "metadata": {},
   "source": [
    "# Covid-19 data download & processing\n",
    "---\n",
    "This Python Script downloads an up-to-date dataset for **Covid-19** and exports the data to the data folder.\n",
    "\n",
    "The Data is from the **R**obert **K**och **I**nstitut downloaded over [ArcGis Hub](https://hub.arcgis.com/datasets/dd4580c810204019a7b8eb3e0b329dd6?page=15976).\n",
    "\n",
    "*Script was created on Python: 3.7.6 64-bit Kernel*"
   ]
  },
  {
   "cell_type": "code",
   "execution_count": 1,
   "metadata": {},
   "outputs": [],
   "source": [
    "import pandas as pd\n",
    "import math\n",
    "\n",
    "import io               # file operations\n",
    "import json\n",
    "\n",
    "import ssl              # secure client-server connection\n",
    "import requests         # html-requests"
   ]
  },
  {
   "cell_type": "code",
   "execution_count": 2,
   "metadata": {},
   "outputs": [],
   "source": [
    "# Uncomment next 2 lines to install jsonmerge\n",
    "#import sys\n",
    "#!{sys.executable} -m pip install jsonmerge\n",
    "from jsonmerge import Merger"
   ]
  },
  {
   "cell_type": "code",
   "execution_count": 3,
   "metadata": {},
   "outputs": [],
   "source": [
    "sourceURL = 'https://services7.arcgis.com/mOBPykOjAyBO2ZKk/arcgis/rest/services/RKI_COVID19/FeatureServer/0/query?'\n",
    "objectIdsQuery = 'where=1%3D1&returnIdsOnly=true&f=json'\n",
    "dataSetQuery = 'where=ObjectId+BETWEEN+0+AND+0' # just an example gets created later dynamically\n",
    "dataQuery = '&outSR=4326&outFields=IdBundesland,Bundesland,Landkreis,Altersgruppe,AnzahlFall,AnzahlTodesfall,ObjectId,Meldedatum,IdLandkreis,Datenstand,NeuerFall,NeuerTodesfall,Refdatum,NeuGenesen,AnzahlGenesen,IstErkrankungsbeginn&f=json'"
   ]
  },
  {
   "cell_type": "markdown",
   "metadata": {},
   "source": [
    "## Requesting which Features (ObjectID´s) are available"
   ]
  },
  {
   "cell_type": "code",
   "execution_count": 4,
   "metadata": {},
   "outputs": [
    {
     "output_type": "execute_result",
     "data": {
      "text/plain": [
       "200"
      ]
     },
     "metadata": {},
     "execution_count": 4
    }
   ],
   "source": [
    "objectIdsRequest = requests.get(sourceURL + objectIdsQuery)\n",
    "objectIdsRequest.status_code"
   ]
  },
  {
   "cell_type": "code",
   "execution_count": 5,
   "metadata": {
    "tags": []
   },
   "outputs": [
    {
     "output_type": "stream",
     "name": "stdout",
     "text": [
      "Range of ObjectIds: [45446382, 45729375]\n"
     ]
    }
   ],
   "source": [
    "objectIds = json.loads(objectIdsRequest.text)\n",
    "\n",
    "numOfObjectIds = len(objectIds['objectIds'])\n",
    "\n",
    "objectIdStart = objectIds['objectIds'][0]\n",
    "objectIdEnd = objectIds['objectIds'][numOfObjectIds - 1]\n",
    "print(f'Range of ObjectIds: [{objectIdStart}, {objectIdEnd}]')"
   ]
  },
  {
   "cell_type": "markdown",
   "metadata": {},
   "source": [
    "## Requesting Features"
   ]
  },
  {
   "cell_type": "code",
   "execution_count": 6,
   "metadata": {},
   "outputs": [
    {
     "output_type": "execute_result",
     "data": {
      "text/plain": [
       "200"
      ]
     },
     "metadata": {},
     "execution_count": 6
    }
   ],
   "source": [
    "dataRequest = requests.get(sourceURL + 'where=1%3D1' + dataQuery)\n",
    "dataRequest.status_code"
   ]
  },
  {
   "cell_type": "code",
   "execution_count": 7,
   "metadata": {
    "tags": []
   },
   "outputs": [
    {
     "output_type": "stream",
     "name": "stdout",
     "text": [
      "The download will require 56 more requests due to the server limit of 5000 features/request.\n"
     ]
    }
   ],
   "source": [
    "data = json.loads(dataRequest.text)\n",
    "maxApiRequest = len(data['features'])\n",
    "\n",
    "neededRequests = math.ceil(numOfObjectIds / maxApiRequest)\n",
    "\n",
    "print(f'The download will require {neededRequests - 1} more requests due to the server limit of {maxApiRequest} features/request.')"
   ]
  },
  {
   "cell_type": "code",
   "execution_count": 8,
   "metadata": {},
   "outputs": [],
   "source": [
    "# Json-Merger with custom rule\n",
    "jsonMergeSchema = {\"properties\":{\"features\":{\"mergeStrategy\":\"append\"}}}\n",
    "dataMerger = Merger(jsonMergeSchema)"
   ]
  },
  {
   "cell_type": "code",
   "execution_count": 9,
   "metadata": {
    "tags": []
   },
   "outputs": [
    {
     "output_type": "stream",
     "name": "stdout",
     "text": [
      "0 Pulling ObjectIds: [45451388, 45456388]\n",
      "Total collected features: 10000 From ObjectIds: [45446382, 45456387]\n",
      "1 Pulling ObjectIds: [45456389, 45461389]\n",
      "Total collected features: 15000 From ObjectIds: [45446382, 45461388]\n",
      "2 Pulling ObjectIds: [45461390, 45466390]\n",
      "Total collected features: 20000 From ObjectIds: [45446382, 45466389]\n",
      "3 Pulling ObjectIds: [45466391, 45471391]\n",
      "Total collected features: 25000 From ObjectIds: [45446382, 45471390]\n",
      "4 Pulling ObjectIds: [45471392, 45476392]\n",
      "Total collected features: 30000 From ObjectIds: [45446382, 45476391]\n",
      "5 Pulling ObjectIds: [45476393, 45481393]\n",
      "Total collected features: 35000 From ObjectIds: [45446382, 45481392]\n",
      "6 Pulling ObjectIds: [45481394, 45486394]\n",
      "Total collected features: 40000 From ObjectIds: [45446382, 45486393]\n",
      "7 Pulling ObjectIds: [45486395, 45491395]\n",
      "Total collected features: 45000 From ObjectIds: [45446382, 45491394]\n",
      "8 Pulling ObjectIds: [45491396, 45496396]\n",
      "Total collected features: 50000 From ObjectIds: [45446382, 45496395]\n",
      "9 Pulling ObjectIds: [45496397, 45501397]\n",
      "Total collected features: 55000 From ObjectIds: [45446382, 45501396]\n",
      "10 Pulling ObjectIds: [45501398, 45506398]\n",
      "Total collected features: 60000 From ObjectIds: [45446382, 45506397]\n",
      "11 Pulling ObjectIds: [45506399, 45511399]\n",
      "Total collected features: 65000 From ObjectIds: [45446382, 45511398]\n",
      "12 Pulling ObjectIds: [45511400, 45516400]\n",
      "Total collected features: 70000 From ObjectIds: [45446382, 45516399]\n",
      "13 Pulling ObjectIds: [45516401, 45521401]\n",
      "Total collected features: 75000 From ObjectIds: [45446382, 45521400]\n",
      "14 Pulling ObjectIds: [45521402, 45526402]\n",
      "Total collected features: 80000 From ObjectIds: [45446382, 45526401]\n",
      "15 Pulling ObjectIds: [45526403, 45531403]\n",
      "Total collected features: 85000 From ObjectIds: [45446382, 45531402]\n",
      "16 Pulling ObjectIds: [45531404, 45536404]\n",
      "Total collected features: 90000 From ObjectIds: [45446382, 45536403]\n",
      "17 Pulling ObjectIds: [45536405, 45541405]\n",
      "Total collected features: 95000 From ObjectIds: [45446382, 45541404]\n",
      "18 Pulling ObjectIds: [45541406, 45546406]\n",
      "Total collected features: 100000 From ObjectIds: [45446382, 45546405]\n",
      "19 Pulling ObjectIds: [45546407, 45551407]\n",
      "Total collected features: 105000 From ObjectIds: [45446382, 45551406]\n",
      "20 Pulling ObjectIds: [45551408, 45556408]\n",
      "Total collected features: 110000 From ObjectIds: [45446382, 45556407]\n",
      "21 Pulling ObjectIds: [45556409, 45561409]\n",
      "Total collected features: 115000 From ObjectIds: [45446382, 45561408]\n",
      "22 Pulling ObjectIds: [45561410, 45566410]\n",
      "Total collected features: 120000 From ObjectIds: [45446382, 45566409]\n",
      "23 Pulling ObjectIds: [45566411, 45571411]\n",
      "Total collected features: 125000 From ObjectIds: [45446382, 45571410]\n",
      "24 Pulling ObjectIds: [45571412, 45576412]\n",
      "Total collected features: 130000 From ObjectIds: [45446382, 45576411]\n",
      "25 Pulling ObjectIds: [45576413, 45581413]\n",
      "Total collected features: 135000 From ObjectIds: [45446382, 45581412]\n",
      "26 Pulling ObjectIds: [45581414, 45586414]\n",
      "Total collected features: 140000 From ObjectIds: [45446382, 45586413]\n",
      "27 Pulling ObjectIds: [45586415, 45591415]\n",
      "Total collected features: 145000 From ObjectIds: [45446382, 45591414]\n",
      "28 Pulling ObjectIds: [45591416, 45596416]\n",
      "Total collected features: 150000 From ObjectIds: [45446382, 45596415]\n",
      "29 Pulling ObjectIds: [45596417, 45601417]\n",
      "Total collected features: 155000 From ObjectIds: [45446382, 45601416]\n",
      "30 Pulling ObjectIds: [45601418, 45606418]\n",
      "Total collected features: 160000 From ObjectIds: [45446382, 45606417]\n",
      "31 Pulling ObjectIds: [45606419, 45611419]\n",
      "Total collected features: 165000 From ObjectIds: [45446382, 45611418]\n",
      "32 Pulling ObjectIds: [45611420, 45616420]\n",
      "Total collected features: 170000 From ObjectIds: [45446382, 45616419]\n",
      "33 Pulling ObjectIds: [45616421, 45621421]\n",
      "Total collected features: 175000 From ObjectIds: [45446382, 45621420]\n",
      "34 Pulling ObjectIds: [45621422, 45626422]\n",
      "Total collected features: 180000 From ObjectIds: [45446382, 45626421]\n",
      "35 Pulling ObjectIds: [45626423, 45631423]\n",
      "Total collected features: 185000 From ObjectIds: [45446382, 45631422]\n",
      "36 Pulling ObjectIds: [45631424, 45636424]\n",
      "Total collected features: 190000 From ObjectIds: [45446382, 45636423]\n",
      "37 Pulling ObjectIds: [45636425, 45641425]\n",
      "Total collected features: 195000 From ObjectIds: [45446382, 45641424]\n",
      "38 Pulling ObjectIds: [45641426, 45646426]\n",
      "Total collected features: 200000 From ObjectIds: [45446382, 45646425]\n",
      "39 Pulling ObjectIds: [45646427, 45651427]\n",
      "Total collected features: 205000 From ObjectIds: [45446382, 45651426]\n",
      "40 Pulling ObjectIds: [45651428, 45656428]\n",
      "Total collected features: 210000 From ObjectIds: [45446382, 45656427]\n",
      "41 Pulling ObjectIds: [45656429, 45661429]\n",
      "Total collected features: 215000 From ObjectIds: [45446382, 45661428]\n",
      "42 Pulling ObjectIds: [45661430, 45666430]\n",
      "Total collected features: 220000 From ObjectIds: [45446382, 45666429]\n",
      "43 Pulling ObjectIds: [45666431, 45671431]\n",
      "Total collected features: 225000 From ObjectIds: [45446382, 45671430]\n",
      "44 Pulling ObjectIds: [45671432, 45676432]\n",
      "Total collected features: 230000 From ObjectIds: [45446382, 45676431]\n",
      "45 Pulling ObjectIds: [45676433, 45681433]\n",
      "Total collected features: 235000 From ObjectIds: [45446382, 45681432]\n",
      "46 Pulling ObjectIds: [45681434, 45686434]\n",
      "Total collected features: 240000 From ObjectIds: [45446382, 45686433]\n",
      "47 Pulling ObjectIds: [45686435, 45691435]\n",
      "Total collected features: 245000 From ObjectIds: [45446382, 45691434]\n",
      "48 Pulling ObjectIds: [45691436, 45696436]\n",
      "Total collected features: 250000 From ObjectIds: [45446382, 45696435]\n",
      "49 Pulling ObjectIds: [45696437, 45701437]\n",
      "Total collected features: 255000 From ObjectIds: [45446382, 45701436]\n",
      "50 Pulling ObjectIds: [45701438, 45706438]\n",
      "Total collected features: 260000 From ObjectIds: [45446382, 45706437]\n",
      "51 Pulling ObjectIds: [45706439, 45711439]\n",
      "Total collected features: 265000 From ObjectIds: [45446382, 45711438]\n",
      "52 Pulling ObjectIds: [45711440, 45716440]\n",
      "Total collected features: 270000 From ObjectIds: [45446382, 45716439]\n",
      "53 Pulling ObjectIds: [45716441, 45721441]\n",
      "Total collected features: 275000 From ObjectIds: [45446382, 45721440]\n",
      "54 Pulling ObjectIds: [45721442, 45726442]\n",
      "Total collected features: 280000 From ObjectIds: [45446382, 45726441]\n",
      "55 Pulling ObjectIds: [45726443, 45729375]\n",
      "Total collected features: 282933 From ObjectIds: [45446382, 45729375]\n",
      "Done\n"
     ]
    }
   ],
   "source": [
    "i = 0\n",
    "rangeLowerEnd = data['features'][maxApiRequest - 1]['attributes']['ObjectId'] + 1\n",
    "rangeUpperEnd = rangeLowerEnd + maxApiRequest\n",
    "\n",
    "while (i < neededRequests - 1): # neededRequests - 1 because of initial download\n",
    "    dataSetQuery = f'where=ObjectId+BETWEEN+{rangeLowerEnd}+AND+{rangeUpperEnd}'\n",
    "    temp_sourceURL = sourceURL + dataSetQuery + dataQuery\n",
    "    print(i, f'Pulling ObjectIds: [{rangeLowerEnd}, {rangeUpperEnd}]')\n",
    "\n",
    "    temp_dataRequest = requests.get(temp_sourceURL)\n",
    "    if (temp_dataRequest.status_code > 200): # stop when a request isn´t working\n",
    "        print(f'Error in request: {temp_dataRequest.status_code}')\n",
    "        break\n",
    "    temp_data = json.loads(temp_dataRequest.text)\n",
    "\n",
    "    # append new data to already downloaded one\n",
    "    data = dataMerger.merge(data, temp_data)\n",
    "\n",
    "    temp_dataLength = len(data['features'])\n",
    "    t_le = data['features'][0]['attributes']['ObjectId']\n",
    "    t_ue = data['features'][temp_dataLength - 1]['attributes']['ObjectId']\n",
    "    print(f'Total collected features: {temp_dataLength} From ObjectIds: [{t_le}, {t_ue}]')\n",
    "\n",
    "    rangeLowerEnd = rangeUpperEnd + 1\n",
    "    rangeUpperEnd += maxApiRequest + 1\n",
    "    if (rangeUpperEnd > objectIdEnd):\n",
    "        rangeUpperEnd = objectIdEnd\n",
    "    i += 1\n",
    "\n",
    "print('Done')"
   ]
  },
  {
   "cell_type": "code",
   "execution_count": 10,
   "metadata": {
    "tags": []
   },
   "outputs": [
    {
     "output_type": "stream",
     "name": "stdout",
     "text": [
      "Entries:  282933\nStructure:  {'attributes': {'IdBundesland': 1, 'Bundesland': 'Schleswig-Holstein', 'Landkreis': 'SK Flensburg', 'Altersgruppe': 'A00-A04', 'AnzahlFall': 1, 'AnzahlTodesfall': 0, 'ObjectId': 45446382, 'Meldedatum': 1601424000000, 'IdLandkreis': '01001', 'Datenstand': '20.10.2020, 00:00 Uhr', 'NeuerFall': 0, 'NeuerTodesfall': -9, 'Refdatum': 1601424000000, 'NeuGenesen': 0, 'AnzahlGenesen': 1, 'IstErkrankungsbeginn': 0}}\nLatest data:  20.10.2020, 00:00 Uhr\n"
     ]
    }
   ],
   "source": [
    "print('Entries: ', len(data['features']))\n",
    "print('Structure: ', data['features'][0])\n",
    "print('Latest data: ', data['features'][0]['attributes']['Datenstand'])"
   ]
  },
  {
   "cell_type": "code",
   "execution_count": 11,
   "metadata": {},
   "outputs": [],
   "source": [
    "def display_n(df,n): \n",
    "    with pd.option_context('display.max_rows',n*2):\n",
    "        display(df)"
   ]
  },
  {
   "cell_type": "code",
   "execution_count": 12,
   "metadata": {},
   "outputs": [
    {
     "output_type": "display_data",
     "data": {
      "text/plain": "                                               attributes\n0       {'IdBundesland': 1, 'Bundesland': 'Schleswig-H...\n1       {'IdBundesland': 1, 'Bundesland': 'Schleswig-H...\n...                                                   ...\n282931  {'IdBundesland': 16, 'Bundesland': 'Thüringen'...\n282932  {'IdBundesland': 16, 'Bundesland': 'Thüringen'...\n\n[282933 rows x 1 columns]",
      "text/html": "<div>\n<style scoped>\n    .dataframe tbody tr th:only-of-type {\n        vertical-align: middle;\n    }\n\n    .dataframe tbody tr th {\n        vertical-align: top;\n    }\n\n    .dataframe thead th {\n        text-align: right;\n    }\n</style>\n<table border=\"1\" class=\"dataframe\">\n  <thead>\n    <tr style=\"text-align: right;\">\n      <th></th>\n      <th>attributes</th>\n    </tr>\n  </thead>\n  <tbody>\n    <tr>\n      <th>0</th>\n      <td>{'IdBundesland': 1, 'Bundesland': 'Schleswig-H...</td>\n    </tr>\n    <tr>\n      <th>1</th>\n      <td>{'IdBundesland': 1, 'Bundesland': 'Schleswig-H...</td>\n    </tr>\n    <tr>\n      <th>...</th>\n      <td>...</td>\n    </tr>\n    <tr>\n      <th>282931</th>\n      <td>{'IdBundesland': 16, 'Bundesland': 'Thüringen'...</td>\n    </tr>\n    <tr>\n      <th>282932</th>\n      <td>{'IdBundesland': 16, 'Bundesland': 'Thüringen'...</td>\n    </tr>\n  </tbody>\n</table>\n<p>282933 rows × 1 columns</p>\n</div>"
     },
     "metadata": {}
    }
   ],
   "source": [
    "dfx = pd.DataFrame.from_dict(data['features'])\n",
    "display_n(dfx, 2)"
   ]
  },
  {
   "cell_type": "code",
   "execution_count": 13,
   "metadata": {},
   "outputs": [
    {
     "output_type": "display_data",
     "data": {
      "text/plain": "        IdBundesland          Bundesland            Landkreis Altersgruppe  \\\n0                  1  Schleswig-Holstein         SK Flensburg      A00-A04   \n1                  1  Schleswig-Holstein         SK Flensburg      A00-A04   \n...              ...                 ...                  ...          ...   \n282931            16           Thüringen  LK Altenburger Land         A80+   \n282932            16           Thüringen  LK Altenburger Land         A80+   \n\n        AnzahlFall  AnzahlTodesfall  ObjectId     Meldedatum IdLandkreis  \\\n0                1                0  45446382  1601424000000       01001   \n1                1                0  45446383  1598227200000       01001   \n...            ...              ...       ...            ...         ...   \n282931           1                0  45729374  1602979200000       16077   \n282932           1                0  45729375  1603065600000       16077   \n\n                   Datenstand  NeuerFall  NeuerTodesfall       Refdatum  \\\n0       20.10.2020, 00:00 Uhr          0              -9  1601424000000   \n1       20.10.2020, 00:00 Uhr          0              -9  1598227200000   \n...                       ...        ...             ...            ...   \n282931  20.10.2020, 00:00 Uhr          0              -9  1602892800000   \n282932  20.10.2020, 00:00 Uhr          1              -9  1602892800000   \n\n        NeuGenesen  AnzahlGenesen  IstErkrankungsbeginn  \n0                0              1                     0  \n1                0              1                     0  \n...            ...            ...                   ...  \n282931          -9              0                     1  \n282932          -9              0                     1  \n\n[282933 rows x 16 columns]",
      "text/html": "<div>\n<style scoped>\n    .dataframe tbody tr th:only-of-type {\n        vertical-align: middle;\n    }\n\n    .dataframe tbody tr th {\n        vertical-align: top;\n    }\n\n    .dataframe thead th {\n        text-align: right;\n    }\n</style>\n<table border=\"1\" class=\"dataframe\">\n  <thead>\n    <tr style=\"text-align: right;\">\n      <th></th>\n      <th>IdBundesland</th>\n      <th>Bundesland</th>\n      <th>Landkreis</th>\n      <th>Altersgruppe</th>\n      <th>AnzahlFall</th>\n      <th>AnzahlTodesfall</th>\n      <th>ObjectId</th>\n      <th>Meldedatum</th>\n      <th>IdLandkreis</th>\n      <th>Datenstand</th>\n      <th>NeuerFall</th>\n      <th>NeuerTodesfall</th>\n      <th>Refdatum</th>\n      <th>NeuGenesen</th>\n      <th>AnzahlGenesen</th>\n      <th>IstErkrankungsbeginn</th>\n    </tr>\n  </thead>\n  <tbody>\n    <tr>\n      <th>0</th>\n      <td>1</td>\n      <td>Schleswig-Holstein</td>\n      <td>SK Flensburg</td>\n      <td>A00-A04</td>\n      <td>1</td>\n      <td>0</td>\n      <td>45446382</td>\n      <td>1601424000000</td>\n      <td>01001</td>\n      <td>20.10.2020, 00:00 Uhr</td>\n      <td>0</td>\n      <td>-9</td>\n      <td>1601424000000</td>\n      <td>0</td>\n      <td>1</td>\n      <td>0</td>\n    </tr>\n    <tr>\n      <th>1</th>\n      <td>1</td>\n      <td>Schleswig-Holstein</td>\n      <td>SK Flensburg</td>\n      <td>A00-A04</td>\n      <td>1</td>\n      <td>0</td>\n      <td>45446383</td>\n      <td>1598227200000</td>\n      <td>01001</td>\n      <td>20.10.2020, 00:00 Uhr</td>\n      <td>0</td>\n      <td>-9</td>\n      <td>1598227200000</td>\n      <td>0</td>\n      <td>1</td>\n      <td>0</td>\n    </tr>\n    <tr>\n      <th>...</th>\n      <td>...</td>\n      <td>...</td>\n      <td>...</td>\n      <td>...</td>\n      <td>...</td>\n      <td>...</td>\n      <td>...</td>\n      <td>...</td>\n      <td>...</td>\n      <td>...</td>\n      <td>...</td>\n      <td>...</td>\n      <td>...</td>\n      <td>...</td>\n      <td>...</td>\n      <td>...</td>\n    </tr>\n    <tr>\n      <th>282931</th>\n      <td>16</td>\n      <td>Thüringen</td>\n      <td>LK Altenburger Land</td>\n      <td>A80+</td>\n      <td>1</td>\n      <td>0</td>\n      <td>45729374</td>\n      <td>1602979200000</td>\n      <td>16077</td>\n      <td>20.10.2020, 00:00 Uhr</td>\n      <td>0</td>\n      <td>-9</td>\n      <td>1602892800000</td>\n      <td>-9</td>\n      <td>0</td>\n      <td>1</td>\n    </tr>\n    <tr>\n      <th>282932</th>\n      <td>16</td>\n      <td>Thüringen</td>\n      <td>LK Altenburger Land</td>\n      <td>A80+</td>\n      <td>1</td>\n      <td>0</td>\n      <td>45729375</td>\n      <td>1603065600000</td>\n      <td>16077</td>\n      <td>20.10.2020, 00:00 Uhr</td>\n      <td>1</td>\n      <td>-9</td>\n      <td>1602892800000</td>\n      <td>-9</td>\n      <td>0</td>\n      <td>1</td>\n    </tr>\n  </tbody>\n</table>\n<p>282933 rows × 16 columns</p>\n</div>"
     },
     "metadata": {}
    }
   ],
   "source": [
    "# turning the collumn attributes in seperated collumns\n",
    "for rowid in data['fields']:\n",
    "    dfx[rowid['name']] = dfx.apply(lambda row: row.loc['attributes'][rowid['name']], axis=1)\n",
    "dfx = dfx.drop(['attributes'], axis=1)\n",
    "display_n(dfx, 2)"
   ]
  },
  {
   "cell_type": "code",
   "execution_count": 14,
   "metadata": {},
   "outputs": [
    {
     "output_type": "execute_result",
     "data": {
      "text/plain": [
       "'SK Flensburg'"
      ]
     },
     "metadata": {},
     "execution_count": 14
    }
   ],
   "source": [
    "data['features'][0]['attributes']['Landkreis']"
   ]
  },
  {
   "cell_type": "code",
   "execution_count": 15,
   "metadata": {},
   "outputs": [],
   "source": [
    "frameByLK = dfx.groupby(['Landkreis', 'IdLandkreis'])['AnzahlFall', 'AnzahlTodesfall', 'AnzahlGenesen'].sum().reset_index().set_index('Landkreis')"
   ]
  },
  {
   "cell_type": "code",
   "execution_count": 16,
   "metadata": {},
   "outputs": [
    {
     "output_type": "execute_result",
     "data": {
      "text/plain": [
       "                     IdLandkreis  AnzahlFall  AnzahlTodesfall  AnzahlGenesen\n",
       "Landkreis                                                                   \n",
       "LK Ahrweiler               07131         429                3            372\n",
       "LK Aichach-Friedberg       09771         617               20            507\n",
       "LK Alb-Donau-Kreis         08425        1137               26            901\n",
       "LK Altenburger Land        16077         142                4            110\n",
       "LK Altenkirchen            07132         391               12            261\n",
       "...                          ...         ...              ...            ...\n",
       "SK Worms                   07319         368                8            335\n",
       "SK Wuppertal               05124        2419               88           1851\n",
       "SK Würzburg                09663         931               52            713\n",
       "SK Zweibrücken             07320          95                1             70\n",
       "StadtRegion Aachen         05334        3776              111           2950\n",
       "\n",
       "[413 rows x 4 columns]"
      ],
      "text/html": "<div>\n<style scoped>\n    .dataframe tbody tr th:only-of-type {\n        vertical-align: middle;\n    }\n\n    .dataframe tbody tr th {\n        vertical-align: top;\n    }\n\n    .dataframe thead th {\n        text-align: right;\n    }\n</style>\n<table border=\"1\" class=\"dataframe\">\n  <thead>\n    <tr style=\"text-align: right;\">\n      <th></th>\n      <th>IdLandkreis</th>\n      <th>AnzahlFall</th>\n      <th>AnzahlTodesfall</th>\n      <th>AnzahlGenesen</th>\n    </tr>\n    <tr>\n      <th>Landkreis</th>\n      <th></th>\n      <th></th>\n      <th></th>\n      <th></th>\n    </tr>\n  </thead>\n  <tbody>\n    <tr>\n      <th>LK Ahrweiler</th>\n      <td>07131</td>\n      <td>429</td>\n      <td>3</td>\n      <td>372</td>\n    </tr>\n    <tr>\n      <th>LK Aichach-Friedberg</th>\n      <td>09771</td>\n      <td>617</td>\n      <td>20</td>\n      <td>507</td>\n    </tr>\n    <tr>\n      <th>LK Alb-Donau-Kreis</th>\n      <td>08425</td>\n      <td>1137</td>\n      <td>26</td>\n      <td>901</td>\n    </tr>\n    <tr>\n      <th>LK Altenburger Land</th>\n      <td>16077</td>\n      <td>142</td>\n      <td>4</td>\n      <td>110</td>\n    </tr>\n    <tr>\n      <th>LK Altenkirchen</th>\n      <td>07132</td>\n      <td>391</td>\n      <td>12</td>\n      <td>261</td>\n    </tr>\n    <tr>\n      <th>...</th>\n      <td>...</td>\n      <td>...</td>\n      <td>...</td>\n      <td>...</td>\n    </tr>\n    <tr>\n      <th>SK Worms</th>\n      <td>07319</td>\n      <td>368</td>\n      <td>8</td>\n      <td>335</td>\n    </tr>\n    <tr>\n      <th>SK Wuppertal</th>\n      <td>05124</td>\n      <td>2419</td>\n      <td>88</td>\n      <td>1851</td>\n    </tr>\n    <tr>\n      <th>SK Würzburg</th>\n      <td>09663</td>\n      <td>931</td>\n      <td>52</td>\n      <td>713</td>\n    </tr>\n    <tr>\n      <th>SK Zweibrücken</th>\n      <td>07320</td>\n      <td>95</td>\n      <td>1</td>\n      <td>70</td>\n    </tr>\n    <tr>\n      <th>StadtRegion Aachen</th>\n      <td>05334</td>\n      <td>3776</td>\n      <td>111</td>\n      <td>2950</td>\n    </tr>\n  </tbody>\n</table>\n<p>413 rows × 4 columns</p>\n</div>"
     },
     "metadata": {},
     "execution_count": 16
    }
   ],
   "source": [
    "frameByLK"
   ]
  },
  {
   "cell_type": "code",
   "execution_count": 17,
   "metadata": {},
   "outputs": [],
   "source": [
    "frameByLK.to_csv('frameByLK.csv', index=True, encoding='utf-8')"
   ]
  },
  {
   "cell_type": "code",
   "execution_count": 18,
   "metadata": {},
   "outputs": [
    {
     "output_type": "display_data",
     "data": {
      "text/plain": "                           AnzahlFall  AnzahlTodesfall  AnzahlGenesen  acute\nIdLandkreis Refdatum                                                        \n01001       1583798400000           1                0              1      0\n            1583884800000           2                0              2      0\n            1583971200000           3                0              3      0\n...                               ...              ...            ...    ...\n16077       1602806400000         135                4            110     21\n            1602892800000         140                4            110     26\n            1603065600000         142                4            110     28\n\n[59353 rows x 4 columns]",
      "text/html": "<div>\n<style scoped>\n    .dataframe tbody tr th:only-of-type {\n        vertical-align: middle;\n    }\n\n    .dataframe tbody tr th {\n        vertical-align: top;\n    }\n\n    .dataframe thead th {\n        text-align: right;\n    }\n</style>\n<table border=\"1\" class=\"dataframe\">\n  <thead>\n    <tr style=\"text-align: right;\">\n      <th></th>\n      <th></th>\n      <th>AnzahlFall</th>\n      <th>AnzahlTodesfall</th>\n      <th>AnzahlGenesen</th>\n      <th>acute</th>\n    </tr>\n    <tr>\n      <th>IdLandkreis</th>\n      <th>Refdatum</th>\n      <th></th>\n      <th></th>\n      <th></th>\n      <th></th>\n    </tr>\n  </thead>\n  <tbody>\n    <tr>\n      <th rowspan=\"3\" valign=\"top\">01001</th>\n      <th>1583798400000</th>\n      <td>1</td>\n      <td>0</td>\n      <td>1</td>\n      <td>0</td>\n    </tr>\n    <tr>\n      <th>1583884800000</th>\n      <td>2</td>\n      <td>0</td>\n      <td>2</td>\n      <td>0</td>\n    </tr>\n    <tr>\n      <th>1583971200000</th>\n      <td>3</td>\n      <td>0</td>\n      <td>3</td>\n      <td>0</td>\n    </tr>\n    <tr>\n      <th>...</th>\n      <th>...</th>\n      <td>...</td>\n      <td>...</td>\n      <td>...</td>\n      <td>...</td>\n    </tr>\n    <tr>\n      <th rowspan=\"3\" valign=\"top\">16077</th>\n      <th>1602806400000</th>\n      <td>135</td>\n      <td>4</td>\n      <td>110</td>\n      <td>21</td>\n    </tr>\n    <tr>\n      <th>1602892800000</th>\n      <td>140</td>\n      <td>4</td>\n      <td>110</td>\n      <td>26</td>\n    </tr>\n    <tr>\n      <th>1603065600000</th>\n      <td>142</td>\n      <td>4</td>\n      <td>110</td>\n      <td>28</td>\n    </tr>\n  </tbody>\n</table>\n<p>59353 rows × 4 columns</p>\n</div>"
     },
     "metadata": {}
    }
   ],
   "source": [
    "dfx_slim = dfx.drop(columns=['IdBundesland', 'Bundesland', 'ObjectId', 'NeuerFall', 'NeuerTodesfall', 'IstErkrankungsbeginn', 'NeuGenesen', 'Meldedatum', 'Datenstand', 'Landkreis']).groupby(['Refdatum', 'IdLandkreis', 'Altersgruppe']).sum().groupby(['Refdatum', 'IdLandkreis']).sum()\n",
    "dfx_slim = dfx_slim.groupby(['IdLandkreis', 'Refdatum']).sum().groupby(level=[0]).cumsum()\n",
    "dfx_slim['acute'] = dfx_slim['AnzahlFall'] - (dfx_slim['AnzahlTodesfall'] + dfx_slim['AnzahlGenesen'])\n",
    "display_n(dfx_slim, 3)"
   ]
  },
  {
   "cell_type": "code",
   "execution_count": 19,
   "metadata": {},
   "outputs": [],
   "source": [
    "dfx_slim.to_csv('timeFrameByLK.csv', index=True, encoding='utf-8')"
   ]
  },
  {
   "cell_type": "code",
   "execution_count": null,
   "metadata": {},
   "outputs": [],
   "source": []
  }
 ]
}