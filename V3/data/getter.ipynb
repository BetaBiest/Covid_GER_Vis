{
 "metadata": {
  "language_info": {
   "codemirror_mode": {
    "name": "ipython",
    "version": 3
   },
   "file_extension": ".py",
   "mimetype": "text/x-python",
   "name": "python",
   "nbconvert_exporter": "python",
   "pygments_lexer": "ipython3",
   "version": "3.7.6-final"
  },
  "orig_nbformat": 2,
  "kernelspec": {
   "name": "python37664bitac0d5f4ec08e4e2c9866d97442c37502",
   "display_name": "Python 3.7.6 64-bit"
  }
 },
 "nbformat": 4,
 "nbformat_minor": 2,
 "cells": [
  {
   "cell_type": "markdown",
   "metadata": {},
   "source": [
    "# Covid-19 data download & processing\n",
    "---\n",
    "This Python Script downloads an up-to-date dataset for **Covid-19** and exports the data to the data folder.\n",
    "\n",
    "The Data is from the **R**obert **K**och **I**nstitut downloaded over [ArcGis Hub](https://hub.arcgis.com/datasets/dd4580c810204019a7b8eb3e0b329dd6?page=15976).\n",
    "\n",
    "*Script was created on Python: 3.7.6 64-bit Kernel*"
   ]
  },
  {
   "cell_type": "code",
   "execution_count": 17,
   "metadata": {},
   "outputs": [],
   "source": [
    "import pandas as pd\n",
    "import math\n",
    "\n",
    "import io               # file operations\n",
    "import json\n",
    "\n",
    "import ssl              # secure client-server connection\n",
    "import requests         # html-requests"
   ]
  },
  {
   "cell_type": "code",
   "execution_count": 18,
   "metadata": {},
   "outputs": [],
   "source": [
    "# Uncomment next 2 lines to install jsonmerge\n",
    "#import sys\n",
    "#!{sys.executable} -m pip install jsonmerge\n",
    "from jsonmerge import Merger"
   ]
  },
  {
   "cell_type": "code",
   "execution_count": 19,
   "metadata": {},
   "outputs": [],
   "source": [
    "sourceURL = 'https://services7.arcgis.com/mOBPykOjAyBO2ZKk/arcgis/rest/services/RKI_COVID19/FeatureServer/0/query?'\n",
    "objectIdsQuery = 'where=1%3D1&returnIdsOnly=true&f=json'\n",
    "dataSetQuery = 'where=ObjectId+BETWEEN+0+AND+0' # just an example gets created later dynamically\n",
    "dataQuery = '&outSR=4326&outFields=IdBundesland,Bundesland,Landkreis,Altersgruppe,AnzahlFall,AnzahlTodesfall,ObjectId,Meldedatum,IdLandkreis,Datenstand,NeuerFall,NeuerTodesfall,Refdatum,NeuGenesen,AnzahlGenesen,IstErkrankungsbeginn&f=json'"
   ]
  },
  {
   "cell_type": "markdown",
   "metadata": {},
   "source": [
    "## Requesting which Features (ObjectID´s) are available"
   ]
  },
  {
   "cell_type": "code",
   "execution_count": 20,
   "metadata": {},
   "outputs": [
    {
     "output_type": "execute_result",
     "data": {
      "text/plain": "200"
     },
     "metadata": {},
     "execution_count": 20
    }
   ],
   "source": [
    "objectIdsRequest = requests.get(sourceURL + objectIdsQuery)\n",
    "objectIdsRequest.status_code"
   ]
  },
  {
   "cell_type": "code",
   "execution_count": 21,
   "metadata": {
    "tags": []
   },
   "outputs": [
    {
     "output_type": "stream",
     "name": "stdout",
     "text": "Range of ObjectIds: [29068509, 29251641]\n"
    }
   ],
   "source": [
    "objectIds = json.loads(objectIdsRequest.text)\n",
    "\n",
    "numOfObjectIds = len(objectIds['objectIds'])\n",
    "\n",
    "objectIdStart = objectIds['objectIds'][0]\n",
    "objectIdEnd = objectIds['objectIds'][numOfObjectIds - 1]\n",
    "print(f'Range of ObjectIds: [{objectIdStart}, {objectIdEnd}]')"
   ]
  },
  {
   "cell_type": "markdown",
   "metadata": {},
   "source": [
    "## Requesting Features"
   ]
  },
  {
   "cell_type": "code",
   "execution_count": 22,
   "metadata": {},
   "outputs": [
    {
     "output_type": "execute_result",
     "data": {
      "text/plain": "200"
     },
     "metadata": {},
     "execution_count": 22
    }
   ],
   "source": [
    "dataRequest = requests.get(sourceURL + 'where=1%3D1' + dataQuery)\n",
    "dataRequest.status_code"
   ]
  },
  {
   "cell_type": "code",
   "execution_count": 23,
   "metadata": {
    "tags": []
   },
   "outputs": [
    {
     "output_type": "stream",
     "name": "stdout",
     "text": "The download will require 36 more requests due to the server limit of 5000 features/request.\n"
    }
   ],
   "source": [
    "data = json.loads(dataRequest.text)\n",
    "maxApiRequest = len(data['features'])\n",
    "\n",
    "neededRequests = math.ceil(numOfObjectIds / maxApiRequest)\n",
    "\n",
    "print(f'The download will require {neededRequests - 1} more requests due to the server limit of {maxApiRequest} features/request.')"
   ]
  },
  {
   "cell_type": "code",
   "execution_count": 24,
   "metadata": {},
   "outputs": [],
   "source": [
    "# Json-Merger with custom rule\n",
    "jsonMergeSchema = {\"properties\":{\"features\":{\"mergeStrategy\":\"append\"}}}\n",
    "dataMerger = Merger(jsonMergeSchema)"
   ]
  },
  {
   "cell_type": "code",
   "execution_count": 25,
   "metadata": {
    "tags": []
   },
   "outputs": [
    {
     "output_type": "stream",
     "name": "stdout",
     "text": "0 Pulling ObjectIds: [29073509, 29078509]\nTotal collected features: 10000 From ObjectIds: [29068509, 29078508]\n1 Pulling ObjectIds: [29078510, 29083510]\nTotal collected features: 15000 From ObjectIds: [29068509, 29083509]\n2 Pulling ObjectIds: [29083511, 29088511]\nTotal collected features: 20000 From ObjectIds: [29068509, 29088510]\n3 Pulling ObjectIds: [29088512, 29093512]\nTotal collected features: 25000 From ObjectIds: [29068509, 29093511]\n4 Pulling ObjectIds: [29093513, 29098513]\nTotal collected features: 30000 From ObjectIds: [29068509, 29098512]\n5 Pulling ObjectIds: [29098514, 29103514]\nTotal collected features: 35000 From ObjectIds: [29068509, 29103513]\n6 Pulling ObjectIds: [29103515, 29108515]\nTotal collected features: 40000 From ObjectIds: [29068509, 29108514]\n7 Pulling ObjectIds: [29108516, 29113516]\nTotal collected features: 45000 From ObjectIds: [29068509, 29113515]\n8 Pulling ObjectIds: [29113517, 29118517]\nTotal collected features: 50000 From ObjectIds: [29068509, 29118516]\n9 Pulling ObjectIds: [29118518, 29123518]\nTotal collected features: 55000 From ObjectIds: [29068509, 29123517]\n10 Pulling ObjectIds: [29123519, 29128519]\nTotal collected features: 60000 From ObjectIds: [29068509, 29128518]\n11 Pulling ObjectIds: [29128520, 29133520]\nTotal collected features: 65000 From ObjectIds: [29068509, 29133519]\n12 Pulling ObjectIds: [29133521, 29138521]\nTotal collected features: 70000 From ObjectIds: [29068509, 29138520]\n13 Pulling ObjectIds: [29138522, 29143522]\nTotal collected features: 75000 From ObjectIds: [29068509, 29143521]\n14 Pulling ObjectIds: [29143523, 29148523]\nTotal collected features: 80000 From ObjectIds: [29068509, 29148522]\n15 Pulling ObjectIds: [29148524, 29153524]\nTotal collected features: 85000 From ObjectIds: [29068509, 29153523]\n16 Pulling ObjectIds: [29153525, 29158525]\nTotal collected features: 90000 From ObjectIds: [29068509, 29158524]\n17 Pulling ObjectIds: [29158526, 29163526]\nTotal collected features: 95000 From ObjectIds: [29068509, 29163525]\n18 Pulling ObjectIds: [29163527, 29168527]\nTotal collected features: 100000 From ObjectIds: [29068509, 29168526]\n19 Pulling ObjectIds: [29168528, 29173528]\nTotal collected features: 105000 From ObjectIds: [29068509, 29173527]\n20 Pulling ObjectIds: [29173529, 29178529]\nTotal collected features: 110000 From ObjectIds: [29068509, 29178528]\n21 Pulling ObjectIds: [29178530, 29183530]\nTotal collected features: 115000 From ObjectIds: [29068509, 29183529]\n22 Pulling ObjectIds: [29183531, 29188531]\nTotal collected features: 120000 From ObjectIds: [29068509, 29188530]\n23 Pulling ObjectIds: [29188532, 29193532]\nTotal collected features: 125000 From ObjectIds: [29068509, 29193531]\n24 Pulling ObjectIds: [29193533, 29198533]\nTotal collected features: 130000 From ObjectIds: [29068509, 29198532]\n25 Pulling ObjectIds: [29198534, 29203534]\nTotal collected features: 135000 From ObjectIds: [29068509, 29203533]\n26 Pulling ObjectIds: [29203535, 29208535]\nTotal collected features: 140000 From ObjectIds: [29068509, 29208534]\n27 Pulling ObjectIds: [29208536, 29213536]\nTotal collected features: 145000 From ObjectIds: [29068509, 29213535]\n28 Pulling ObjectIds: [29213537, 29218537]\nTotal collected features: 150000 From ObjectIds: [29068509, 29218536]\n29 Pulling ObjectIds: [29218538, 29223538]\nTotal collected features: 155000 From ObjectIds: [29068509, 29223537]\n30 Pulling ObjectIds: [29223539, 29228539]\nTotal collected features: 160000 From ObjectIds: [29068509, 29228538]\n31 Pulling ObjectIds: [29228540, 29233540]\nTotal collected features: 165000 From ObjectIds: [29068509, 29233539]\n32 Pulling ObjectIds: [29233541, 29238541]\nTotal collected features: 170000 From ObjectIds: [29068509, 29238540]\n33 Pulling ObjectIds: [29238542, 29243542]\nTotal collected features: 175000 From ObjectIds: [29068509, 29243541]\n34 Pulling ObjectIds: [29243543, 29248543]\nTotal collected features: 180000 From ObjectIds: [29068509, 29248542]\n35 Pulling ObjectIds: [29248544, 29251641]\nTotal collected features: 183098 From ObjectIds: [29068509, 29251641]\nDone\n"
    }
   ],
   "source": [
    "i = 0\n",
    "rangeLowerEnd = data['features'][maxApiRequest - 1]['attributes']['ObjectId'] + 1\n",
    "rangeUpperEnd = rangeLowerEnd + maxApiRequest\n",
    "\n",
    "while (i < neededRequests - 1): # neededRequests - 1 because of initial download\n",
    "    dataSetQuery = f'where=ObjectId+BETWEEN+{rangeLowerEnd}+AND+{rangeUpperEnd}'\n",
    "    temp_sourceURL = sourceURL + dataSetQuery + dataQuery\n",
    "    print(i, f'Pulling ObjectIds: [{rangeLowerEnd}, {rangeUpperEnd}]')\n",
    "\n",
    "    temp_dataRequest = requests.get(temp_sourceURL)\n",
    "    if (temp_dataRequest.status_code > 200): # stop when a request isn´t working\n",
    "        print(f'Error in request: {temp_dataRequest.status_code}')\n",
    "        break\n",
    "    temp_data = json.loads(temp_dataRequest.text)\n",
    "\n",
    "    # append new data to already downloaded one\n",
    "    data = dataMerger.merge(data, temp_data)\n",
    "\n",
    "    temp_dataLength = len(data['features'])\n",
    "    t_le = data['features'][0]['attributes']['ObjectId']\n",
    "    t_ue = data['features'][temp_dataLength - 1]['attributes']['ObjectId']\n",
    "    print(f'Total collected features: {temp_dataLength} From ObjectIds: [{t_le}, {t_ue}]')\n",
    "\n",
    "    rangeLowerEnd = rangeUpperEnd + 1\n",
    "    rangeUpperEnd += maxApiRequest + 1\n",
    "    if (rangeUpperEnd > objectIdEnd):\n",
    "        rangeUpperEnd = objectIdEnd\n",
    "    i += 1\n",
    "\n",
    "print('Done')"
   ]
  },
  {
   "cell_type": "code",
   "execution_count": 26,
   "metadata": {
    "tags": []
   },
   "outputs": [
    {
     "output_type": "stream",
     "name": "stdout",
     "text": "Entries:  183098\nStructure:  {'attributes': {'IdBundesland': 1, 'Bundesland': 'Schleswig-Holstein', 'Landkreis': 'SK Flensburg', 'Altersgruppe': 'A05-A14', 'AnzahlFall': 1, 'AnzahlTodesfall': 0, 'ObjectId': 29068509, 'Meldedatum': 1597449600000, 'IdLandkreis': '01001', 'Datenstand': '19.08.2020, 00:00 Uhr', 'NeuerFall': 0, 'NeuerTodesfall': -9, 'Refdatum': 1597449600000, 'NeuGenesen': -9, 'AnzahlGenesen': 0, 'IstErkrankungsbeginn': 0}}\nLatest data:  19.08.2020, 00:00 Uhr\n"
    }
   ],
   "source": [
    "print('Entries: ', len(data['features']))\n",
    "print('Structure: ', data['features'][0])\n",
    "print('Latest data: ', data['features'][0]['attributes']['Datenstand'])"
   ]
  },
  {
   "cell_type": "code",
   "execution_count": 27,
   "metadata": {},
   "outputs": [],
   "source": [
    "def display_n(df,n): \n",
    "    with pd.option_context('display.max_rows',n*2):\n",
    "        display(df)"
   ]
  },
  {
   "cell_type": "code",
   "execution_count": 28,
   "metadata": {},
   "outputs": [
    {
     "output_type": "display_data",
     "data": {
      "text/plain": "                                               attributes\n0       {'IdBundesland': 1, 'Bundesland': 'Schleswig-H...\n1       {'IdBundesland': 1, 'Bundesland': 'Schleswig-H...\n...                                                   ...\n183096  {'IdBundesland': 16, 'Bundesland': 'Thüringen'...\n183097  {'IdBundesland': 16, 'Bundesland': 'Thüringen'...\n\n[183098 rows x 1 columns]",
      "text/html": "<div>\n<style scoped>\n    .dataframe tbody tr th:only-of-type {\n        vertical-align: middle;\n    }\n\n    .dataframe tbody tr th {\n        vertical-align: top;\n    }\n\n    .dataframe thead th {\n        text-align: right;\n    }\n</style>\n<table border=\"1\" class=\"dataframe\">\n  <thead>\n    <tr style=\"text-align: right;\">\n      <th></th>\n      <th>attributes</th>\n    </tr>\n  </thead>\n  <tbody>\n    <tr>\n      <th>0</th>\n      <td>{'IdBundesland': 1, 'Bundesland': 'Schleswig-H...</td>\n    </tr>\n    <tr>\n      <th>1</th>\n      <td>{'IdBundesland': 1, 'Bundesland': 'Schleswig-H...</td>\n    </tr>\n    <tr>\n      <th>...</th>\n      <td>...</td>\n    </tr>\n    <tr>\n      <th>183096</th>\n      <td>{'IdBundesland': 16, 'Bundesland': 'Thüringen'...</td>\n    </tr>\n    <tr>\n      <th>183097</th>\n      <td>{'IdBundesland': 16, 'Bundesland': 'Thüringen'...</td>\n    </tr>\n  </tbody>\n</table>\n<p>183098 rows × 1 columns</p>\n</div>"
     },
     "metadata": {}
    }
   ],
   "source": [
    "dfx = pd.DataFrame.from_dict(data['features'])\n",
    "display_n(dfx, 2)"
   ]
  },
  {
   "cell_type": "code",
   "execution_count": 29,
   "metadata": {},
   "outputs": [
    {
     "output_type": "display_data",
     "data": {
      "text/plain": "        IdBundesland          Bundesland            Landkreis Altersgruppe  \\\n0                  1  Schleswig-Holstein         SK Flensburg      A05-A14   \n1                  1  Schleswig-Holstein         SK Flensburg      A15-A34   \n...              ...                 ...                  ...          ...   \n183096            16           Thüringen  LK Altenburger Land         A80+   \n183097            16           Thüringen  LK Altenburger Land         A80+   \n\n        AnzahlFall  AnzahlTodesfall  ObjectId     Meldedatum IdLandkreis  \\\n0                1                0  29068509  1597449600000       01001   \n1                1                0  29068510  1584144000000       01001   \n...            ...              ...       ...            ...         ...   \n183096           2                0  29251640  1590624000000       16077   \n183097           1                0  29251641  1591660800000       16077   \n\n                   Datenstand  NeuerFall  NeuerTodesfall       Refdatum  \\\n0       19.08.2020, 00:00 Uhr          0              -9  1597449600000   \n1       19.08.2020, 00:00 Uhr          0              -9  1584316800000   \n...                       ...        ...             ...            ...   \n183096  19.08.2020, 00:00 Uhr          0              -9  1590624000000   \n183097  19.08.2020, 00:00 Uhr          0              -9  1591660800000   \n\n        NeuGenesen  AnzahlGenesen  IstErkrankungsbeginn  \n0               -9              0                     0  \n1                0              1                     1  \n...            ...            ...                   ...  \n183096           0              2                     0  \n183097           0              1                     0  \n\n[183098 rows x 16 columns]",
      "text/html": "<div>\n<style scoped>\n    .dataframe tbody tr th:only-of-type {\n        vertical-align: middle;\n    }\n\n    .dataframe tbody tr th {\n        vertical-align: top;\n    }\n\n    .dataframe thead th {\n        text-align: right;\n    }\n</style>\n<table border=\"1\" class=\"dataframe\">\n  <thead>\n    <tr style=\"text-align: right;\">\n      <th></th>\n      <th>IdBundesland</th>\n      <th>Bundesland</th>\n      <th>Landkreis</th>\n      <th>Altersgruppe</th>\n      <th>AnzahlFall</th>\n      <th>AnzahlTodesfall</th>\n      <th>ObjectId</th>\n      <th>Meldedatum</th>\n      <th>IdLandkreis</th>\n      <th>Datenstand</th>\n      <th>NeuerFall</th>\n      <th>NeuerTodesfall</th>\n      <th>Refdatum</th>\n      <th>NeuGenesen</th>\n      <th>AnzahlGenesen</th>\n      <th>IstErkrankungsbeginn</th>\n    </tr>\n  </thead>\n  <tbody>\n    <tr>\n      <th>0</th>\n      <td>1</td>\n      <td>Schleswig-Holstein</td>\n      <td>SK Flensburg</td>\n      <td>A05-A14</td>\n      <td>1</td>\n      <td>0</td>\n      <td>29068509</td>\n      <td>1597449600000</td>\n      <td>01001</td>\n      <td>19.08.2020, 00:00 Uhr</td>\n      <td>0</td>\n      <td>-9</td>\n      <td>1597449600000</td>\n      <td>-9</td>\n      <td>0</td>\n      <td>0</td>\n    </tr>\n    <tr>\n      <th>1</th>\n      <td>1</td>\n      <td>Schleswig-Holstein</td>\n      <td>SK Flensburg</td>\n      <td>A15-A34</td>\n      <td>1</td>\n      <td>0</td>\n      <td>29068510</td>\n      <td>1584144000000</td>\n      <td>01001</td>\n      <td>19.08.2020, 00:00 Uhr</td>\n      <td>0</td>\n      <td>-9</td>\n      <td>1584316800000</td>\n      <td>0</td>\n      <td>1</td>\n      <td>1</td>\n    </tr>\n    <tr>\n      <th>...</th>\n      <td>...</td>\n      <td>...</td>\n      <td>...</td>\n      <td>...</td>\n      <td>...</td>\n      <td>...</td>\n      <td>...</td>\n      <td>...</td>\n      <td>...</td>\n      <td>...</td>\n      <td>...</td>\n      <td>...</td>\n      <td>...</td>\n      <td>...</td>\n      <td>...</td>\n      <td>...</td>\n    </tr>\n    <tr>\n      <th>183096</th>\n      <td>16</td>\n      <td>Thüringen</td>\n      <td>LK Altenburger Land</td>\n      <td>A80+</td>\n      <td>2</td>\n      <td>0</td>\n      <td>29251640</td>\n      <td>1590624000000</td>\n      <td>16077</td>\n      <td>19.08.2020, 00:00 Uhr</td>\n      <td>0</td>\n      <td>-9</td>\n      <td>1590624000000</td>\n      <td>0</td>\n      <td>2</td>\n      <td>0</td>\n    </tr>\n    <tr>\n      <th>183097</th>\n      <td>16</td>\n      <td>Thüringen</td>\n      <td>LK Altenburger Land</td>\n      <td>A80+</td>\n      <td>1</td>\n      <td>0</td>\n      <td>29251641</td>\n      <td>1591660800000</td>\n      <td>16077</td>\n      <td>19.08.2020, 00:00 Uhr</td>\n      <td>0</td>\n      <td>-9</td>\n      <td>1591660800000</td>\n      <td>0</td>\n      <td>1</td>\n      <td>0</td>\n    </tr>\n  </tbody>\n</table>\n<p>183098 rows × 16 columns</p>\n</div>"
     },
     "metadata": {}
    }
   ],
   "source": [
    "# turning the collumn attributes in seperated collumns\n",
    "for rowid in data['fields']:\n",
    "    dfx[rowid['name']] = dfx.apply(lambda row: row.loc['attributes'][rowid['name']], axis=1)\n",
    "dfx = dfx.drop(['attributes'], axis=1)\n",
    "display_n(dfx, 2)"
   ]
  },
  {
   "cell_type": "code",
   "execution_count": 14,
   "metadata": {},
   "outputs": [
    {
     "output_type": "execute_result",
     "data": {
      "text/plain": "'SK Flensburg'"
     },
     "metadata": {},
     "execution_count": 14
    }
   ],
   "source": [
    "data['features'][0]['attributes']['Landkreis']"
   ]
  },
  {
   "cell_type": "code",
   "execution_count": 14,
   "metadata": {},
   "outputs": [],
   "source": [
    "frameByLK = dfx.groupby(['Landkreis', 'IdLandkreis'])['AnzahlFall', 'AnzahlTodesfall', 'AnzahlGenesen'].sum().reset_index().set_index('Landkreis')"
   ]
  },
  {
   "cell_type": "code",
   "execution_count": 15,
   "metadata": {},
   "outputs": [
    {
     "output_type": "execute_result",
     "data": {
      "text/plain": "                     IdLandkreis  AnzahlFall  AnzahlTodesfall  AnzahlGenesen\nLandkreis                                                                   \nLK Ahrweiler               07131         260                1            231\nLK Aichach-Friedberg       09771         418               20            385\nLK Alb-Donau-Kreis         08425         715               27            658\nLK Altenburger Land        16077          79                4             75\nLK Altenkirchen            07132         197               11            177\n...                          ...         ...              ...            ...\nSK Worms                   07319         244                8            223\nSK Wuppertal               05124        1300               86           1059\nSK Würzburg                09663         507               52            443\nSK Zweibrücken             07320          45                1             43\nStadtRegion Aachen         05334        2229              101           2057\n\n[412 rows x 4 columns]",
      "text/html": "<div>\n<style scoped>\n    .dataframe tbody tr th:only-of-type {\n        vertical-align: middle;\n    }\n\n    .dataframe tbody tr th {\n        vertical-align: top;\n    }\n\n    .dataframe thead th {\n        text-align: right;\n    }\n</style>\n<table border=\"1\" class=\"dataframe\">\n  <thead>\n    <tr style=\"text-align: right;\">\n      <th></th>\n      <th>IdLandkreis</th>\n      <th>AnzahlFall</th>\n      <th>AnzahlTodesfall</th>\n      <th>AnzahlGenesen</th>\n    </tr>\n    <tr>\n      <th>Landkreis</th>\n      <th></th>\n      <th></th>\n      <th></th>\n      <th></th>\n    </tr>\n  </thead>\n  <tbody>\n    <tr>\n      <th>LK Ahrweiler</th>\n      <td>07131</td>\n      <td>260</td>\n      <td>1</td>\n      <td>231</td>\n    </tr>\n    <tr>\n      <th>LK Aichach-Friedberg</th>\n      <td>09771</td>\n      <td>418</td>\n      <td>20</td>\n      <td>385</td>\n    </tr>\n    <tr>\n      <th>LK Alb-Donau-Kreis</th>\n      <td>08425</td>\n      <td>715</td>\n      <td>27</td>\n      <td>658</td>\n    </tr>\n    <tr>\n      <th>LK Altenburger Land</th>\n      <td>16077</td>\n      <td>79</td>\n      <td>4</td>\n      <td>75</td>\n    </tr>\n    <tr>\n      <th>LK Altenkirchen</th>\n      <td>07132</td>\n      <td>197</td>\n      <td>11</td>\n      <td>177</td>\n    </tr>\n    <tr>\n      <th>...</th>\n      <td>...</td>\n      <td>...</td>\n      <td>...</td>\n      <td>...</td>\n    </tr>\n    <tr>\n      <th>SK Worms</th>\n      <td>07319</td>\n      <td>244</td>\n      <td>8</td>\n      <td>223</td>\n    </tr>\n    <tr>\n      <th>SK Wuppertal</th>\n      <td>05124</td>\n      <td>1300</td>\n      <td>86</td>\n      <td>1059</td>\n    </tr>\n    <tr>\n      <th>SK Würzburg</th>\n      <td>09663</td>\n      <td>507</td>\n      <td>52</td>\n      <td>443</td>\n    </tr>\n    <tr>\n      <th>SK Zweibrücken</th>\n      <td>07320</td>\n      <td>45</td>\n      <td>1</td>\n      <td>43</td>\n    </tr>\n    <tr>\n      <th>StadtRegion Aachen</th>\n      <td>05334</td>\n      <td>2229</td>\n      <td>101</td>\n      <td>2057</td>\n    </tr>\n  </tbody>\n</table>\n<p>412 rows × 4 columns</p>\n</div>"
     },
     "metadata": {},
     "execution_count": 15
    }
   ],
   "source": [
    "frameByLK"
   ]
  },
  {
   "cell_type": "code",
   "execution_count": 16,
   "metadata": {},
   "outputs": [],
   "source": [
    "frameByLK.to_csv('frameByLK.csv', index=True, encoding='utf-8')"
   ]
  },
  {
   "cell_type": "code",
   "execution_count": 46,
   "metadata": {},
   "outputs": [
    {
     "output_type": "display_data",
     "data": {
      "text/plain": "                           AnzahlFall  AnzahlTodesfall  AnzahlGenesen  acute\nIdLandkreis Refdatum                                                        \n01001       1583798400000           1                0              1      0\n            1583884800000           2                0              2      0\n            1583971200000           3                0              3      0\n...                               ...              ...            ...    ...\n16077       1593043200000          76                4             72      0\n            1593820800000          77                4             73      0\n            1594771200000          79                4             75      0\n\n[39352 rows x 4 columns]",
      "text/html": "<div>\n<style scoped>\n    .dataframe tbody tr th:only-of-type {\n        vertical-align: middle;\n    }\n\n    .dataframe tbody tr th {\n        vertical-align: top;\n    }\n\n    .dataframe thead th {\n        text-align: right;\n    }\n</style>\n<table border=\"1\" class=\"dataframe\">\n  <thead>\n    <tr style=\"text-align: right;\">\n      <th></th>\n      <th></th>\n      <th>AnzahlFall</th>\n      <th>AnzahlTodesfall</th>\n      <th>AnzahlGenesen</th>\n      <th>acute</th>\n    </tr>\n    <tr>\n      <th>IdLandkreis</th>\n      <th>Refdatum</th>\n      <th></th>\n      <th></th>\n      <th></th>\n      <th></th>\n    </tr>\n  </thead>\n  <tbody>\n    <tr>\n      <th rowspan=\"3\" valign=\"top\">01001</th>\n      <th>1583798400000</th>\n      <td>1</td>\n      <td>0</td>\n      <td>1</td>\n      <td>0</td>\n    </tr>\n    <tr>\n      <th>1583884800000</th>\n      <td>2</td>\n      <td>0</td>\n      <td>2</td>\n      <td>0</td>\n    </tr>\n    <tr>\n      <th>1583971200000</th>\n      <td>3</td>\n      <td>0</td>\n      <td>3</td>\n      <td>0</td>\n    </tr>\n    <tr>\n      <th>...</th>\n      <th>...</th>\n      <td>...</td>\n      <td>...</td>\n      <td>...</td>\n      <td>...</td>\n    </tr>\n    <tr>\n      <th rowspan=\"3\" valign=\"top\">16077</th>\n      <th>1593043200000</th>\n      <td>76</td>\n      <td>4</td>\n      <td>72</td>\n      <td>0</td>\n    </tr>\n    <tr>\n      <th>1593820800000</th>\n      <td>77</td>\n      <td>4</td>\n      <td>73</td>\n      <td>0</td>\n    </tr>\n    <tr>\n      <th>1594771200000</th>\n      <td>79</td>\n      <td>4</td>\n      <td>75</td>\n      <td>0</td>\n    </tr>\n  </tbody>\n</table>\n<p>39352 rows × 4 columns</p>\n</div>"
     },
     "metadata": {}
    }
   ],
   "source": [
    "dfx_slim = dfx.drop(columns=['IdBundesland', 'Bundesland', 'ObjectId', 'NeuerFall', 'NeuerTodesfall', 'IstErkrankungsbeginn', 'NeuGenesen', 'Meldedatum', 'Datenstand', 'Landkreis']).groupby(['Refdatum', 'IdLandkreis', 'Altersgruppe']).sum().groupby(['Refdatum', 'IdLandkreis']).sum()\n",
    "dfx_slim = dfx_slim.groupby(['IdLandkreis', 'Refdatum']).sum().groupby(level=[0]).cumsum()\n",
    "dfx_slim['acute'] = dfx_slim['AnzahlFall'] - (dfx_slim['AnzahlTodesfall'] + dfx_slim['AnzahlGenesen'])\n",
    "display_n(dfx_slim, 3)"
   ]
  },
  {
   "cell_type": "code",
   "execution_count": 47,
   "metadata": {},
   "outputs": [],
   "source": [
    "dfx_slim.to_csv('timeFrameByLK.csv', index=True, encoding='utf-8')"
   ]
  },
  {
   "cell_type": "code",
   "execution_count": null,
   "metadata": {},
   "outputs": [],
   "source": []
  }
 ]
}